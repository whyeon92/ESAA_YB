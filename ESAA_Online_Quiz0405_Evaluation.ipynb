{
  "nbformat": 4,
  "nbformat_minor": 0,
  "metadata": {
    "colab": {
      "provenance": [],
      "include_colab_link": true
    },
    "kernelspec": {
      "name": "python3",
      "display_name": "Python 3"
    },
    "language_info": {
      "name": "python"
    }
  },
  "cells": [
    {
      "cell_type": "markdown",
      "metadata": {
        "id": "view-in-github",
        "colab_type": "text"
      },
      "source": [
        "<a href=\"https://colab.research.google.com/github/whyeon92/ESAA_YB/blob/Online_Quiz/ESAA_Online_Quiz0405_Evaluation.ipynb\" target=\"_parent\"><img src=\"https://colab.research.google.com/assets/colab-badge.svg\" alt=\"Open In Colab\"/></a>"
      ]
    },
    {
      "cell_type": "code",
      "metadata": {
        "id": "4Zqc4O_BfWqZ"
      },
      "source": [
        "# 모듈 및 데이터 로드\n",
        "from sklearn.datasets import load_breast_cancer\n",
        "from sklearn.linear_model import LogisticRegression\n",
        "\n",
        "data = load_breast_cancer()\n",
        "\n",
        "# x, y 데이터 생성\n",
        "X = data.data\n",
        "\n",
        "# 악성을 1, 양성을 0으로\n",
        "y = 1 - data.target\n",
        "\n",
        "# 특징으로 사용할 데이터를 평균으로 구분하는 10개 열로 축소\n",
        "X = X[:, :10]\n",
        "\n",
        "# 로지스틱 회귀 모델 생성\n",
        "model_lor = LogisticRegression(solver = 'lbfgs')\n",
        "model_lor.fit(X,y)\n",
        "y_pred = model_lor.predict(X)"
      ],
      "execution_count": 1,
      "outputs": []
    },
    {
      "cell_type": "code",
      "source": [
        "#밑에서 사용할 평가지표 전부 한번에 임포트\n",
        "from sklearn.metrics import confusion_matrix, accuracy_score, precision_score, recall_score, f1_score, roc_curve, roc_auc_score"
      ],
      "metadata": {
        "id": "FZp8vKLsjgFd"
      },
      "execution_count": 2,
      "outputs": []
    },
    {
      "cell_type": "markdown",
      "metadata": {
        "id": "faoAfc1ZgAcq"
      },
      "source": [
        "* 오차 행렬(혼동 행렬) 생성"
      ]
    },
    {
      "cell_type": "code",
      "metadata": {
        "id": "JdML8YM0gBtu",
        "colab": {
          "base_uri": "https://localhost:8080/"
        },
        "outputId": "653c113e-b848-40ae-acf6-1a6c80b910f2"
      },
      "source": [
        "# 종속 변수와 예측 결과로 혼동 행렬 생성\n",
        "confusion_matrix(y, y_pred)"
      ],
      "execution_count": 3,
      "outputs": [
        {
          "output_type": "execute_result",
          "data": {
            "text/plain": [
              "array([[337,  20],\n",
              "       [ 30, 182]])"
            ]
          },
          "metadata": {},
          "execution_count": 3
        }
      ]
    },
    {
      "cell_type": "markdown",
      "metadata": {
        "id": "xbcK3rT-gFRk"
      },
      "source": [
        "* 정확도"
      ]
    },
    {
      "cell_type": "code",
      "metadata": {
        "id": "NLiXFuYvgI1e",
        "colab": {
          "base_uri": "https://localhost:8080/"
        },
        "outputId": "8d060c6d-d832-416c-f736-01ed3e93b609"
      },
      "source": [
        "accuracy_score(y, y_pred)"
      ],
      "execution_count": 4,
      "outputs": [
        {
          "output_type": "execute_result",
          "data": {
            "text/plain": [
              "0.9121265377855887"
            ]
          },
          "metadata": {},
          "execution_count": 4
        }
      ]
    },
    {
      "cell_type": "markdown",
      "metadata": {
        "id": "UYnVZS9igNNf"
      },
      "source": [
        "* 정밀도"
      ]
    },
    {
      "cell_type": "code",
      "metadata": {
        "id": "j108NueLgMKF",
        "colab": {
          "base_uri": "https://localhost:8080/"
        },
        "outputId": "72049600-43ee-4949-ab6a-cd0ea6e9e7c9"
      },
      "source": [
        "precision_score(y, y_pred)"
      ],
      "execution_count": 5,
      "outputs": [
        {
          "output_type": "execute_result",
          "data": {
            "text/plain": [
              "0.900990099009901"
            ]
          },
          "metadata": {},
          "execution_count": 5
        }
      ]
    },
    {
      "cell_type": "markdown",
      "metadata": {
        "id": "2-MBquNJZOM4"
      },
      "source": [
        "* 재현율"
      ]
    },
    {
      "cell_type": "code",
      "metadata": {
        "id": "uje4ivPvZPwv",
        "colab": {
          "base_uri": "https://localhost:8080/"
        },
        "outputId": "09cef7e2-ed49-4825-ed20-2d4471ccca5a"
      },
      "source": [
        "recall_score(y, y_pred)"
      ],
      "execution_count": 6,
      "outputs": [
        {
          "output_type": "execute_result",
          "data": {
            "text/plain": [
              "0.8584905660377359"
            ]
          },
          "metadata": {},
          "execution_count": 6
        }
      ]
    },
    {
      "cell_type": "markdown",
      "metadata": {
        "id": "Cw1p3yjagUCH"
      },
      "source": [
        "* F1 score"
      ]
    },
    {
      "cell_type": "code",
      "metadata": {
        "id": "hPdtYdoDgYgV",
        "colab": {
          "base_uri": "https://localhost:8080/"
        },
        "outputId": "cf5c7a57-f529-48df-c2f6-e46784c43a8d"
      },
      "source": [
        "f1_score(y, y_pred)"
      ],
      "execution_count": 7,
      "outputs": [
        {
          "output_type": "execute_result",
          "data": {
            "text/plain": [
              "0.8792270531400966"
            ]
          },
          "metadata": {},
          "execution_count": 7
        }
      ]
    },
    {
      "cell_type": "markdown",
      "metadata": {
        "id": "fzwIFsKOW5a1"
      },
      "source": [
        "* 예측 확률(pred_proba) : 0으로 예측할 확률이 0.1보다 크면 y_pred2 에 넣는다 가정."
      ]
    },
    {
      "cell_type": "code",
      "metadata": {
        "id": "nw9dxOiPW40l"
      },
      "source": [
        "from sklearn.preprocessing import Binarizer\n",
        "pred_proba = model_lor.predict_proba(X)[:, 1].reshape(-1, 1)\n",
        "binarizer = Binarizer(threshold = 0.9).fit(pred_proba)\n",
        "y_pred2 = binarizer.transform(pred_proba)"
      ],
      "execution_count": 21,
      "outputs": []
    },
    {
      "cell_type": "code",
      "metadata": {
        "id": "Y-WrHrICYFB1",
        "colab": {
          "base_uri": "https://localhost:8080/"
        },
        "outputId": "1db3e7e5-9dcb-4135-b631-08f6d09c4082"
      },
      "source": [
        "# y과 y_pred2의 혼동행렬, 정확도, 정밀도, 재현율, f1 score 구하기\n",
        "print('혼동행렬 \\n', confusion_matrix(y, y_pred2))\n",
        "print('정확도: ', accuracy_score(y, y_pred2))\n",
        "print('정밀도: ', precision_score(y, y_pred2))\n",
        "print('재현율: ', recall_score(y, y_pred2))\n",
        "print('f1 score: ', f1_score(y, y_pred2))"
      ],
      "execution_count": 23,
      "outputs": [
        {
          "output_type": "stream",
          "name": "stdout",
          "text": [
            "혼동행렬 \n",
            " [[356   1]\n",
            " [ 73 139]]\n",
            "정확도:  0.8699472759226714\n",
            "정밀도:  0.9928571428571429\n",
            "재현율:  0.6556603773584906\n",
            "f1 score:  0.7897727272727273\n"
          ]
        }
      ]
    },
    {
      "cell_type": "markdown",
      "metadata": {
        "id": "itgf_OjsjU-R"
      },
      "source": [
        "* ROC 곡선 시각화"
      ]
    },
    {
      "cell_type": "code",
      "metadata": {
        "id": "DW75xBokjXKy"
      },
      "source": [
        "from sklearn.metrics import roc_curve\n",
        "import matplotlib.pyplot as plt\n",
        "import numpy as np"
      ],
      "execution_count": null,
      "outputs": []
    },
    {
      "cell_type": "code",
      "source": [
        "pred_proba_c1 = model_lor.predict_proba(X)[:, 1]\n",
        "fprs, tprs, thresholds = roc_curve(y, pred_proba_c1)\n",
        "plt.plot(fprs, tprs, label = 'ROC')\n",
        "plt.plot([0, 1], [0, 1], 'k--', label = 'Random')\n",
        "start, end = plt.xlim()\n",
        "plt.xticks(np.round(np.arange(start, end, 0.1), 2))\n",
        "plt.xlim(0, 1);plt.ylim(0, 1)\n",
        "plt.xlabel('FPR( 1 - Sensitivity )');plt.ylabel('TPR( Recall )')\n",
        "plt.legend()"
      ],
      "metadata": {
        "colab": {
          "base_uri": "https://localhost:8080/",
          "height": 473
        },
        "id": "r7AUQaFrptUI",
        "outputId": "d36a09a2-da40-4429-95b7-3010838029e4"
      },
      "execution_count": 20,
      "outputs": [
        {
          "output_type": "execute_result",
          "data": {
            "text/plain": [
              "<matplotlib.legend.Legend at 0x7a6a5b3d0610>"
            ]
          },
          "metadata": {},
          "execution_count": 20
        },
        {
          "output_type": "display_data",
          "data": {
            "text/plain": [
              "<Figure size 640x480 with 1 Axes>"
            ],
            "image/png": "[encoded data removed]"
          },
          "metadata": {}
        }
      ]
    },
    {
      "cell_type": "markdown",
      "metadata": {
        "id": "fL4as0YsWYD7"
      },
      "source": [
        "* ROC AUC 값"
      ]
    },
    {
      "cell_type": "code",
      "metadata": {
        "id": "-SEElVZTWaVp",
        "colab": {
          "base_uri": "https://localhost:8080/"
        },
        "outputId": "fc82e1e3-fbf5-448c-d19d-9f0479447454"
      },
      "source": [
        "roc_auc_score(y, y_pred)"
      ],
      "execution_count": 14,
      "outputs": [
        {
          "output_type": "execute_result",
          "data": {
            "text/plain": [
              "0.9012340785370753"
            ]
          },
          "metadata": {},
          "execution_count": 14
        }
      ]
    }
  ]
}