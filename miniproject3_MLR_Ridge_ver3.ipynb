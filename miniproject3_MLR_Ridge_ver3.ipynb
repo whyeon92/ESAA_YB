{
  "nbformat": 4,
  "nbformat_minor": 0,
  "metadata": {
    "colab": {
      "provenance": [],
      "authorship_tag": "ABX9TyPd86TbPnj7fuT1/J94yDTl",
      "include_colab_link": true
    },
    "kernelspec": {
      "name": "python3",
      "display_name": "Python 3"
    },
    "language_info": {
      "name": "python"
    }
  },
  "cells": [
    {
      "cell_type": "markdown",
      "metadata": {
        "id": "view-in-github",
        "colab_type": "text"
      },
      "source": [
        "<a href=\"https://colab.research.google.com/github/whyeon92/ESAA_YB/blob/mini_project/miniproject3_MLR_Ridge_ver3.ipynb\" target=\"_parent\"><img src=\"https://colab.research.google.com/assets/colab-badge.svg\" alt=\"Open In Colab\"/></a>"
      ]
    },
    {
      "cell_type": "code",
      "source": [
        "#파일 경로 지정 구글 드라이브 마운트\n",
        "from google.colab import drive\n",
        "drive.mount('/content/drive')\n",
        "\n",
        "path = \"/content/drive/My Drive/ESAAData/miniproject3_data/\""
      ],
      "metadata": {
        "colab": {
          "base_uri": "https://localhost:8080/"
        },
        "id": "La_-sX9O6pKd",
        "outputId": "a89e56cc-f072-4ade-c094-f0d480c22219"
      },
      "execution_count": 80,
      "outputs": [
        {
          "output_type": "stream",
          "name": "stdout",
          "text": [
            "Drive already mounted at /content/drive; to attempt to forcibly remount, call drive.mount(\"/content/drive\", force_remount=True).\n"
          ]
        }
      ]
    },
    {
      "cell_type": "markdown",
      "metadata": {
        "id": "2b61a1ec-0057-45f1-a1a0-268804611304"
      },
      "source": [
        "# **데이터 불러오기**"
      ]
    },
    {
      "cell_type": "code",
      "execution_count": 81,
      "metadata": {
        "colab": {
          "base_uri": "https://localhost:8080/",
          "height": 275
        },
        "id": "b54170e9-29d5-47b0-9dbd-71a5d026d80a",
        "outputId": "731cc087-e5f7-42b5-b08b-c86bb0a70bd9"
      },
      "outputs": [
        {
          "output_type": "execute_result",
          "data": {
            "text/plain": [
              "       title   distributor genre release_time  time screening_rat director  \\\n",
              "0     개들의 전쟁      롯데엔터테인먼트    액션   2012-11-22    96      청소년 관람불가      조병옥   \n",
              "1       내부자들        (주)쇼박스   느와르   2015-11-19   130      청소년 관람불가      우민호   \n",
              "2  은밀하게 위대하게        (주)쇼박스    액션   2013-06-05   123       15세 관람가      장철수   \n",
              "3   나는 공무원이다        (주)NEW   코미디   2012-07-12   101        전체 관람가      구자홍   \n",
              "4       불량남녀  쇼박스(주)미디어플렉스   코미디   2010-11-04   108       15세 관람가      신근호   \n",
              "\n",
              "   dir_prev_bfnum  dir_prev_num  num_staff  num_actor  box_off_num  \n",
              "0             NaN             0         91          2        23398  \n",
              "1      1161602.50             2        387          3      7072501  \n",
              "2       220775.25             4        343          4      6959083  \n",
              "3        23894.00             2         20          6       217866  \n",
              "4            1.00             1        251          2       483387  "
            ],
            "text/html": [
              "\n",
              "  <div id=\"df-73c5ffe7-4fa9-4239-a9f5-f7052b4f2f70\" class=\"colab-df-container\">\n",
              "    <div>\n",
              "<style scoped>\n",
              "    .dataframe tbody tr th:only-of-type {\n",
              "        vertical-align: middle;\n",
              "    }\n",
              "\n",
              "    .dataframe tbody tr th {\n",
              "        vertical-align: top;\n",
              "    }\n",
              "\n",
              "    .dataframe thead th {\n",
              "        text-align: right;\n",
              "    }\n",
              "</style>\n",
              "<table border=\"1\" class=\"dataframe\">\n",
              "  <thead>\n",
              "    <tr style=\"text-align: right;\">\n",
              "      <th></th>\n",
              "      <th>title</th>\n",
              "      <th>distributor</th>\n",
              "      <th>genre</th>\n",
              "      <th>release_time</th>\n",
              "      <th>time</th>\n",
              "      <th>screening_rat</th>\n",
              "      <th>director</th>\n",
              "      <th>dir_prev_bfnum</th>\n",
              "      <th>dir_prev_num</th>\n",
              "      <th>num_staff</th>\n",
              "      <th>num_actor</th>\n",
              "      <th>box_off_num</th>\n",
              "    </tr>\n",
              "  </thead>\n",
              "  <tbody>\n",
              "    <tr>\n",
              "      <th>0</th>\n",
              "      <td>개들의 전쟁</td>\n",
              "      <td>롯데엔터테인먼트</td>\n",
              "      <td>액션</td>\n",
              "      <td>2012-11-22</td>\n",
              "      <td>96</td>\n",
              "      <td>청소년 관람불가</td>\n",
              "      <td>조병옥</td>\n",
              "      <td>NaN</td>\n",
              "      <td>0</td>\n",
              "      <td>91</td>\n",
              "      <td>2</td>\n",
              "      <td>23398</td>\n",
              "    </tr>\n",
              "    <tr>\n",
              "      <th>1</th>\n",
              "      <td>내부자들</td>\n",
              "      <td>(주)쇼박스</td>\n",
              "      <td>느와르</td>\n",
              "      <td>2015-11-19</td>\n",
              "      <td>130</td>\n",
              "      <td>청소년 관람불가</td>\n",
              "      <td>우민호</td>\n",
              "      <td>1161602.50</td>\n",
              "      <td>2</td>\n",
              "      <td>387</td>\n",
              "      <td>3</td>\n",
              "      <td>7072501</td>\n",
              "    </tr>\n",
              "    <tr>\n",
              "      <th>2</th>\n",
              "      <td>은밀하게 위대하게</td>\n",
              "      <td>(주)쇼박스</td>\n",
              "      <td>액션</td>\n",
              "      <td>2013-06-05</td>\n",
              "      <td>123</td>\n",
              "      <td>15세 관람가</td>\n",
              "      <td>장철수</td>\n",
              "      <td>220775.25</td>\n",
              "      <td>4</td>\n",
              "      <td>343</td>\n",
              "      <td>4</td>\n",
              "      <td>6959083</td>\n",
              "    </tr>\n",
              "    <tr>\n",
              "      <th>3</th>\n",
              "      <td>나는 공무원이다</td>\n",
              "      <td>(주)NEW</td>\n",
              "      <td>코미디</td>\n",
              "      <td>2012-07-12</td>\n",
              "      <td>101</td>\n",
              "      <td>전체 관람가</td>\n",
              "      <td>구자홍</td>\n",
              "      <td>23894.00</td>\n",
              "      <td>2</td>\n",
              "      <td>20</td>\n",
              "      <td>6</td>\n",
              "      <td>217866</td>\n",
              "    </tr>\n",
              "    <tr>\n",
              "      <th>4</th>\n",
              "      <td>불량남녀</td>\n",
              "      <td>쇼박스(주)미디어플렉스</td>\n",
              "      <td>코미디</td>\n",
              "      <td>2010-11-04</td>\n",
              "      <td>108</td>\n",
              "      <td>15세 관람가</td>\n",
              "      <td>신근호</td>\n",
              "      <td>1.00</td>\n",
              "      <td>1</td>\n",
              "      <td>251</td>\n",
              "      <td>2</td>\n",
              "      <td>483387</td>\n",
              "    </tr>\n",
              "  </tbody>\n",
              "</table>\n",
              "</div>\n",
              "    <div class=\"colab-df-buttons\">\n",
              "\n",
              "  <div class=\"colab-df-container\">\n",
              "    <button class=\"colab-df-convert\" onclick=\"convertToInteractive('df-73c5ffe7-4fa9-4239-a9f5-f7052b4f2f70')\"\n",
              "            title=\"Convert this dataframe to an interactive table.\"\n",
              "            style=\"display:none;\">\n",
              "\n",
              "  <svg xmlns=\"http://www.w3.org/2000/svg\" height=\"24px\" viewBox=\"0 -960 960 960\">\n",
              "    <path d=\"M120-120v-720h720v720H120Zm60-500h600v-160H180v160Zm220 220h160v-160H400v160Zm0 220h160v-160H400v160ZM180-400h160v-160H180v160Zm440 0h160v-160H620v160ZM180-180h160v-160H180v160Zm440 0h160v-160H620v160Z\"/>\n",
              "  </svg>\n",
              "    </button>\n",
              "\n",
              "  <style>\n",
              "    .colab-df-container {\n",
              "      display:flex;\n",
              "      gap: 12px;\n",
              "    }\n",
              "\n",
              "    .colab-df-convert {\n",
              "      background-color: #E8F0FE;\n",
              "      border: none;\n",
              "      border-radius: 50%;\n",
              "      cursor: pointer;\n",
              "      display: none;\n",
              "      fill: #1967D2;\n",
              "      height: 32px;\n",
              "      padding: 0 0 0 0;\n",
              "      width: 32px;\n",
              "    }\n",
              "\n",
              "    .colab-df-convert:hover {\n",
              "      background-color: #E2EBFA;\n",
              "      box-shadow: 0px 1px 2px rgba(60, 64, 67, 0.3), 0px 1px 3px 1px rgba(60, 64, 67, 0.15);\n",
              "      fill: #174EA6;\n",
              "    }\n",
              "\n",
              "    .colab-df-buttons div {\n",
              "      margin-bottom: 4px;\n",
              "    }\n",
              "\n",
              "    [theme=dark] .colab-df-convert {\n",
              "      background-color: #3B4455;\n",
              "      fill: #D2E3FC;\n",
              "    }\n",
              "\n",
              "    [theme=dark] .colab-df-convert:hover {\n",
              "      background-color: #434B5C;\n",
              "      box-shadow: 0px 1px 3px 1px rgba(0, 0, 0, 0.15);\n",
              "      filter: drop-shadow(0px 1px 2px rgba(0, 0, 0, 0.3));\n",
              "      fill: #FFFFFF;\n",
              "    }\n",
              "  </style>\n",
              "\n",
              "    <script>\n",
              "      const buttonEl =\n",
              "        document.querySelector('#df-73c5ffe7-4fa9-4239-a9f5-f7052b4f2f70 button.colab-df-convert');\n",
              "      buttonEl.style.display =\n",
              "        google.colab.kernel.accessAllowed ? 'block' : 'none';\n",
              "\n",
              "      async function convertToInteractive(key) {\n",
              "        const element = document.querySelector('#df-73c5ffe7-4fa9-4239-a9f5-f7052b4f2f70');\n",
              "        const dataTable =\n",
              "          await google.colab.kernel.invokeFunction('convertToInteractive',\n",
              "                                                    [key], {});\n",
              "        if (!dataTable) return;\n",
              "\n",
              "        const docLinkHtml = 'Like what you see? Visit the ' +\n",
              "          '<a target=\"_blank\" href=https://colab.research.google.com/notebooks/data_table.ipynb>data table notebook</a>'\n",
              "          + ' to learn more about interactive tables.';\n",
              "        element.innerHTML = '';\n",
              "        dataTable['output_type'] = 'display_data';\n",
              "        await google.colab.output.renderOutput(dataTable, element);\n",
              "        const docLink = document.createElement('div');\n",
              "        docLink.innerHTML = docLinkHtml;\n",
              "        element.appendChild(docLink);\n",
              "      }\n",
              "    </script>\n",
              "  </div>\n",
              "\n",
              "\n",
              "<div id=\"df-a7e5cf03-8c7b-4c90-bf0e-5fde77dcac2f\">\n",
              "  <button class=\"colab-df-quickchart\" onclick=\"quickchart('df-a7e5cf03-8c7b-4c90-bf0e-5fde77dcac2f')\"\n",
              "            title=\"Suggest charts\"\n",
              "            style=\"display:none;\">\n",
              "\n",
              "<svg xmlns=\"http://www.w3.org/2000/svg\" height=\"24px\"viewBox=\"0 0 24 24\"\n",
              "     width=\"24px\">\n",
              "    <g>\n",
              "        <path d=\"M19 3H5c-1.1 0-2 .9-2 2v14c0 1.1.9 2 2 2h14c1.1 0 2-.9 2-2V5c0-1.1-.9-2-2-2zM9 17H7v-7h2v7zm4 0h-2V7h2v10zm4 0h-2v-4h2v4z\"/>\n",
              "    </g>\n",
              "</svg>\n",
              "  </button>\n",
              "\n",
              "<style>\n",
              "  .colab-df-quickchart {\n",
              "      --bg-color: #E8F0FE;\n",
              "      --fill-color: #1967D2;\n",
              "      --hover-bg-color: #E2EBFA;\n",
              "      --hover-fill-color: #174EA6;\n",
              "      --disabled-fill-color: #AAA;\n",
              "      --disabled-bg-color: #DDD;\n",
              "  }\n",
              "\n",
              "  [theme=dark] .colab-df-quickchart {\n",
              "      --bg-color: #3B4455;\n",
              "      --fill-color: #D2E3FC;\n",
              "      --hover-bg-color: #434B5C;\n",
              "      --hover-fill-color: #FFFFFF;\n",
              "      --disabled-bg-color: #3B4455;\n",
              "      --disabled-fill-color: #666;\n",
              "  }\n",
              "\n",
              "  .colab-df-quickchart {\n",
              "    background-color: var(--bg-color);\n",
              "    border: none;\n",
              "    border-radius: 50%;\n",
              "    cursor: pointer;\n",
              "    display: none;\n",
              "    fill: var(--fill-color);\n",
              "    height: 32px;\n",
              "    padding: 0;\n",
              "    width: 32px;\n",
              "  }\n",
              "\n",
              "  .colab-df-quickchart:hover {\n",
              "    background-color: var(--hover-bg-color);\n",
              "    box-shadow: 0 1px 2px rgba(60, 64, 67, 0.3), 0 1px 3px 1px rgba(60, 64, 67, 0.15);\n",
              "    fill: var(--button-hover-fill-color);\n",
              "  }\n",
              "\n",
              "  .colab-df-quickchart-complete:disabled,\n",
              "  .colab-df-quickchart-complete:disabled:hover {\n",
              "    background-color: var(--disabled-bg-color);\n",
              "    fill: var(--disabled-fill-color);\n",
              "    box-shadow: none;\n",
              "  }\n",
              "\n",
              "  .colab-df-spinner {\n",
              "    border: 2px solid var(--fill-color);\n",
              "    border-color: transparent;\n",
              "    border-bottom-color: var(--fill-color);\n",
              "    animation:\n",
              "      spin 1s steps(1) infinite;\n",
              "  }\n",
              "\n",
              "  @keyframes spin {\n",
              "    0% {\n",
              "      border-color: transparent;\n",
              "      border-bottom-color: var(--fill-color);\n",
              "      border-left-color: var(--fill-color);\n",
              "    }\n",
              "    20% {\n",
              "      border-color: transparent;\n",
              "      border-left-color: var(--fill-color);\n",
              "      border-top-color: var(--fill-color);\n",
              "    }\n",
              "    30% {\n",
              "      border-color: transparent;\n",
              "      border-left-color: var(--fill-color);\n",
              "      border-top-color: var(--fill-color);\n",
              "      border-right-color: var(--fill-color);\n",
              "    }\n",
              "    40% {\n",
              "      border-color: transparent;\n",
              "      border-right-color: var(--fill-color);\n",
              "      border-top-color: var(--fill-color);\n",
              "    }\n",
              "    60% {\n",
              "      border-color: transparent;\n",
              "      border-right-color: var(--fill-color);\n",
              "    }\n",
              "    80% {\n",
              "      border-color: transparent;\n",
              "      border-right-color: var(--fill-color);\n",
              "      border-bottom-color: var(--fill-color);\n",
              "    }\n",
              "    90% {\n",
              "      border-color: transparent;\n",
              "      border-bottom-color: var(--fill-color);\n",
              "    }\n",
              "  }\n",
              "</style>\n",
              "\n",
              "  <script>\n",
              "    async function quickchart(key) {\n",
              "      const quickchartButtonEl =\n",
              "        document.querySelector('#' + key + ' button');\n",
              "      quickchartButtonEl.disabled = true;  // To prevent multiple clicks.\n",
              "      quickchartButtonEl.classList.add('colab-df-spinner');\n",
              "      try {\n",
              "        const charts = await google.colab.kernel.invokeFunction(\n",
              "            'suggestCharts', [key], {});\n",
              "      } catch (error) {\n",
              "        console.error('Error during call to suggestCharts:', error);\n",
              "      }\n",
              "      quickchartButtonEl.classList.remove('colab-df-spinner');\n",
              "      quickchartButtonEl.classList.add('colab-df-quickchart-complete');\n",
              "    }\n",
              "    (() => {\n",
              "      let quickchartButtonEl =\n",
              "        document.querySelector('#df-a7e5cf03-8c7b-4c90-bf0e-5fde77dcac2f button');\n",
              "      quickchartButtonEl.style.display =\n",
              "        google.colab.kernel.accessAllowed ? 'block' : 'none';\n",
              "    })();\n",
              "  </script>\n",
              "</div>\n",
              "    </div>\n",
              "  </div>\n"
            ],
            "application/vnd.google.colaboratory.intrinsic+json": {
              "type": "dataframe",
              "variable_name": "train",
              "summary": "{\n  \"name\": \"train\",\n  \"rows\": 600,\n  \"fields\": [\n    {\n      \"column\": \"title\",\n      \"properties\": {\n        \"dtype\": \"string\",\n        \"num_unique_values\": 600,\n        \"samples\": [\n          \"\\ucc28\\ud615\\uc0ac\",\n          \"\\uafc8\\ubcf4\\ub2e4 \\ud574\\ubabd\",\n          \"\\ub3c4\\ucfc4 \\ud0dd\\uc2dc\"\n        ],\n        \"semantic_type\": \"\",\n        \"description\": \"\"\n      }\n    },\n    {\n      \"column\": \"distributor\",\n      \"properties\": {\n        \"dtype\": \"category\",\n        \"num_unique_values\": 169,\n        \"samples\": [\n          \"KBS\\ubbf8\\ub514\\uc5b4(\\uc8fc)\",\n          \"CJ CGV\",\n          \"\\ud544\\ub984\\ub77c\\uc778\"\n        ],\n        \"semantic_type\": \"\",\n        \"description\": \"\"\n      }\n    },\n    {\n      \"column\": \"genre\",\n      \"properties\": {\n        \"dtype\": \"category\",\n        \"num_unique_values\": 12,\n        \"samples\": [\n          \"\\ubbf8\\uc2a4\\ud130\\ub9ac\",\n          \"\\uc560\\ub2c8\\uba54\\uc774\\uc158\",\n          \"\\uc561\\uc158\"\n        ],\n        \"semantic_type\": \"\",\n        \"description\": \"\"\n      }\n    },\n    {\n      \"column\": \"release_time\",\n      \"properties\": {\n        \"dtype\": \"object\",\n        \"num_unique_values\": 330,\n        \"samples\": [\n          \"2012-03-15\",\n          \"2015-06-11\",\n          \"2015-11-05\"\n        ],\n        \"semantic_type\": \"\",\n        \"description\": \"\"\n      }\n    },\n    {\n      \"column\": \"time\",\n      \"properties\": {\n        \"dtype\": \"number\",\n        \"std\": 18,\n        \"min\": 45,\n        \"max\": 180,\n        \"num_unique_values\": 86,\n        \"samples\": [\n          180,\n          96,\n          73\n        ],\n        \"semantic_type\": \"\",\n        \"description\": \"\"\n      }\n    },\n    {\n      \"column\": \"screening_rat\",\n      \"properties\": {\n        \"dtype\": \"category\",\n        \"num_unique_values\": 4,\n        \"samples\": [\n          \"15\\uc138 \\uad00\\ub78c\\uac00\",\n          \"12\\uc138 \\uad00\\ub78c\\uac00\",\n          \"\\uccad\\uc18c\\ub144 \\uad00\\ub78c\\ubd88\\uac00\"\n        ],\n        \"semantic_type\": \"\",\n        \"description\": \"\"\n      }\n    },\n    {\n      \"column\": \"director\",\n      \"properties\": {\n        \"dtype\": \"string\",\n        \"num_unique_values\": 472,\n        \"samples\": [\n          \"\\uae40\\uc131\\ud638\",\n          \"\\uae40\\uc0c1\\ub9cc\",\n          \"\\uc7a5\\ud76c\\uc120\"\n        ],\n        \"semantic_type\": \"\",\n        \"description\": \"\"\n      }\n    },\n    {\n      \"column\": \"dir_prev_bfnum\",\n      \"properties\": {\n        \"dtype\": \"number\",\n        \"std\": 1791408.3034618679,\n        \"min\": 1.0,\n        \"max\": 17615314.0,\n        \"num_unique_values\": 245,\n        \"samples\": [\n          385977.5,\n          431231.0,\n          917362.2\n        ],\n        \"semantic_type\": \"\",\n        \"description\": \"\"\n      }\n    },\n    {\n      \"column\": \"dir_prev_num\",\n      \"properties\": {\n        \"dtype\": \"number\",\n        \"std\": 1,\n        \"min\": 0,\n        \"max\": 5,\n        \"num_unique_values\": 6,\n        \"samples\": [\n          0,\n          2,\n          5\n        ],\n        \"semantic_type\": \"\",\n        \"description\": \"\"\n      }\n    },\n    {\n      \"column\": \"num_staff\",\n      \"properties\": {\n        \"dtype\": \"number\",\n        \"std\": 165,\n        \"min\": 0,\n        \"max\": 869,\n        \"num_unique_values\": 296,\n        \"samples\": [\n          300,\n          302,\n          298\n        ],\n        \"semantic_type\": \"\",\n        \"description\": \"\"\n      }\n    },\n    {\n      \"column\": \"num_actor\",\n      \"properties\": {\n        \"dtype\": \"number\",\n        \"std\": 2,\n        \"min\": 0,\n        \"max\": 25,\n        \"num_unique_values\": 17,\n        \"samples\": [\n          2,\n          3,\n          1\n        ],\n        \"semantic_type\": \"\",\n        \"description\": \"\"\n      }\n    },\n    {\n      \"column\": \"box_off_num\",\n      \"properties\": {\n        \"dtype\": \"number\",\n        \"std\": 1828005,\n        \"min\": 1,\n        \"max\": 14262766,\n        \"num_unique_values\": 586,\n        \"samples\": [\n          426,\n          1980050,\n          577\n        ],\n        \"semantic_type\": \"\",\n        \"description\": \"\"\n      }\n    }\n  ]\n}"
            }
          },
          "metadata": {},
          "execution_count": 81
        }
      ],
      "source": [
        "import pandas as pd\n",
        "\n",
        "train=pd.read_csv(path + \"movies_train.csv\")\n",
        "train.head()"
      ]
    },
    {
      "cell_type": "code",
      "execution_count": 82,
      "metadata": {
        "colab": {
          "base_uri": "https://localhost:8080/",
          "height": 206
        },
        "id": "5d2e0404-dd55-47bc-b50c-26c7f7d7ea17",
        "outputId": "13668037-e1d2-4c24-cdb6-c54ec195418d"
      },
      "outputs": [
        {
          "output_type": "execute_result",
          "data": {
            "text/plain": [
              "         title distributor   genre release_time  time screening_rat director  \\\n",
              "0       용서는 없다      시네마서비스     느와르   2010-01-07   125      청소년 관람불가      김형준   \n",
              "1  아빠가 여자를 좋아해      (주)쇼박스  멜로/로맨스   2010-01-14   113       12세 관람가      이광재   \n",
              "2          하모니   CJ 엔터테인먼트     드라마   2010-01-28   115       12세 관람가      강대규   \n",
              "3          의형제      (주)쇼박스      액션   2010-02-04   116       15세 관람가       장훈   \n",
              "4        평행 이론   CJ 엔터테인먼트      공포   2010-02-18   110       15세 관람가      권호영   \n",
              "\n",
              "   dir_prev_bfnum  dir_prev_num  num_staff  num_actor  \n",
              "0    3.005290e+05             2        304          3  \n",
              "1    3.427002e+05             4        275          3  \n",
              "2    4.206611e+06             3        419          7  \n",
              "3    6.913420e+05             2        408          2  \n",
              "4    3.173800e+04             1        380          1  "
            ],
            "text/html": [
              "\n",
              "  <div id=\"df-ff3b9920-4ee0-44da-b6e7-6003bf9924d2\" class=\"colab-df-container\">\n",
              "    <div>\n",
              "<style scoped>\n",
              "    .dataframe tbody tr th:only-of-type {\n",
              "        vertical-align: middle;\n",
              "    }\n",
              "\n",
              "    .dataframe tbody tr th {\n",
              "        vertical-align: top;\n",
              "    }\n",
              "\n",
              "    .dataframe thead th {\n",
              "        text-align: right;\n",
              "    }\n",
              "</style>\n",
              "<table border=\"1\" class=\"dataframe\">\n",
              "  <thead>\n",
              "    <tr style=\"text-align: right;\">\n",
              "      <th></th>\n",
              "      <th>title</th>\n",
              "      <th>distributor</th>\n",
              "      <th>genre</th>\n",
              "      <th>release_time</th>\n",
              "      <th>time</th>\n",
              "      <th>screening_rat</th>\n",
              "      <th>director</th>\n",
              "      <th>dir_prev_bfnum</th>\n",
              "      <th>dir_prev_num</th>\n",
              "      <th>num_staff</th>\n",
              "      <th>num_actor</th>\n",
              "    </tr>\n",
              "  </thead>\n",
              "  <tbody>\n",
              "    <tr>\n",
              "      <th>0</th>\n",
              "      <td>용서는 없다</td>\n",
              "      <td>시네마서비스</td>\n",
              "      <td>느와르</td>\n",
              "      <td>2010-01-07</td>\n",
              "      <td>125</td>\n",
              "      <td>청소년 관람불가</td>\n",
              "      <td>김형준</td>\n",
              "      <td>3.005290e+05</td>\n",
              "      <td>2</td>\n",
              "      <td>304</td>\n",
              "      <td>3</td>\n",
              "    </tr>\n",
              "    <tr>\n",
              "      <th>1</th>\n",
              "      <td>아빠가 여자를 좋아해</td>\n",
              "      <td>(주)쇼박스</td>\n",
              "      <td>멜로/로맨스</td>\n",
              "      <td>2010-01-14</td>\n",
              "      <td>113</td>\n",
              "      <td>12세 관람가</td>\n",
              "      <td>이광재</td>\n",
              "      <td>3.427002e+05</td>\n",
              "      <td>4</td>\n",
              "      <td>275</td>\n",
              "      <td>3</td>\n",
              "    </tr>\n",
              "    <tr>\n",
              "      <th>2</th>\n",
              "      <td>하모니</td>\n",
              "      <td>CJ 엔터테인먼트</td>\n",
              "      <td>드라마</td>\n",
              "      <td>2010-01-28</td>\n",
              "      <td>115</td>\n",
              "      <td>12세 관람가</td>\n",
              "      <td>강대규</td>\n",
              "      <td>4.206611e+06</td>\n",
              "      <td>3</td>\n",
              "      <td>419</td>\n",
              "      <td>7</td>\n",
              "    </tr>\n",
              "    <tr>\n",
              "      <th>3</th>\n",
              "      <td>의형제</td>\n",
              "      <td>(주)쇼박스</td>\n",
              "      <td>액션</td>\n",
              "      <td>2010-02-04</td>\n",
              "      <td>116</td>\n",
              "      <td>15세 관람가</td>\n",
              "      <td>장훈</td>\n",
              "      <td>6.913420e+05</td>\n",
              "      <td>2</td>\n",
              "      <td>408</td>\n",
              "      <td>2</td>\n",
              "    </tr>\n",
              "    <tr>\n",
              "      <th>4</th>\n",
              "      <td>평행 이론</td>\n",
              "      <td>CJ 엔터테인먼트</td>\n",
              "      <td>공포</td>\n",
              "      <td>2010-02-18</td>\n",
              "      <td>110</td>\n",
              "      <td>15세 관람가</td>\n",
              "      <td>권호영</td>\n",
              "      <td>3.173800e+04</td>\n",
              "      <td>1</td>\n",
              "      <td>380</td>\n",
              "      <td>1</td>\n",
              "    </tr>\n",
              "  </tbody>\n",
              "</table>\n",
              "</div>\n",
              "    <div class=\"colab-df-buttons\">\n",
              "\n",
              "  <div class=\"colab-df-container\">\n",
              "    <button class=\"colab-df-convert\" onclick=\"convertToInteractive('df-ff3b9920-4ee0-44da-b6e7-6003bf9924d2')\"\n",
              "            title=\"Convert this dataframe to an interactive table.\"\n",
              "            style=\"display:none;\">\n",
              "\n",
              "  <svg xmlns=\"http://www.w3.org/2000/svg\" height=\"24px\" viewBox=\"0 -960 960 960\">\n",
              "    <path d=\"M120-120v-720h720v720H120Zm60-500h600v-160H180v160Zm220 220h160v-160H400v160Zm0 220h160v-160H400v160ZM180-400h160v-160H180v160Zm440 0h160v-160H620v160ZM180-180h160v-160H180v160Zm440 0h160v-160H620v160Z\"/>\n",
              "  </svg>\n",
              "    </button>\n",
              "\n",
              "  <style>\n",
              "    .colab-df-container {\n",
              "      display:flex;\n",
              "      gap: 12px;\n",
              "    }\n",
              "\n",
              "    .colab-df-convert {\n",
              "      background-color: #E8F0FE;\n",
              "      border: none;\n",
              "      border-radius: 50%;\n",
              "      cursor: pointer;\n",
              "      display: none;\n",
              "      fill: #1967D2;\n",
              "      height: 32px;\n",
              "      padding: 0 0 0 0;\n",
              "      width: 32px;\n",
              "    }\n",
              "\n",
              "    .colab-df-convert:hover {\n",
              "      background-color: #E2EBFA;\n",
              "      box-shadow: 0px 1px 2px rgba(60, 64, 67, 0.3), 0px 1px 3px 1px rgba(60, 64, 67, 0.15);\n",
              "      fill: #174EA6;\n",
              "    }\n",
              "\n",
              "    .colab-df-buttons div {\n",
              "      margin-bottom: 4px;\n",
              "    }\n",
              "\n",
              "    [theme=dark] .colab-df-convert {\n",
              "      background-color: #3B4455;\n",
              "      fill: #D2E3FC;\n",
              "    }\n",
              "\n",
              "    [theme=dark] .colab-df-convert:hover {\n",
              "      background-color: #434B5C;\n",
              "      box-shadow: 0px 1px 3px 1px rgba(0, 0, 0, 0.15);\n",
              "      filter: drop-shadow(0px 1px 2px rgba(0, 0, 0, 0.3));\n",
              "      fill: #FFFFFF;\n",
              "    }\n",
              "  </style>\n",
              "\n",
              "    <script>\n",
              "      const buttonEl =\n",
              "        document.querySelector('#df-ff3b9920-4ee0-44da-b6e7-6003bf9924d2 button.colab-df-convert');\n",
              "      buttonEl.style.display =\n",
              "        google.colab.kernel.accessAllowed ? 'block' : 'none';\n",
              "\n",
              "      async function convertToInteractive(key) {\n",
              "        const element = document.querySelector('#df-ff3b9920-4ee0-44da-b6e7-6003bf9924d2');\n",
              "        const dataTable =\n",
              "          await google.colab.kernel.invokeFunction('convertToInteractive',\n",
              "                                                    [key], {});\n",
              "        if (!dataTable) return;\n",
              "\n",
              "        const docLinkHtml = 'Like what you see? Visit the ' +\n",
              "          '<a target=\"_blank\" href=https://colab.research.google.com/notebooks/data_table.ipynb>data table notebook</a>'\n",
              "          + ' to learn more about interactive tables.';\n",
              "        element.innerHTML = '';\n",
              "        dataTable['output_type'] = 'display_data';\n",
              "        await google.colab.output.renderOutput(dataTable, element);\n",
              "        const docLink = document.createElement('div');\n",
              "        docLink.innerHTML = docLinkHtml;\n",
              "        element.appendChild(docLink);\n",
              "      }\n",
              "    </script>\n",
              "  </div>\n",
              "\n",
              "\n",
              "<div id=\"df-509cc9be-897b-494c-bf13-d097691eda4f\">\n",
              "  <button class=\"colab-df-quickchart\" onclick=\"quickchart('df-509cc9be-897b-494c-bf13-d097691eda4f')\"\n",
              "            title=\"Suggest charts\"\n",
              "            style=\"display:none;\">\n",
              "\n",
              "<svg xmlns=\"http://www.w3.org/2000/svg\" height=\"24px\"viewBox=\"0 0 24 24\"\n",
              "     width=\"24px\">\n",
              "    <g>\n",
              "        <path d=\"M19 3H5c-1.1 0-2 .9-2 2v14c0 1.1.9 2 2 2h14c1.1 0 2-.9 2-2V5c0-1.1-.9-2-2-2zM9 17H7v-7h2v7zm4 0h-2V7h2v10zm4 0h-2v-4h2v4z\"/>\n",
              "    </g>\n",
              "</svg>\n",
              "  </button>\n",
              "\n",
              "<style>\n",
              "  .colab-df-quickchart {\n",
              "      --bg-color: #E8F0FE;\n",
              "      --fill-color: #1967D2;\n",
              "      --hover-bg-color: #E2EBFA;\n",
              "      --hover-fill-color: #174EA6;\n",
              "      --disabled-fill-color: #AAA;\n",
              "      --disabled-bg-color: #DDD;\n",
              "  }\n",
              "\n",
              "  [theme=dark] .colab-df-quickchart {\n",
              "      --bg-color: #3B4455;\n",
              "      --fill-color: #D2E3FC;\n",
              "      --hover-bg-color: #434B5C;\n",
              "      --hover-fill-color: #FFFFFF;\n",
              "      --disabled-bg-color: #3B4455;\n",
              "      --disabled-fill-color: #666;\n",
              "  }\n",
              "\n",
              "  .colab-df-quickchart {\n",
              "    background-color: var(--bg-color);\n",
              "    border: none;\n",
              "    border-radius: 50%;\n",
              "    cursor: pointer;\n",
              "    display: none;\n",
              "    fill: var(--fill-color);\n",
              "    height: 32px;\n",
              "    padding: 0;\n",
              "    width: 32px;\n",
              "  }\n",
              "\n",
              "  .colab-df-quickchart:hover {\n",
              "    background-color: var(--hover-bg-color);\n",
              "    box-shadow: 0 1px 2px rgba(60, 64, 67, 0.3), 0 1px 3px 1px rgba(60, 64, 67, 0.15);\n",
              "    fill: var(--button-hover-fill-color);\n",
              "  }\n",
              "\n",
              "  .colab-df-quickchart-complete:disabled,\n",
              "  .colab-df-quickchart-complete:disabled:hover {\n",
              "    background-color: var(--disabled-bg-color);\n",
              "    fill: var(--disabled-fill-color);\n",
              "    box-shadow: none;\n",
              "  }\n",
              "\n",
              "  .colab-df-spinner {\n",
              "    border: 2px solid var(--fill-color);\n",
              "    border-color: transparent;\n",
              "    border-bottom-color: var(--fill-color);\n",
              "    animation:\n",
              "      spin 1s steps(1) infinite;\n",
              "  }\n",
              "\n",
              "  @keyframes spin {\n",
              "    0% {\n",
              "      border-color: transparent;\n",
              "      border-bottom-color: var(--fill-color);\n",
              "      border-left-color: var(--fill-color);\n",
              "    }\n",
              "    20% {\n",
              "      border-color: transparent;\n",
              "      border-left-color: var(--fill-color);\n",
              "      border-top-color: var(--fill-color);\n",
              "    }\n",
              "    30% {\n",
              "      border-color: transparent;\n",
              "      border-left-color: var(--fill-color);\n",
              "      border-top-color: var(--fill-color);\n",
              "      border-right-color: var(--fill-color);\n",
              "    }\n",
              "    40% {\n",
              "      border-color: transparent;\n",
              "      border-right-color: var(--fill-color);\n",
              "      border-top-color: var(--fill-color);\n",
              "    }\n",
              "    60% {\n",
              "      border-color: transparent;\n",
              "      border-right-color: var(--fill-color);\n",
              "    }\n",
              "    80% {\n",
              "      border-color: transparent;\n",
              "      border-right-color: var(--fill-color);\n",
              "      border-bottom-color: var(--fill-color);\n",
              "    }\n",
              "    90% {\n",
              "      border-color: transparent;\n",
              "      border-bottom-color: var(--fill-color);\n",
              "    }\n",
              "  }\n",
              "</style>\n",
              "\n",
              "  <script>\n",
              "    async function quickchart(key) {\n",
              "      const quickchartButtonEl =\n",
              "        document.querySelector('#' + key + ' button');\n",
              "      quickchartButtonEl.disabled = true;  // To prevent multiple clicks.\n",
              "      quickchartButtonEl.classList.add('colab-df-spinner');\n",
              "      try {\n",
              "        const charts = await google.colab.kernel.invokeFunction(\n",
              "            'suggestCharts', [key], {});\n",
              "      } catch (error) {\n",
              "        console.error('Error during call to suggestCharts:', error);\n",
              "      }\n",
              "      quickchartButtonEl.classList.remove('colab-df-spinner');\n",
              "      quickchartButtonEl.classList.add('colab-df-quickchart-complete');\n",
              "    }\n",
              "    (() => {\n",
              "      let quickchartButtonEl =\n",
              "        document.querySelector('#df-509cc9be-897b-494c-bf13-d097691eda4f button');\n",
              "      quickchartButtonEl.style.display =\n",
              "        google.colab.kernel.accessAllowed ? 'block' : 'none';\n",
              "    })();\n",
              "  </script>\n",
              "</div>\n",
              "    </div>\n",
              "  </div>\n"
            ],
            "application/vnd.google.colaboratory.intrinsic+json": {
              "type": "dataframe",
              "variable_name": "test",
              "summary": "{\n  \"name\": \"test\",\n  \"rows\": 243,\n  \"fields\": [\n    {\n      \"column\": \"title\",\n      \"properties\": {\n        \"dtype\": \"string\",\n        \"num_unique_values\": 243,\n        \"samples\": [\n          \"\\ud0c8\\uc8fc\",\n          \"\\uacbd\\uacc4\\ub3c4\\uc2dc 2\",\n          \"\\uc0b4\\uc778\\uc790\"\n        ],\n        \"semantic_type\": \"\",\n        \"description\": \"\"\n      }\n    },\n    {\n      \"column\": \"distributor\",\n      \"properties\": {\n        \"dtype\": \"category\",\n        \"num_unique_values\": 93,\n        \"samples\": [\n          \"(\\uc8fc) \\uc561\\ud2f0\\ubc84\\uc2a4\\uc5d4\\ud130\\ud14c\\uc778\\uba3c\\ud2b8\",\n          \"\\ub9ac\\uc544\\ucf54\\uc5b4\\ucf58\\ud150\\uce20\",\n          \"\\uad7f\\ud53d\\ucc98\\uc2a4\"\n        ],\n        \"semantic_type\": \"\",\n        \"description\": \"\"\n      }\n    },\n    {\n      \"column\": \"genre\",\n      \"properties\": {\n        \"dtype\": \"category\",\n        \"num_unique_values\": 12,\n        \"samples\": [\n          \"\\ubba4\\uc9c0\\uceec\",\n          \"\\uc11c\\uc2a4\\ud39c\\uc2a4\",\n          \"\\ub290\\uc640\\ub974\"\n        ],\n        \"semantic_type\": \"\",\n        \"description\": \"\"\n      }\n    },\n    {\n      \"column\": \"release_time\",\n      \"properties\": {\n        \"dtype\": \"object\",\n        \"num_unique_values\": 182,\n        \"samples\": [\n          \"2010-10-21\",\n          \"2011-06-09\",\n          \"2015-01-22\"\n        ],\n        \"semantic_type\": \"\",\n        \"description\": \"\"\n      }\n    },\n    {\n      \"column\": \"time\",\n      \"properties\": {\n        \"dtype\": \"number\",\n        \"std\": 124,\n        \"min\": 40,\n        \"max\": 2015,\n        \"num_unique_values\": 70,\n        \"samples\": [\n          93,\n          125,\n          129\n        ],\n        \"semantic_type\": \"\",\n        \"description\": \"\"\n      }\n    },\n    {\n      \"column\": \"screening_rat\",\n      \"properties\": {\n        \"dtype\": \"category\",\n        \"num_unique_values\": 4,\n        \"samples\": [\n          \"12\\uc138 \\uad00\\ub78c\\uac00\",\n          \"\\uc804\\uccb4 \\uad00\\ub78c\\uac00\",\n          \"\\uccad\\uc18c\\ub144 \\uad00\\ub78c\\ubd88\\uac00\"\n        ],\n        \"semantic_type\": \"\",\n        \"description\": \"\"\n      }\n    },\n    {\n      \"column\": \"director\",\n      \"properties\": {\n        \"dtype\": \"string\",\n        \"num_unique_values\": 220,\n        \"samples\": [\n          \"\\uc870\\uc9c4\\uaddc\",\n          \"\\uc7a5\\uc9c4\",\n          \"\\uc870\\uc815\\ub798\"\n        ],\n        \"semantic_type\": \"\",\n        \"description\": \"\"\n      }\n    },\n    {\n      \"column\": \"dir_prev_bfnum\",\n      \"properties\": {\n        \"dtype\": \"number\",\n        \"std\": 1217341.4545722755,\n        \"min\": 34.0,\n        \"max\": 6173099.5,\n        \"num_unique_values\": 103,\n        \"samples\": [\n          137862.0,\n          748380.0,\n          4016688.0\n        ],\n        \"semantic_type\": \"\",\n        \"description\": \"\"\n      }\n    },\n    {\n      \"column\": \"dir_prev_num\",\n      \"properties\": {\n        \"dtype\": \"number\",\n        \"std\": 1,\n        \"min\": 0,\n        \"max\": 6,\n        \"num_unique_values\": 7,\n        \"samples\": [\n          2,\n          4,\n          5\n        ],\n        \"semantic_type\": \"\",\n        \"description\": \"\"\n      }\n    },\n    {\n      \"column\": \"num_staff\",\n      \"properties\": {\n        \"dtype\": \"number\",\n        \"std\": 162,\n        \"min\": 0,\n        \"max\": 776,\n        \"num_unique_values\": 165,\n        \"samples\": [\n          139,\n          97,\n          685\n        ],\n        \"semantic_type\": \"\",\n        \"description\": \"\"\n      }\n    },\n    {\n      \"column\": \"num_actor\",\n      \"properties\": {\n        \"dtype\": \"number\",\n        \"std\": 2,\n        \"min\": 0,\n        \"max\": 16,\n        \"num_unique_values\": 14,\n        \"samples\": [\n          11,\n          13,\n          3\n        ],\n        \"semantic_type\": \"\",\n        \"description\": \"\"\n      }\n    }\n  ]\n}"
            }
          },
          "metadata": {},
          "execution_count": 82
        }
      ],
      "source": [
        "test=pd.read_csv(path + 'movies_test.csv')\n",
        "test.head()"
      ]
    },
    {
      "cell_type": "code",
      "execution_count": 83,
      "metadata": {
        "colab": {
          "base_uri": "https://localhost:8080/",
          "height": 206
        },
        "id": "e6e5de7b-16a4-4664-bf0d-bdefd758b440",
        "outputId": "dd63d897-7d7b-4d01-ed1b-6e7644b8094a"
      },
      "outputs": [
        {
          "output_type": "execute_result",
          "data": {
            "text/plain": [
              "         title  box_off_num\n",
              "0       용서는 없다            0\n",
              "1  아빠가 여자를 좋아해            0\n",
              "2          하모니            0\n",
              "3          의형제            0\n",
              "4        평행 이론            0"
            ],
            "text/html": [
              "\n",
              "  <div id=\"df-27223124-aff4-44bb-91be-bdc29c626775\" class=\"colab-df-container\">\n",
              "    <div>\n",
              "<style scoped>\n",
              "    .dataframe tbody tr th:only-of-type {\n",
              "        vertical-align: middle;\n",
              "    }\n",
              "\n",
              "    .dataframe tbody tr th {\n",
              "        vertical-align: top;\n",
              "    }\n",
              "\n",
              "    .dataframe thead th {\n",
              "        text-align: right;\n",
              "    }\n",
              "</style>\n",
              "<table border=\"1\" class=\"dataframe\">\n",
              "  <thead>\n",
              "    <tr style=\"text-align: right;\">\n",
              "      <th></th>\n",
              "      <th>title</th>\n",
              "      <th>box_off_num</th>\n",
              "    </tr>\n",
              "  </thead>\n",
              "  <tbody>\n",
              "    <tr>\n",
              "      <th>0</th>\n",
              "      <td>용서는 없다</td>\n",
              "      <td>0</td>\n",
              "    </tr>\n",
              "    <tr>\n",
              "      <th>1</th>\n",
              "      <td>아빠가 여자를 좋아해</td>\n",
              "      <td>0</td>\n",
              "    </tr>\n",
              "    <tr>\n",
              "      <th>2</th>\n",
              "      <td>하모니</td>\n",
              "      <td>0</td>\n",
              "    </tr>\n",
              "    <tr>\n",
              "      <th>3</th>\n",
              "      <td>의형제</td>\n",
              "      <td>0</td>\n",
              "    </tr>\n",
              "    <tr>\n",
              "      <th>4</th>\n",
              "      <td>평행 이론</td>\n",
              "      <td>0</td>\n",
              "    </tr>\n",
              "  </tbody>\n",
              "</table>\n",
              "</div>\n",
              "    <div class=\"colab-df-buttons\">\n",
              "\n",
              "  <div class=\"colab-df-container\">\n",
              "    <button class=\"colab-df-convert\" onclick=\"convertToInteractive('df-27223124-aff4-44bb-91be-bdc29c626775')\"\n",
              "            title=\"Convert this dataframe to an interactive table.\"\n",
              "            style=\"display:none;\">\n",
              "\n",
              "  <svg xmlns=\"http://www.w3.org/2000/svg\" height=\"24px\" viewBox=\"0 -960 960 960\">\n",
              "    <path d=\"M120-120v-720h720v720H120Zm60-500h600v-160H180v160Zm220 220h160v-160H400v160Zm0 220h160v-160H400v160ZM180-400h160v-160H180v160Zm440 0h160v-160H620v160ZM180-180h160v-160H180v160Zm440 0h160v-160H620v160Z\"/>\n",
              "  </svg>\n",
              "    </button>\n",
              "\n",
              "  <style>\n",
              "    .colab-df-container {\n",
              "      display:flex;\n",
              "      gap: 12px;\n",
              "    }\n",
              "\n",
              "    .colab-df-convert {\n",
              "      background-color: #E8F0FE;\n",
              "      border: none;\n",
              "      border-radius: 50%;\n",
              "      cursor: pointer;\n",
              "      display: none;\n",
              "      fill: #1967D2;\n",
              "      height: 32px;\n",
              "      padding: 0 0 0 0;\n",
              "      width: 32px;\n",
              "    }\n",
              "\n",
              "    .colab-df-convert:hover {\n",
              "      background-color: #E2EBFA;\n",
              "      box-shadow: 0px 1px 2px rgba(60, 64, 67, 0.3), 0px 1px 3px 1px rgba(60, 64, 67, 0.15);\n",
              "      fill: #174EA6;\n",
              "    }\n",
              "\n",
              "    .colab-df-buttons div {\n",
              "      margin-bottom: 4px;\n",
              "    }\n",
              "\n",
              "    [theme=dark] .colab-df-convert {\n",
              "      background-color: #3B4455;\n",
              "      fill: #D2E3FC;\n",
              "    }\n",
              "\n",
              "    [theme=dark] .colab-df-convert:hover {\n",
              "      background-color: #434B5C;\n",
              "      box-shadow: 0px 1px 3px 1px rgba(0, 0, 0, 0.15);\n",
              "      filter: drop-shadow(0px 1px 2px rgba(0, 0, 0, 0.3));\n",
              "      fill: #FFFFFF;\n",
              "    }\n",
              "  </style>\n",
              "\n",
              "    <script>\n",
              "      const buttonEl =\n",
              "        document.querySelector('#df-27223124-aff4-44bb-91be-bdc29c626775 button.colab-df-convert');\n",
              "      buttonEl.style.display =\n",
              "        google.colab.kernel.accessAllowed ? 'block' : 'none';\n",
              "\n",
              "      async function convertToInteractive(key) {\n",
              "        const element = document.querySelector('#df-27223124-aff4-44bb-91be-bdc29c626775');\n",
              "        const dataTable =\n",
              "          await google.colab.kernel.invokeFunction('convertToInteractive',\n",
              "                                                    [key], {});\n",
              "        if (!dataTable) return;\n",
              "\n",
              "        const docLinkHtml = 'Like what you see? Visit the ' +\n",
              "          '<a target=\"_blank\" href=https://colab.research.google.com/notebooks/data_table.ipynb>data table notebook</a>'\n",
              "          + ' to learn more about interactive tables.';\n",
              "        element.innerHTML = '';\n",
              "        dataTable['output_type'] = 'display_data';\n",
              "        await google.colab.output.renderOutput(dataTable, element);\n",
              "        const docLink = document.createElement('div');\n",
              "        docLink.innerHTML = docLinkHtml;\n",
              "        element.appendChild(docLink);\n",
              "      }\n",
              "    </script>\n",
              "  </div>\n",
              "\n",
              "\n",
              "<div id=\"df-58887b3d-7595-49b2-b5c9-fd943f23741f\">\n",
              "  <button class=\"colab-df-quickchart\" onclick=\"quickchart('df-58887b3d-7595-49b2-b5c9-fd943f23741f')\"\n",
              "            title=\"Suggest charts\"\n",
              "            style=\"display:none;\">\n",
              "\n",
              "<svg xmlns=\"http://www.w3.org/2000/svg\" height=\"24px\"viewBox=\"0 0 24 24\"\n",
              "     width=\"24px\">\n",
              "    <g>\n",
              "        <path d=\"M19 3H5c-1.1 0-2 .9-2 2v14c0 1.1.9 2 2 2h14c1.1 0 2-.9 2-2V5c0-1.1-.9-2-2-2zM9 17H7v-7h2v7zm4 0h-2V7h2v10zm4 0h-2v-4h2v4z\"/>\n",
              "    </g>\n",
              "</svg>\n",
              "  </button>\n",
              "\n",
              "<style>\n",
              "  .colab-df-quickchart {\n",
              "      --bg-color: #E8F0FE;\n",
              "      --fill-color: #1967D2;\n",
              "      --hover-bg-color: #E2EBFA;\n",
              "      --hover-fill-color: #174EA6;\n",
              "      --disabled-fill-color: #AAA;\n",
              "      --disabled-bg-color: #DDD;\n",
              "  }\n",
              "\n",
              "  [theme=dark] .colab-df-quickchart {\n",
              "      --bg-color: #3B4455;\n",
              "      --fill-color: #D2E3FC;\n",
              "      --hover-bg-color: #434B5C;\n",
              "      --hover-fill-color: #FFFFFF;\n",
              "      --disabled-bg-color: #3B4455;\n",
              "      --disabled-fill-color: #666;\n",
              "  }\n",
              "\n",
              "  .colab-df-quickchart {\n",
              "    background-color: var(--bg-color);\n",
              "    border: none;\n",
              "    border-radius: 50%;\n",
              "    cursor: pointer;\n",
              "    display: none;\n",
              "    fill: var(--fill-color);\n",
              "    height: 32px;\n",
              "    padding: 0;\n",
              "    width: 32px;\n",
              "  }\n",
              "\n",
              "  .colab-df-quickchart:hover {\n",
              "    background-color: var(--hover-bg-color);\n",
              "    box-shadow: 0 1px 2px rgba(60, 64, 67, 0.3), 0 1px 3px 1px rgba(60, 64, 67, 0.15);\n",
              "    fill: var(--button-hover-fill-color);\n",
              "  }\n",
              "\n",
              "  .colab-df-quickchart-complete:disabled,\n",
              "  .colab-df-quickchart-complete:disabled:hover {\n",
              "    background-color: var(--disabled-bg-color);\n",
              "    fill: var(--disabled-fill-color);\n",
              "    box-shadow: none;\n",
              "  }\n",
              "\n",
              "  .colab-df-spinner {\n",
              "    border: 2px solid var(--fill-color);\n",
              "    border-color: transparent;\n",
              "    border-bottom-color: var(--fill-color);\n",
              "    animation:\n",
              "      spin 1s steps(1) infinite;\n",
              "  }\n",
              "\n",
              "  @keyframes spin {\n",
              "    0% {\n",
              "      border-color: transparent;\n",
              "      border-bottom-color: var(--fill-color);\n",
              "      border-left-color: var(--fill-color);\n",
              "    }\n",
              "    20% {\n",
              "      border-color: transparent;\n",
              "      border-left-color: var(--fill-color);\n",
              "      border-top-color: var(--fill-color);\n",
              "    }\n",
              "    30% {\n",
              "      border-color: transparent;\n",
              "      border-left-color: var(--fill-color);\n",
              "      border-top-color: var(--fill-color);\n",
              "      border-right-color: var(--fill-color);\n",
              "    }\n",
              "    40% {\n",
              "      border-color: transparent;\n",
              "      border-right-color: var(--fill-color);\n",
              "      border-top-color: var(--fill-color);\n",
              "    }\n",
              "    60% {\n",
              "      border-color: transparent;\n",
              "      border-right-color: var(--fill-color);\n",
              "    }\n",
              "    80% {\n",
              "      border-color: transparent;\n",
              "      border-right-color: var(--fill-color);\n",
              "      border-bottom-color: var(--fill-color);\n",
              "    }\n",
              "    90% {\n",
              "      border-color: transparent;\n",
              "      border-bottom-color: var(--fill-color);\n",
              "    }\n",
              "  }\n",
              "</style>\n",
              "\n",
              "  <script>\n",
              "    async function quickchart(key) {\n",
              "      const quickchartButtonEl =\n",
              "        document.querySelector('#' + key + ' button');\n",
              "      quickchartButtonEl.disabled = true;  // To prevent multiple clicks.\n",
              "      quickchartButtonEl.classList.add('colab-df-spinner');\n",
              "      try {\n",
              "        const charts = await google.colab.kernel.invokeFunction(\n",
              "            'suggestCharts', [key], {});\n",
              "      } catch (error) {\n",
              "        console.error('Error during call to suggestCharts:', error);\n",
              "      }\n",
              "      quickchartButtonEl.classList.remove('colab-df-spinner');\n",
              "      quickchartButtonEl.classList.add('colab-df-quickchart-complete');\n",
              "    }\n",
              "    (() => {\n",
              "      let quickchartButtonEl =\n",
              "        document.querySelector('#df-58887b3d-7595-49b2-b5c9-fd943f23741f button');\n",
              "      quickchartButtonEl.style.display =\n",
              "        google.colab.kernel.accessAllowed ? 'block' : 'none';\n",
              "    })();\n",
              "  </script>\n",
              "</div>\n",
              "    </div>\n",
              "  </div>\n"
            ],
            "application/vnd.google.colaboratory.intrinsic+json": {
              "type": "dataframe",
              "variable_name": "sub",
              "summary": "{\n  \"name\": \"sub\",\n  \"rows\": 243,\n  \"fields\": [\n    {\n      \"column\": \"title\",\n      \"properties\": {\n        \"dtype\": \"string\",\n        \"num_unique_values\": 243,\n        \"samples\": [\n          \"\\ud0c8\\uc8fc\",\n          \"\\uacbd\\uacc4\\ub3c4\\uc2dc 2\",\n          \"\\uc0b4\\uc778\\uc790\"\n        ],\n        \"semantic_type\": \"\",\n        \"description\": \"\"\n      }\n    },\n    {\n      \"column\": \"box_off_num\",\n      \"properties\": {\n        \"dtype\": \"number\",\n        \"std\": 0,\n        \"min\": 0,\n        \"max\": 0,\n        \"num_unique_values\": 1,\n        \"samples\": [\n          0\n        ],\n        \"semantic_type\": \"\",\n        \"description\": \"\"\n      }\n    }\n  ]\n}"
            }
          },
          "metadata": {},
          "execution_count": 83
        }
      ],
      "source": [
        "sub=pd.read_csv(path + \"submission.csv\")\n",
        "sub.head()"
      ]
    },
    {
      "cell_type": "markdown",
      "metadata": {
        "id": "bb3b21a3-8c6a-4f95-8ef8-d17aab436bda"
      },
      "source": [
        "# **train, test 데이터 전처리**"
      ]
    },
    {
      "cell_type": "code",
      "execution_count": 84,
      "metadata": {
        "id": "2ea32f1c-59bf-4178-8f27-20a8a488ba20"
      },
      "outputs": [],
      "source": [
        "# 결측치 처리\n",
        "train['dir_prev_bfnum'].fillna(0, inplace=True)\n",
        "test['dir_prev_bfnum'].fillna(0, inplace=True)\n",
        "\n",
        "# release_year, release_month 데이터 생성\n",
        "train['release_time']=pd.to_datetime(train['release_time']) # dt method 사용을 위해 날짜 형식으로 변환\n",
        "test['release_time']=pd.to_datetime(test['release_time'])\n",
        "train['release_year']=pd.to_numeric(train['release_time'].dt.year)\n",
        "test['release_year']=pd.to_numeric(test['release_time'].dt.year)\n",
        "train['release_month']=pd.to_numeric(train['release_time'].dt.month)\n",
        "test['release_month']=pd.to_numeric(test['release_time'].dt.month)\n",
        "\n",
        "# 불필요한 피처 제거\n",
        "train=train.drop(['title','director','release_time'], axis=1)\n",
        "test=test.drop(['title','director','release_time'], axis=1)\n",
        "\n",
        "# train 데이터 'dir_prev_bfnum' 이상치 삭제\n",
        "train = train.sort_values(by='dir_prev_bfnum', ascending=False).iloc[1:]\n",
        "\n",
        "# test 데이터 'time' 이상치 삭제\n",
        "test.sort_values(by='time', ascending=False)[0]=63"
      ]
    },
    {
      "cell_type": "code",
      "source": [
        "# 중복 distributor 처리\n",
        "def distr_preprocessing(x) :\n",
        "    if 'CGV' in x or '무비꼴라쥬' in x :\n",
        "        return 'CGV'\n",
        "    elif 'E&M' in x or 'CJ엔터테인먼트' in x or 'CJ 엔터테인먼트' in x:\n",
        "        return 'CJ E&M'\n",
        "    elif '롯데' in x :\n",
        "        return '롯데엔터테인먼트'\n",
        "    elif '스폰지' in x :\n",
        "        return '스폰지'\n",
        "    elif '싸이더스' in x or 'KT' in x:\n",
        "        return '싸이더스'\n",
        "    elif '마운틴' in x:\n",
        "        return '마운틴픽쳐스'\n",
        "    elif '메가박스' in x or '씨너스' in x:\n",
        "        return '메가박스플러스엠'\n",
        "    elif '쇼박스' in x or '(주)쇼박스' in x :\n",
        "        return '쇼박스'\n",
        "    elif '조이앤시네마' in x or '조이앤컨텐츠그룹' in x or '(주) 케이알씨지' in x or '드림팩트' in x:\n",
        "        return '조이앤'\n",
        "    elif '타임스토리' in x :\n",
        "        return '타임스토리'\n",
        "    elif '프리비젼' in x :\n",
        "        return '프리비젼'\n",
        "    elif '리틀빅픽' in x :\n",
        "        return '리틀빅픽쳐스'\n",
        "    elif '콘텐츠판다' in x or 'NEW' in x:\n",
        "        return 'NEW'\n",
        "    elif 'SK' in x:\n",
        "        return 'SK'\n",
        "    elif '마인스' in x:\n",
        "        return '마인스'\n",
        "    elif '에이원' in x:\n",
        "        return '에이원'\n",
        "    elif 'THE 픽쳐스' in x or '더픽쳐스' in x:\n",
        "        return '더픽쳐스'\n",
        "    elif '시네마 달' in x or '(주)시네마달' in x:\n",
        "        return '시네마달'\n",
        "    elif '와이드 릴리즈' in x or '와이드릴리즈' in x:\n",
        "        return '와이드릴리즈'\n",
        "    else :\n",
        "        return x\n",
        "\n",
        "train['distributor']=train['distributor'].apply(distr_preprocessing)\n",
        "test['distributor']=test['distributor'].apply(distr_preprocessing)"
      ],
      "metadata": {
        "id": "7CXvh2BkVXsv"
      },
      "execution_count": 85,
      "outputs": []
    },
    {
      "cell_type": "code",
      "execution_count": 86,
      "metadata": {
        "id": "3d445ebd-1ce7-4c84-97d0-5497a53e1aa2"
      },
      "outputs": [],
      "source": [
        "# 상위 14개 배급사를 제외한 배급사는 '기타'로 처리\n",
        "dist_train=train.distributor.value_counts()[:14]\n",
        "\n",
        "def distributor_etc(x):\n",
        "  if x in dist_train:\n",
        "    return x\n",
        "  else:\n",
        "    return('기타')\n",
        "\n",
        "train['distributor']=train['distributor'].apply(distributor_etc).apply(lambda x : distributor_etc(x))\n",
        "\n",
        "dist_test = dist_train.index.tolist()\n",
        "test['distributor'] = test['distributor'].apply(lambda x : x if x in dist_test else '기타')"
      ]
    },
    {
      "cell_type": "markdown",
      "source": [
        "상위 14개 배급사 : 롯데엔터테인먼트 쇼박스 NEW 조이앤 CJ E&M CGV 인디스토리 영화사 진진 마운틴픽쳐스 골든타이드픽처스 시너지 시네마달 싸이더스 어뮤즈"
      ],
      "metadata": {
        "id": "yOwBqrbWduKP"
      }
    },
    {
      "cell_type": "code",
      "execution_count": 87,
      "metadata": {
        "id": "aff13e3b-817c-46ea-8683-85c4a0b998a4"
      },
      "outputs": [],
      "source": [
        "# 관객수 log 변환 데이터 생성\n",
        "import numpy as np\n",
        "\n",
        "train_log=train.copy()\n",
        "train_log['box_off_num']=np.log1p(train_log['box_off_num'])"
      ]
    },
    {
      "cell_type": "code",
      "execution_count": 88,
      "metadata": {
        "id": "9aa4a30d-f192-4a21-be1d-ffc4b072c230"
      },
      "outputs": [],
      "source": [
        "# 원핫인코딩\n",
        "train=pd.get_dummies(train, columns=['genre','distributor','screening_rat','release_year','release_month'], drop_first=True)\n",
        "train_log=pd.get_dummies(train_log, columns=['genre','distributor','screening_rat','release_year','release_month'], drop_first=True)\n",
        "test=pd.get_dummies(test, columns=['genre','distributor','screening_rat','release_year','release_month'], drop_first=True)\n",
        "\n",
        "train=train.astype(int)\n",
        "train_log=train_log.astype(int)\n",
        "test=test.astype(int)"
      ]
    },
    {
      "cell_type": "markdown",
      "metadata": {
        "id": "1f696cc9-9245-43bd-bb86-e6fdb9381f48"
      },
      "source": [
        "# **train/log 변환 train 데이터 X, y로 나누기**"
      ]
    },
    {
      "cell_type": "code",
      "execution_count": 89,
      "metadata": {
        "id": "4c1b2515-e6c2-41e4-9b14-6346840ef453"
      },
      "outputs": [],
      "source": [
        "y_train=train['box_off_num']\n",
        "X_train=train.drop(['box_off_num'], axis=1, inplace=False)"
      ]
    },
    {
      "cell_type": "code",
      "execution_count": 90,
      "metadata": {
        "id": "b530b628-2a86-44c2-9c2a-b05e4f557af6"
      },
      "outputs": [],
      "source": [
        "y_log_train=train_log['box_off_num']\n",
        "X_log_train=train_log.drop(['box_off_num'], axis=1, inplace=False)"
      ]
    },
    {
      "cell_type": "code",
      "source": [
        "X_train.columns"
      ],
      "metadata": {
        "colab": {
          "base_uri": "https://localhost:8080/"
        },
        "id": "GXb2qWUUlrRx",
        "outputId": "989cd78f-03c6-4aa2-b295-51139eb4272d"
      },
      "execution_count": 91,
      "outputs": [
        {
          "output_type": "execute_result",
          "data": {
            "text/plain": [
              "Index(['time', 'dir_prev_bfnum', 'dir_prev_num', 'num_staff', 'num_actor',\n",
              "       'genre_공포', 'genre_느와르', 'genre_다큐멘터리', 'genre_드라마', 'genre_멜로/로맨스',\n",
              "       'genre_뮤지컬', 'genre_미스터리', 'genre_서스펜스', 'genre_애니메이션', 'genre_액션',\n",
              "       'genre_코미디', 'distributor_CGV', 'distributor_CJ E&M', 'distributor_NEW',\n",
              "       'distributor_골든타이드픽처스', 'distributor_기타', 'distributor_롯데엔터테인먼트',\n",
              "       'distributor_마운틴픽쳐스', 'distributor_쇼박스', 'distributor_시너지',\n",
              "       'distributor_시네마달', 'distributor_싸이더스', 'distributor_어뮤즈',\n",
              "       'distributor_인디스토리', 'distributor_조이앤', 'screening_rat_15세 관람가',\n",
              "       'screening_rat_전체 관람가', 'screening_rat_청소년 관람불가', 'release_year_2011',\n",
              "       'release_year_2012', 'release_year_2013', 'release_year_2014',\n",
              "       'release_year_2015', 'release_month_2', 'release_month_3',\n",
              "       'release_month_4', 'release_month_5', 'release_month_6',\n",
              "       'release_month_7', 'release_month_8', 'release_month_9',\n",
              "       'release_month_10', 'release_month_11', 'release_month_12'],\n",
              "      dtype='object')"
            ]
          },
          "metadata": {},
          "execution_count": 91
        }
      ]
    },
    {
      "cell_type": "code",
      "source": [
        "# 연속형 변수 선택\n",
        "continuous_vars=['time', 'dir_prev_bfnum', 'dir_prev_num', 'num_staff', 'num_actor']\n",
        "# 원핫인코딩 변수 선택\n",
        "one_hot_vars = ['genre_공포', 'genre_느와르', 'genre_다큐멘터리', 'genre_드라마', 'genre_멜로/로맨스',\n",
        "       'genre_뮤지컬', 'genre_미스터리', 'genre_서스펜스', 'genre_애니메이션', 'genre_액션',\n",
        "       'genre_코미디', 'distributor_CJ E&M', 'distributor_NEW',\n",
        "       'distributor_골든타이드픽처스', 'distributor_기타', 'distributor_롯데엔터테인먼트',\n",
        "       'distributor_마운틴픽쳐스', 'distributor_쇼박스', 'distributor_시너지',\n",
        "       'distributor_시네마달', 'distributor_싸이더스', 'distributor_어뮤즈',\n",
        "       'distributor_영화사 진진', 'distributor_인디스토리', 'distributor_조이앤',\n",
        "       'screening_rat_15세 관람가', 'screening_rat_전체 관람가',\n",
        "       'screening_rat_청소년 관람불가', 'release_year_2011', 'release_year_2012',\n",
        "       'release_year_2013', 'release_year_2014', 'release_year_2015',\n",
        "       'release_month_2', 'release_month_3', 'release_month_4',\n",
        "       'release_month_5', 'release_month_6', 'release_month_7',\n",
        "       'release_month_8', 'release_month_9', 'release_month_10',\n",
        "       'release_month_11', 'release_month_12']"
      ],
      "metadata": {
        "id": "wjL-5CuYlV_7"
      },
      "execution_count": 92,
      "outputs": []
    },
    {
      "cell_type": "code",
      "source": [
        "# standard scaling\n",
        "X_standard_train=X_train.copy()\n",
        "X_log_standard_train=X_log_train.copy()\n",
        "standard_test=test.copy()\n",
        "\n",
        "from sklearn.preprocessing import StandardScaler\n",
        "standard_scaler=StandardScaler()\n",
        "X_standard_train[continuous_vars]=standard_scaler.fit_transform(X_standard_train[continuous_vars])\n",
        "X_log_standard_train[continuous_vars]=standard_scaler.transform(X_log_standard_train[continuous_vars])\n",
        "standard_test[continuous_vars]=standard_scaler.transform(standard_test[continuous_vars])"
      ],
      "metadata": {
        "id": "mV_IuJ8L1PYk"
      },
      "execution_count": 93,
      "outputs": []
    },
    {
      "cell_type": "code",
      "source": [
        "# minmax scaling\n",
        "X_minmax_train=X_train.copy()\n",
        "minmax_test=test.copy()\n",
        "X_log_minmax_train=X_log_train.copy()\n",
        "\n",
        "from sklearn.preprocessing import MinMaxScaler\n",
        "minmax_scaler=MinMaxScaler()\n",
        "X_minmax_train[continuous_vars]=minmax_scaler.fit_transform(X_minmax_train[continuous_vars])\n",
        "X_log_minmax_train[continuous_vars]=minmax_scaler.transform(X_log_minmax_train[continuous_vars])\n",
        "minmax_test[continuous_vars]=minmax_scaler.transform(minmax_test[continuous_vars])"
      ],
      "metadata": {
        "id": "8seM2CuGlxgD"
      },
      "execution_count": 94,
      "outputs": []
    },
    {
      "cell_type": "markdown",
      "source": [
        "# MLR"
      ],
      "metadata": {
        "id": "bGHkuuhEIHDr"
      }
    },
    {
      "cell_type": "markdown",
      "source": [
        "선형회귀는 스케일링의 영향을 크게 받지 않기에 결과가 거의 같은 값"
      ],
      "metadata": {
        "id": "FeLBrXhgTOlV"
      }
    },
    {
      "cell_type": "code",
      "source": [
        "from sklearn.linear_model import LinearRegression, Ridge"
      ],
      "metadata": {
        "id": "NELxz6a4IINM"
      },
      "execution_count": 95,
      "outputs": []
    },
    {
      "cell_type": "code",
      "source": [
        "import matplotlib.pyplot as plt"
      ],
      "metadata": {
        "id": "kOkdMwLeSSIz"
      },
      "execution_count": 96,
      "outputs": []
    },
    {
      "cell_type": "code",
      "source": [
        "#X, X\n",
        "MLR = LinearRegression()\n",
        "MLR.fit(X_train, y_train)\n",
        "pred = MLR.predict(test)"
      ],
      "metadata": {
        "id": "ve0zeT0yIhlY"
      },
      "execution_count": 97,
      "outputs": []
    },
    {
      "cell_type": "code",
      "source": [
        "for i in range(len(pred)):\n",
        "  if pred[i] < 0:\n",
        "     pred[i] = 0"
      ],
      "metadata": {
        "id": "SYvLd4mdASQA"
      },
      "execution_count": 98,
      "outputs": []
    },
    {
      "cell_type": "code",
      "source": [
        "sub['box_off_num'] = pred\n",
        "sub.to_csv(path + 'submission_MLR_X.csv', index=False)"
      ],
      "metadata": {
        "id": "wnHK6sfAAPxi"
      },
      "execution_count": 99,
      "outputs": []
    },
    {
      "cell_type": "code",
      "source": [
        "plt.scatter(y_train, MLR.predict(X_train), color = \"b\")\n",
        "plt.plot(y_train, y_train, color = \"r\", label = \"y=x\")\n",
        "plt.xlabel(\"observed Y\")\n",
        "plt.ylabel(\"fitted Y\")\n",
        "plt.title(\"MLR Plot\")\n",
        "plt.legend()\n",
        "plt.show()"
      ],
      "metadata": {
        "colab": {
          "base_uri": "https://localhost:8080/",
          "height": 472
        },
        "id": "6gaTy48vSQD5",
        "outputId": "9300571d-a3a1-40a6-adb2-0f9033096989"
      },
      "execution_count": 100,
      "outputs": [
        {
          "output_type": "display_data",
          "data": {
            "text/plain": [
              "<Figure size 640x480 with 1 Axes>"
            ],
            "image/png": "[encoded data removed]"
          },
          "metadata": {}
        }
      ]
    },
    {
      "cell_type": "code",
      "source": [
        "#minmax, X\n",
        "MLR = LinearRegression()\n",
        "MLR.fit(X_minmax_train, y_train)\n",
        "pred = MLR.predict(minmax_test)"
      ],
      "metadata": {
        "id": "Bzuzpn3XJZ0Q"
      },
      "execution_count": 101,
      "outputs": []
    },
    {
      "cell_type": "code",
      "source": [
        "for i in range(len(pred)):\n",
        "  if pred[i] < 0:\n",
        "     pred[i] = 0"
      ],
      "metadata": {
        "id": "StpzQ734AQ9S"
      },
      "execution_count": 102,
      "outputs": []
    },
    {
      "cell_type": "code",
      "source": [
        "sub['box_off_num'] = pred\n",
        "sub.to_csv(path + 'submission_MLR_MM.csv', index=False)"
      ],
      "metadata": {
        "id": "hFekQGFfBE-I"
      },
      "execution_count": 103,
      "outputs": []
    },
    {
      "cell_type": "code",
      "source": [
        "plt.scatter(y_train, MLR.predict(X_minmax_train), color = \"b\")\n",
        "plt.plot(y_train, y_train, color = \"r\", label = \"y=x\")\n",
        "plt.xlabel(\"observed Y\")\n",
        "plt.ylabel(\"fitted Y\")\n",
        "plt.title(\"MLR Plot\")\n",
        "plt.legend()\n",
        "plt.show()"
      ],
      "metadata": {
        "colab": {
          "base_uri": "https://localhost:8080/",
          "height": 472
        },
        "id": "Dp-g0FvXSpj8",
        "outputId": "d9fedd90-fd8f-4fc6-e2c4-5fc4f85736b1"
      },
      "execution_count": 104,
      "outputs": [
        {
          "output_type": "display_data",
          "data": {
            "text/plain": [
              "<Figure size 640x480 with 1 Axes>"
            ],
            "image/png": "[encoded data removed]"
          },
          "metadata": {}
        }
      ]
    },
    {
      "cell_type": "code",
      "source": [
        "#Standard, X\n",
        "MLR = LinearRegression()\n",
        "MLR.fit(X_standard_train, y_train)\n",
        "pred = MLR.predict(standard_test)"
      ],
      "metadata": {
        "id": "3BR3zzQXJdJG"
      },
      "execution_count": 105,
      "outputs": []
    },
    {
      "cell_type": "code",
      "source": [
        "for i in range(len(pred)):\n",
        "  if pred[i] < 0:\n",
        "     pred[i] = 0"
      ],
      "metadata": {
        "id": "hTO9KXWHAOFp"
      },
      "execution_count": 106,
      "outputs": []
    },
    {
      "cell_type": "code",
      "source": [
        "sub['box_off_num'] = pred\n",
        "sub.to_csv(path + 'submission_MLR_SS.csv', index=False)"
      ],
      "metadata": {
        "id": "DG2fEWSOBMA8"
      },
      "execution_count": 107,
      "outputs": []
    },
    {
      "cell_type": "code",
      "source": [
        "plt.scatter(y_train, MLR.predict(X_standard_train), color = \"b\")\n",
        "plt.plot(y_train, y_train, color = \"r\", label = \"y=x\")\n",
        "plt.xlabel(\"observed Y\")\n",
        "plt.ylabel(\"fitted Y\")\n",
        "plt.title(\"MLR Plot\")\n",
        "plt.legend()\n",
        "plt.show()"
      ],
      "metadata": {
        "colab": {
          "base_uri": "https://localhost:8080/",
          "height": 472
        },
        "id": "V1svglz3VloC",
        "outputId": "5c94a524-c238-4571-af2b-3a2eb0107f54"
      },
      "execution_count": 108,
      "outputs": [
        {
          "output_type": "display_data",
          "data": {
            "text/plain": [
              "<Figure size 640x480 with 1 Axes>"
            ],
            "image/png": "[encoded data removed]"
          },
          "metadata": {}
        }
      ]
    },
    {
      "cell_type": "markdown",
      "source": [
        "# Ridge"
      ],
      "metadata": {
        "id": "cc813_5cUilk"
      }
    },
    {
      "cell_type": "code",
      "source": [
        "#X, X\n",
        "ridge = Ridge()\n",
        "ridge.fit(X_train, y_train)\n",
        "pred = ridge.predict(test)"
      ],
      "metadata": {
        "id": "72Jv1HSJ6gsD"
      },
      "execution_count": 109,
      "outputs": []
    },
    {
      "cell_type": "code",
      "source": [
        "for i in range(len(pred)):\n",
        "  if pred[i] < 0:\n",
        "     pred[i] = 0"
      ],
      "metadata": {
        "id": "lfXXpDquAIpe"
      },
      "execution_count": 110,
      "outputs": []
    },
    {
      "cell_type": "code",
      "source": [
        "sub['box_off_num'] = pred\n",
        "sub.to_csv(path + 'submission_Ridge_X.csv', index=False)"
      ],
      "metadata": {
        "id": "P-Cz7zTDBVFD"
      },
      "execution_count": 111,
      "outputs": []
    },
    {
      "cell_type": "code",
      "source": [
        "plt.scatter(y_train, ridge.predict(X_train), color = \"b\")\n",
        "plt.plot(y_train, y_train, color = \"r\", label = \"y=x\")\n",
        "plt.xlabel(\"observed Y\")\n",
        "plt.ylabel(\"fitted Y\")\n",
        "plt.title(\"MLR Plot\")\n",
        "plt.legend()\n",
        "plt.show()"
      ],
      "metadata": {
        "colab": {
          "base_uri": "https://localhost:8080/",
          "height": 472
        },
        "id": "QZxtzH8WVsv1",
        "outputId": "656916c5-ee6c-4338-8a93-3f179fdace4d"
      },
      "execution_count": 112,
      "outputs": [
        {
          "output_type": "display_data",
          "data": {
            "text/plain": [
              "<Figure size 640x480 with 1 Axes>"
            ],
            "image/png": "[encoded data removed]"
          },
          "metadata": {}
        }
      ]
    },
    {
      "cell_type": "code",
      "source": [
        "#minmax, X\n",
        "ridge = Ridge()\n",
        "ridge.fit(X_minmax_train, y_train)\n",
        "pred = ridge.predict(minmax_test)"
      ],
      "metadata": {
        "id": "Qw9qbLfK6gsE"
      },
      "execution_count": 113,
      "outputs": []
    },
    {
      "cell_type": "code",
      "source": [
        "for i in range(len(pred)):\n",
        "  if pred[i] < 0:\n",
        "     pred[i] = 0"
      ],
      "metadata": {
        "id": "wd3D4FATZaAk"
      },
      "execution_count": 114,
      "outputs": []
    },
    {
      "cell_type": "code",
      "source": [
        "sub['box_off_num'] = pred\n",
        "sub.to_csv(path + 'submission_Ridge_MM.csv', index=False)"
      ],
      "metadata": {
        "id": "8wssNLu7BZ96"
      },
      "execution_count": 115,
      "outputs": []
    },
    {
      "cell_type": "code",
      "source": [
        "plt.scatter(y_train, ridge.predict(X_minmax_train), color = \"b\")\n",
        "plt.plot(y_train, y_train, color = \"r\", label = \"y=x\")\n",
        "plt.xlabel(\"observed Y\")\n",
        "plt.ylabel(\"fitted Y\")\n",
        "plt.title(\"MLR Plot\")\n",
        "plt.legend()\n",
        "plt.show()"
      ],
      "metadata": {
        "colab": {
          "base_uri": "https://localhost:8080/",
          "height": 472
        },
        "id": "JjANaM2HV5al",
        "outputId": "67fb426f-1ad5-46f8-c0a5-5a20489edbdd"
      },
      "execution_count": 116,
      "outputs": [
        {
          "output_type": "display_data",
          "data": {
            "text/plain": [
              "<Figure size 640x480 with 1 Axes>"
            ],
            "image/png": "[encoded data removed]"
          },
          "metadata": {}
        }
      ]
    },
    {
      "cell_type": "code",
      "source": [
        "#Standard, X\n",
        "ridge = Ridge()\n",
        "ridge.fit(X_standard_train, y_train)\n",
        "pred = ridge.predict(standard_test)"
      ],
      "metadata": {
        "id": "JWeTStjo6gsE"
      },
      "execution_count": 117,
      "outputs": []
    },
    {
      "cell_type": "code",
      "source": [
        "for i in range(len(pred)):\n",
        "  if pred[i] < 0:\n",
        "     pred[i] = 0"
      ],
      "metadata": {
        "id": "hU2lbupFALS-"
      },
      "execution_count": 118,
      "outputs": []
    },
    {
      "cell_type": "code",
      "source": [
        "sub['box_off_num'] = pred\n",
        "sub.to_csv(path + 'submission_Ridge_SS.csv', index=False)"
      ],
      "metadata": {
        "id": "J9mhqPzTBgWf"
      },
      "execution_count": 119,
      "outputs": []
    },
    {
      "cell_type": "code",
      "source": [
        "plt.scatter(y_train, ridge.predict(X_standard_train), color = \"b\")\n",
        "plt.plot(y_train, y_train, color = \"r\", label = \"y=x\")\n",
        "plt.xlabel(\"observed Y\")\n",
        "plt.ylabel(\"fitted Y\")\n",
        "plt.title(\"MLR Plot\")\n",
        "plt.legend()\n",
        "plt.show()"
      ],
      "metadata": {
        "colab": {
          "base_uri": "https://localhost:8080/",
          "height": 472
        },
        "id": "1LqRsb13V7Jq",
        "outputId": "9fd76b25-971a-4830-c115-ee37709acc4c"
      },
      "execution_count": 120,
      "outputs": [
        {
          "output_type": "display_data",
          "data": {
            "text/plain": [
              "<Figure size 640x480 with 1 Axes>"
            ],
            "image/png": "[encoded data removed]"
          },
          "metadata": {}
        }
      ]
    },
    {
      "cell_type": "markdown",
      "source": [
        "## Ridge GridSearch"
      ],
      "metadata": {
        "id": "gzc39Qal7FjH"
      }
    },
    {
      "cell_type": "code",
      "source": [
        "from sklearn.model_selection import GridSearchCV"
      ],
      "metadata": {
        "id": "ZCXEpq1OFRrL"
      },
      "execution_count": 121,
      "outputs": []
    },
    {
      "cell_type": "code",
      "source": [
        "ridge_alpha = {'alpha': [0.001, 0.01, 0.05, 0.1, 0.2, 0.5,\n",
        "                         1, 3, 5, 7, 10, 15, 20, 25, 30, 40, 50,\n",
        "                         60, 70, 80 ,90, 100, 110, 125, 150, 200]}"
      ],
      "metadata": {
        "id": "r3E90h_17HRD"
      },
      "execution_count": 122,
      "outputs": []
    },
    {
      "cell_type": "code",
      "source": [
        "#X, X\n",
        "ridge = Ridge()\n",
        "grid_ridge = GridSearchCV(ridge, param_grid = ridge_alpha, scoring = 'neg_root_mean_squared_error', cv = 5, n_jobs = -1, refit=True)\n",
        "grid_ridge.fit(X_train, y_train)\n",
        "pred = grid_ridge.predict(test)\n",
        "\n",
        "print('최적 하이퍼 파라미터:\\n', grid_ridge.best_params_)\n",
        "print('최고 예측 RMSE: {0:.4f}'.format(-1* grid_ridge.best_score_))"
      ],
      "metadata": {
        "colab": {
          "base_uri": "https://localhost:8080/"
        },
        "id": "es4wD47t7wlU",
        "outputId": "754eb31e-4b7b-4911-ed53-4be1411e50b8"
      },
      "execution_count": 123,
      "outputs": [
        {
          "output_type": "stream",
          "name": "stdout",
          "text": [
            "최적 하이퍼 파라미터:\n",
            " {'alpha': 110}\n",
            "최고 예측 RMSE: 1464838.3711\n"
          ]
        }
      ]
    },
    {
      "cell_type": "code",
      "source": [
        "for i in range(len(pred)):\n",
        "  if pred[i] < 0:\n",
        "     pred[i] = 0"
      ],
      "metadata": {
        "id": "cj0VH7CDAF3e"
      },
      "execution_count": 124,
      "outputs": []
    },
    {
      "cell_type": "code",
      "source": [
        "sub['box_off_num'] = pred\n",
        "sub.to_csv(path + 'submission_Grid_X.csv', index=False)"
      ],
      "metadata": {
        "id": "xtg3feMvB74-"
      },
      "execution_count": 125,
      "outputs": []
    },
    {
      "cell_type": "code",
      "source": [
        "plt.scatter(y_train, grid_ridge.predict(X_train), color = \"b\")\n",
        "plt.plot(y_train, y_train, color = \"r\", label = \"y=x\")\n",
        "plt.xlabel(\"observed Y\")\n",
        "plt.ylabel(\"fitted Y\")\n",
        "plt.title(\"MLR Plot\")\n",
        "plt.legend()\n",
        "plt.show()"
      ],
      "metadata": {
        "colab": {
          "base_uri": "https://localhost:8080/",
          "height": 472
        },
        "id": "2F8b2sekV-E-",
        "outputId": "841b119f-85e4-43ae-d58f-3980a2546d8c"
      },
      "execution_count": 126,
      "outputs": [
        {
          "output_type": "display_data",
          "data": {
            "text/plain": [
              "<Figure size 640x480 with 1 Axes>"
            ],
            "image/png": "[encoded data removed]"
          },
          "metadata": {}
        }
      ]
    },
    {
      "cell_type": "code",
      "source": [
        "#minmax, X\n",
        "ridge = Ridge()\n",
        "grid_ridge = GridSearchCV(ridge, param_grid = ridge_alpha, scoring = 'neg_root_mean_squared_error', cv = 5, n_jobs = -1, refit=True)\n",
        "grid_ridge.fit(X_minmax_train, y_train)\n",
        "pred = grid_ridge.predict(minmax_test)\n",
        "\n",
        "print('최적 하이퍼 파라미터:\\n', grid_ridge.best_params_)\n",
        "print('최고 예측 RMSE: {0:.4f}'.format(-1* grid_ridge.best_score_))"
      ],
      "metadata": {
        "colab": {
          "base_uri": "https://localhost:8080/"
        },
        "id": "uYXPErFi7wlf",
        "outputId": "0ba64d36-8ce7-4835-8dfe-42714ef9d0a9"
      },
      "execution_count": 127,
      "outputs": [
        {
          "output_type": "stream",
          "name": "stdout",
          "text": [
            "최적 하이퍼 파라미터:\n",
            " {'alpha': 3}\n",
            "최고 예측 RMSE: 1387624.0501\n"
          ]
        }
      ]
    },
    {
      "cell_type": "code",
      "source": [
        "for i in range(len(pred)):\n",
        "  if pred[i] < 0:\n",
        "     pred[i] = 0"
      ],
      "metadata": {
        "id": "a_WgWHMdanFA"
      },
      "execution_count": 128,
      "outputs": []
    },
    {
      "cell_type": "code",
      "source": [
        "sub['box_off_num'] = pred\n",
        "sub.to_csv(path + 'submission_Grid_MM.csv', index=False)"
      ],
      "metadata": {
        "id": "Wq-1IpWLCfYs"
      },
      "execution_count": 129,
      "outputs": []
    },
    {
      "cell_type": "code",
      "source": [
        "plt.scatter(y_train, grid_ridge.predict(X_minmax_train), color = \"b\")\n",
        "plt.plot(y_train, y_train, color = \"r\", label = \"y=x\")\n",
        "plt.xlabel(\"observed Y\")\n",
        "plt.ylabel(\"fitted Y\")\n",
        "plt.title(\"MLR Plot\")\n",
        "plt.legend()\n",
        "plt.show()"
      ],
      "metadata": {
        "colab": {
          "base_uri": "https://localhost:8080/",
          "height": 472
        },
        "id": "iyTct1TMWFHZ",
        "outputId": "689e81f7-4716-4df1-932a-7a37f27ab46d"
      },
      "execution_count": 130,
      "outputs": [
        {
          "output_type": "display_data",
          "data": {
            "text/plain": [
              "<Figure size 640x480 with 1 Axes>"
            ],
            "image/png": "[encoded data removed]"
          },
          "metadata": {}
        }
      ]
    },
    {
      "cell_type": "code",
      "source": [
        "#Standard, X\n",
        "ridge = Ridge()\n",
        "grid_ridge = GridSearchCV(ridge, param_grid = ridge_alpha, scoring = 'neg_root_mean_squared_error', cv = 5, n_jobs = -1, refit=True)\n",
        "grid_ridge.fit(X_standard_train, y_train)\n",
        "pred = grid_ridge.predict(standard_test)\n",
        "\n",
        "print('최적 하이퍼 파라미터:\\n', grid_ridge.best_params_)\n",
        "print('최고 예측 RMSE: {0:.4f}'.format(-1* grid_ridge.best_score_))"
      ],
      "metadata": {
        "colab": {
          "base_uri": "https://localhost:8080/"
        },
        "id": "WTfeIpsA7wlf",
        "outputId": "ce675750-6149-40a2-af94-737257a41675"
      },
      "execution_count": 131,
      "outputs": [
        {
          "output_type": "stream",
          "name": "stdout",
          "text": [
            "최적 하이퍼 파라미터:\n",
            " {'alpha': 30}\n",
            "최고 예측 RMSE: 1382651.7379\n"
          ]
        }
      ]
    },
    {
      "cell_type": "code",
      "source": [
        "for i in range(len(pred)):\n",
        "  if pred[i] < 0:\n",
        "     pred[i] = 0"
      ],
      "metadata": {
        "id": "UHSHmPPkAHC-"
      },
      "execution_count": 132,
      "outputs": []
    },
    {
      "cell_type": "code",
      "source": [
        "sub['box_off_num'] = pred\n",
        "sub.to_csv(path + 'submission_Grid_SS.csv', index=False)"
      ],
      "metadata": {
        "id": "BVa5pKyvCmUj"
      },
      "execution_count": 133,
      "outputs": []
    },
    {
      "cell_type": "code",
      "source": [
        "plt.scatter(y_train, grid_ridge.predict(X_standard_train), color = \"b\")\n",
        "plt.plot(y_train, y_train, color = \"r\", label = \"y=x\")\n",
        "plt.xlabel(\"observed Y\")\n",
        "plt.ylabel(\"fitted Y\")\n",
        "plt.title(\"MLR Plot\")\n",
        "plt.legend()\n",
        "plt.show()"
      ],
      "metadata": {
        "colab": {
          "base_uri": "https://localhost:8080/",
          "height": 472
        },
        "id": "xpjqmi54WIs1",
        "outputId": "aae91198-4ea1-4a1f-8591-54a2ff94c700"
      },
      "execution_count": 134,
      "outputs": [
        {
          "output_type": "display_data",
          "data": {
            "text/plain": [
              "<Figure size 640x480 with 1 Axes>"
            ],
            "image/png": "[encoded data removed]"
          },
          "metadata": {}
        }
      ]
    },
    {
      "cell_type": "code",
      "source": [],
      "metadata": {
        "id": "tJDuiwl_FZuQ"
      },
      "execution_count": 134,
      "outputs": []
    }
  ]
}