{
  "nbformat": 4,
  "nbformat_minor": 0,
  "metadata": {
    "colab": {
      "provenance": [],
      "authorship_tag": "ABX9TyM4KYTxz5SfKGCY5L5PwDXF",
      "include_colab_link": true
    },
    "kernelspec": {
      "name": "python3",
      "display_name": "Python 3"
    },
    "language_info": {
      "name": "python"
    }
  },
  "cells": [
    {
      "cell_type": "markdown",
      "metadata": {
        "id": "view-in-github",
        "colab_type": "text"
      },
      "source": [
        "<a href=\"https://colab.research.google.com/github/whyeon92/ESAA_YB/blob/Code_Study/ESAA_HW0401.ipynb\" target=\"_parent\"><img src=\"https://colab.research.google.com/assets/colab-badge.svg\" alt=\"Open In Colab\"/></a>"
      ]
    },
    {
      "cell_type": "code",
      "source": [
        "#구글 코랩 환경 사용으로 드라이브 마운트 및 디렉터리 설정\n",
        "from google.colab import drive\n",
        "drive.mount('/content/gdrive/')\n",
        "\n",
        "path = \"/content/gdrive/My Drive/ESAAData/\""
      ],
      "metadata": {
        "colab": {
          "base_uri": "https://localhost:8080/"
        },
        "id": "NKfEvsL_iGGq",
        "outputId": "e61d7175-4d3e-48ed-8407-f66eb275501e"
      },
      "execution_count": 1,
      "outputs": [
        {
          "output_type": "stream",
          "name": "stdout",
          "text": [
            "Mounted at /content/gdrive/\n"
          ]
        }
      ]
    },
    {
      "cell_type": "markdown",
      "source": [
        "# 📌 3-1. 정확도 (Accuracy)"
      ],
      "metadata": {
        "id": "z6rl9qC9iJZb"
      }
    },
    {
      "cell_type": "code",
      "execution_count": 2,
      "metadata": {
        "id": "7VqDtTEAJyyh"
      },
      "outputs": [],
      "source": [
        "from sklearn.base import BaseEstimator\n",
        "\n",
        "class MyDummyClassifier(BaseEstimator):\n",
        "  #fit() 메서드는 아무것도 학습하지 않음\n",
        "  def fit(self, X, y = None):\n",
        "    pass\n",
        "  #predict() 메서드는 단순히 Sex 피처가 1이면 0, 그렇지 않으면 1로 예측함\n",
        "  def predict(self, X):\n",
        "    pred = np.zeros((X.shape[0], 1))\n",
        "    for i in range(X.shape[0]):\n",
        "      if X['Sex'].iloc[i] == 1:\n",
        "        pred[i] = 0\n",
        "      else:\n",
        "        pred[i] = 1\n",
        "\n",
        "    return pred"
      ]
    },
    {
      "cell_type": "code",
      "source": [
        "from sklearn.preprocessing import LabelEncoder\n",
        "import numpy as np\n",
        "#Null 처리 함수\n",
        "def fillna(df):\n",
        "  df['Age'].fillna(df['Age'].mean(), inplace = True)\n",
        "  df['Cabin'].fillna('N', inplace = True)\n",
        "  df['Embarked'].fillna('N', inplace = True)\n",
        "  df['Fare'].fillna(0, inplace = True)  #숫자형이라서 결측값은 0으로 변환\n",
        "  return df\n",
        "\n",
        "#머신러닝 알고리즘에 불필요한 속성 제거\n",
        "def drop_features(df):\n",
        "  df.drop(['PassengerId', 'Name', 'Ticket'], axis = 1, inplace = True)\n",
        "  return df\n",
        "\n",
        "#레이블 인코딩 수행\n",
        "def format_features(df):\n",
        "  df['Cabin'] = df['Cabin'].str[:1]\n",
        "  features = ['Cabin', 'Sex', 'Embarked']\n",
        "  for feature in features:\n",
        "    le = LabelEncoder()\n",
        "    le = le.fit(df[feature])\n",
        "    df[feature] = le.transform(df[feature])\n",
        "  return df\n",
        "\n",
        "#앞에서 설정한 데이터 전처리 함수 호출\n",
        "def transform_features(df):\n",
        "  df = fillna(df)\n",
        "  df = drop_features(df)\n",
        "  df = format_features(df)\n",
        "  return df"
      ],
      "metadata": {
        "id": "zEzZKtD92Oy6"
      },
      "execution_count": 7,
      "outputs": []
    },
    {
      "cell_type": "code",
      "source": [
        "import pandas as pd\n",
        "from sklearn.model_selection import train_test_split\n",
        "from sklearn.metrics import accuracy_score\n",
        "\n",
        "#원본 데이터를 재로딩, 데이터 가공, 학습 데이터/테스트 데이터 분할\n",
        "titanic_df = pd.read_csv(path + 'titanic_train.csv')\n",
        "y_titanic_df = titanic_df['Survived']\n",
        "X_titanic_df = titanic_df.drop('Survived', axis = 1)\n",
        "#transform_features() 사용자 정의 함수라서 이전 챕터 코드 그대로 가져와서 위에 코드셀로 추가적으로 삽입함.\n",
        "X_titanic_df = transform_features(X_titanic_df)\n",
        "X_train, X_test, y_train, y_test = train_test_split(X_titanic_df, y_titanic_df, test_size = 0.2, random_state = 0)\n",
        "\n",
        "#위에서 생성한 Dummy Classifier를 이용해 학습/예측/평가 수행\n",
        "myclf = MyDummyClassifier()  #MyDummyClassifier를 이용해 객체 생성\n",
        "myclf.fit(X_train, y_train)  #myclf에 fit 메소드 적용\n",
        "\n",
        "mypredictions = myclf.predict(X_test)\n",
        "print('Dummy Classifier의 정확도는: {0:.4f}'.format(accuracy_score(y_test, mypredictions)))"
      ],
      "metadata": {
        "colab": {
          "base_uri": "https://localhost:8080/"
        },
        "id": "jg87JnQJaMaj",
        "outputId": "46edd5c1-87e8-4af8-9eec-a827fd0843aa"
      },
      "execution_count": 8,
      "outputs": [
        {
          "output_type": "stream",
          "name": "stdout",
          "text": [
            "Dummy Classifier의 정확도는: 0.7877\n"
          ]
        }
      ]
    },
    {
      "cell_type": "code",
      "source": [
        "from sklearn.datasets import load_digits\n",
        "from sklearn.model_selection import train_test_split\n",
        "from sklearn.base import BaseEstimator\n",
        "from sklearn.metrics import accuracy_score\n",
        "import numpy as np\n",
        "import pandas as pd\n",
        "\n",
        "class MyFakeClassifier(BaseEstimator):\n",
        "  def fit(self, X, y):\n",
        "    pass\n",
        "\n",
        "  #입력값으로 들어오는 X 데이터 세트의 크기만큼 모두 0값으로 만들어서 반환\n",
        "  def predict(self, X):\n",
        "    return np.zeros((len(X), 1), dtype = bool)\n",
        "\n",
        "#사이킷런의 내장 데이터 세트인 load_digits()를 이용해 MNIST 데이터 로딩\n",
        "digits = load_digits()\n",
        "\n",
        "#digits 번호가 7번이면 True이고 이를 astype(int)로 1로 변환, 7이 아니면 False이고 이를 0으로 변환\n",
        "y = (digits.target ==7).astype(int)\n",
        "X_train, X_test, y_train, y_test = train_test_split(digits.data, y, random_state = 11)"
      ],
      "metadata": {
        "id": "_8I2h4AldOs9"
      },
      "execution_count": 9,
      "outputs": []
    },
    {
      "cell_type": "code",
      "source": [
        "#불균형한 레이블 데이터 분포도 확인\n",
        "print('레이블 테스트 세트 크기:', y_test.shape)\n",
        "print('테스트 세트 레이블 0과 1의 분포도')\n",
        "print(pd.Series(y_test).value_counts())\n",
        "\n",
        "#Dummy Classifier로 학습/예측/정확도 평가\n",
        "fakeclf = MyFakeClassifier()\n",
        "fakeclf.fit(X_train, y_train)\n",
        "fakepred = fakeclf.predict(X_test)\n",
        "print('모든 예측을 0으로 하여도 정확도는: {:.3f}'.format(accuracy_score(y_test, fakepred)))"
      ],
      "metadata": {
        "colab": {
          "base_uri": "https://localhost:8080/"
        },
        "id": "gb4sKTVxhQni",
        "outputId": "31a2db30-1453-420b-a325-381f9f22f3e1"
      },
      "execution_count": 11,
      "outputs": [
        {
          "output_type": "stream",
          "name": "stdout",
          "text": [
            "레이블 테스트 세트 크기: (450,)\n",
            "테스트 세트 레이블 0과 1의 분포도\n",
            "0    405\n",
            "1     45\n",
            "dtype: int64\n",
            "모든 예측을 0으로 하여도 정확도는: 0.900\n"
          ]
        }
      ]
    },
    {
      "cell_type": "markdown",
      "source": [
        "정확도 = (예측결과가 동일한 데이터 건수)/(전체 예측 데이터 건수)  \n",
        "- 직관적으로 예측 성능을 나타냄\n",
        "- 레이블이 불균형한 분류의 경우 성능을 왜곡할 수 있음. (1이 다수, 0이 소수인 데이터에서 레이블을 다 1로 예측하면 그나마 성능이 높은 그런 경우...)  "
      ],
      "metadata": {
        "id": "LZHvL0WG4Kpi"
      }
    },
    {
      "cell_type": "markdown",
      "source": [
        "# 📌 3-2. 오차 행렬"
      ],
      "metadata": {
        "id": "cZk-YJGDh0BO"
      }
    },
    {
      "cell_type": "code",
      "source": [
        "from sklearn.metrics import confusion_matrix\n",
        "\n",
        "confusion_matrix(y_test, fakepred)"
      ],
      "metadata": {
        "colab": {
          "base_uri": "https://localhost:8080/"
        },
        "id": "XauXigVEh4eQ",
        "outputId": "9bc1743f-6699-4e98-f01c-030011dc9e53"
      },
      "execution_count": 12,
      "outputs": [
        {
          "output_type": "execute_result",
          "data": {
            "text/plain": [
              "array([[405,   0],\n",
              "       [ 45,   0]])"
            ]
          },
          "metadata": {},
          "execution_count": 12
        }
      ]
    },
    {
      "cell_type": "markdown",
      "source": [
        "|TN | FP |\n",
        "|--|--|\n",
        "|FN | TP|  \n",
        "\n",
        "위와 같은 모양의 표로 분류 결과를 한번에 정리할 수 있다.\n",
        "- TN (True Negative) : 0으로 예측, 실제값도 0\n",
        "- FP (False Positive) : 1로 예측했는데 실제값은 0\n",
        "- FN (False Negative) : 0으로 예측했는데 실제값은 1\n",
        "- TP (True positive): 1로 예측, 실제로도 1\n",
        "-T/F는 내 예측이 맞냐 틀리냐, 뒤의 Positive, Negative는 내가 예측한 값이 0인지 1인지!\n",
        "-`confusion_matrix(y_test, pred)` API로 간단하게 오차 행렬을 사용 가능, 이 때 반환 값은 ndarray 형태\n",
        "- 위에서 다룬 정확도를 (TN+TP)/(TN+TP+FN+FP) 와 같이 표현 가능하다! ~엠비티아이같아...~"
      ],
      "metadata": {
        "id": "HgIDSzsE5PY1"
      }
    },
    {
      "cell_type": "markdown",
      "source": [
        "# 📌 3-3. 정밀도와 재현율"
      ],
      "metadata": {
        "id": "8P8AAAb_iXh4"
      }
    },
    {
      "cell_type": "code",
      "source": [
        "from sklearn.metrics import accuracy_score, precision_score, recall_score, confusion_matrix\n",
        "\n",
        "def get_clf_eval(y_test, pred):\n",
        "  confusion = confusion_matrix(y_test, pred)\n",
        "  accuracy = accuracy_score(y_test, pred)\n",
        "  precision = precision_score(y_test, pred)\n",
        "  recall = recall_score(y_test, pred)\n",
        "  print('오차행렬')\n",
        "  print(confusion)\n",
        "  print('정확도: {0:.4f}, 정밀도: {1:.4f}, 재현율: {2:.4f}'.format(accuracy, precision, recall))"
      ],
      "metadata": {
        "id": "T3oRQPt-iiO4"
      },
      "execution_count": 14,
      "outputs": []
    },
    {
      "cell_type": "code",
      "source": [
        "import pandas as pd\n",
        "from sklearn.model_selection import train_test_split\n",
        "from sklearn.linear_model import LogisticRegression\n",
        "\n",
        "#원본 데이터를 재로딩, 데이터 가공, 학습 데이터/테스트 데이터 분할\n",
        "titanic_df = pd.read_csv(path + 'titanic_train.csv')\n",
        "y_titanic_df = titanic_df['Survived']\n",
        "X_titanic_df = titanic_df.drop('Survived', axis = 1)\n",
        "X_titanic_df = transform_features(X_titanic_df)\n",
        "\n",
        "X_train, X_test, y_train, y_test = train_test_split(X_titanic_df, y_titanic_df, test_size = 0.20, random_state = 11)\n",
        "\n",
        "lr_clf = LogisticRegression()\n",
        "\n",
        "lr_clf.fit(X_train, y_train)\n",
        "pred = lr_clf.predict(X_test)\n",
        "get_clf_eval(y_test, pred)"
      ],
      "metadata": {
        "colab": {
          "base_uri": "https://localhost:8080/"
        },
        "id": "pl3SIyuOnJ8b",
        "outputId": "3d30876e-5379-4b9a-c4f1-f1230a4d40cf"
      },
      "execution_count": 15,
      "outputs": [
        {
          "output_type": "stream",
          "name": "stdout",
          "text": [
            "오차행렬\n",
            "[[104  14]\n",
            " [ 13  48]]\n",
            "정확도: 0.8492, 정밀도: 0.7742, 재현율: 0.7869\n"
          ]
        },
        {
          "output_type": "stream",
          "name": "stderr",
          "text": [
            "/usr/local/lib/python3.10/dist-packages/sklearn/linear_model/_logistic.py:458: ConvergenceWarning: lbfgs failed to converge (status=1):\n",
            "STOP: TOTAL NO. of ITERATIONS REACHED LIMIT.\n",
            "\n",
            "Increase the number of iterations (max_iter) or scale the data as shown in:\n",
            "    https://scikit-learn.org/stable/modules/preprocessing.html\n",
            "Please also refer to the documentation for alternative solver options:\n",
            "    https://scikit-learn.org/stable/modules/linear_model.html#logistic-regression\n",
            "  n_iter_i = _check_optimize_result(\n"
          ]
        }
      ]
    },
    {
      "cell_type": "markdown",
      "source": [
        "/usr/local/lib/python3.10/dist-packages/sklearn/linear_model/_logistic.py:458: ConvergenceWarning: lbfgs failed to converge (status=1):\n",
        "STOP: TOTAL NO. of ITERATIONS REACHED LIMIT.\n",
        "\n",
        "Increase the number of iterations (max_iter) or scale the data as shown in:\n",
        "    https://scikit-learn.org/stable/modules/preprocessing.html\n",
        "Please also refer to the documentation for alternative solver options:\n",
        "    https://scikit-learn.org/stable/modules/linear_model.html#logistic-regression\n",
        "  n_iter_i = _check_optimize_result(  \n",
        "  \n",
        "지난번 같은 오류 나길래 max_iter를 디폴트보다 크게 늘려봤습니다.  "
      ],
      "metadata": {
        "id": "2N2R7Y0pInVx"
      }
    },
    {
      "cell_type": "code",
      "source": [
        "import pandas as pd\n",
        "from sklearn.model_selection import train_test_split\n",
        "from sklearn.linear_model import LogisticRegression\n",
        "\n",
        "#원본 데이터를 재로딩, 데이터 가공, 학습 데이터/테스트 데이터 분할\n",
        "titanic_df = pd.read_csv(path + 'titanic_train.csv')\n",
        "y_titanic_df = titanic_df['Survived']\n",
        "X_titanic_df = titanic_df.drop('Survived', axis = 1)\n",
        "X_titanic_df = transform_features(X_titanic_df)\n",
        "\n",
        "X_train, X_test, y_train, y_test = train_test_split(X_titanic_df, y_titanic_df, test_size = 0.20, random_state = 11)\n",
        "\n",
        "lr_clf = LogisticRegression(max_iter = 300)\n",
        "\n",
        "lr_clf.fit(X_train, y_train)\n",
        "pred = lr_clf.predict(X_test)\n",
        "get_clf_eval(y_test, pred)"
      ],
      "metadata": {
        "colab": {
          "base_uri": "https://localhost:8080/"
        },
        "id": "DP47Z64pImZL",
        "outputId": "0b93e04b-92b4-448b-af1a-e716feaaaef3"
      },
      "execution_count": 16,
      "outputs": [
        {
          "output_type": "stream",
          "name": "stdout",
          "text": [
            "오차행렬\n",
            "[[104  14]\n",
            " [ 13  48]]\n",
            "정확도: 0.8492, 정밀도: 0.7742, 재현율: 0.7869\n"
          ]
        }
      ]
    },
    {
      "cell_type": "markdown",
      "source": [
        "여전히 다를건 없는데 경고문을 왜 띄우는 건지... 그치만 우선 없앴으니까 된거지..."
      ],
      "metadata": {
        "id": "lb6EmVcfI7Tv"
      }
    },
    {
      "cell_type": "markdown",
      "source": [
        "정밀도(Precision) = TP/(FP+TP)  \n",
        " : 1이라고 예측한 애들 중 진짜 1인 비율  \n",
        " - Positive 예측 성능을 더욱 정밀하게 측정하기 위한 지표로 양성 예측도라고도 부름  \n",
        " - FP를 낮추는 데 초점\n",
        "\n",
        "재현율(Recall) = TP/(FN+TP)   \n",
        " : 실제값이 1인 애들 중 맞게 예측한 비율\n",
        " - 민감도 또는 TPR(True Positive Rate)라고도 부름  \n",
        " - FN을 낮추는 데 초점\n",
        "   \n",
        "업무나 사용분야에 따라 정밀도와 재현율 중 중시할 지표가 달라짐.  \n",
        "예를 들어 진짜 암환자를 정상이라고 판단하면 큰일이 나니까 이런 경우 재현율이 훨씬 중요해짐!  \n",
        "다른 예로 스팸메일을 거를 때 스팸메일(1)이 아닌 정상업무메일(0)을 1이라고 판단하면 큰일나니까 이 땐 정밀도가 더 중요함   \n",
        "그러니까 어디에 어느 지표를 쓸 지 잘 생각해보고 결정해야함.\n",
        "- 정밀도가 중요! -> 0을 1로 판단하면 영향이 큰 경우\n",
        "- 재현율이 중요! -> 1을 0으로 판단하게 되면 큰일나는 경우\n",
        "근데 보통 재현율이 더 중요시되는 경우가 많은 듯 하다~\n"
      ],
      "metadata": {
        "id": "7oqVmcvW_mVR"
      }
    },
    {
      "cell_type": "markdown",
      "source": [
        "## 정밀도/재현율 트레이드 오프"
      ],
      "metadata": {
        "id": "ho2ADWaZZ4BQ"
      }
    },
    {
      "cell_type": "code",
      "source": [
        "pred_proba = lr_clf.predict_proba(X_test)\n",
        "pred = lr_clf.predict(X_test)\n",
        "print('pred_proba() 결과 Shape: {0}'.format(pred_proba.shape))\n",
        "print('pred_proba array에서 앞 3개만 샘플로 추출 \\n: ', pred_proba[:3])\n",
        "\n",
        "#예측 확률 array와 예측 결괏값 array를 병합(concatenate)해 예측 확률과 결괏값을 한눈에 확인\n",
        "pred_proba_result = np.concatenate([pred_proba, pred.reshape(-1, 1)], axis = 1)\n",
        "print('두 개의 class 중에서 더 큰 확률을 클래스 값으로 예측 \\n', pred_proba_result[:3])"
      ],
      "metadata": {
        "colab": {
          "base_uri": "https://localhost:8080/"
        },
        "id": "oFeqck6DX9Fx",
        "outputId": "06c8d989-1b9e-4420-d496-13f6ac3dead6"
      },
      "execution_count": 17,
      "outputs": [
        {
          "output_type": "stream",
          "name": "stdout",
          "text": [
            "pred_proba() 결과 Shape: (179, 2)\n",
            "pred_proba array에서 앞 3개만 샘플로 추출 \n",
            ":  [[0.4621693  0.5378307 ]\n",
            " [0.87879062 0.12120938]\n",
            " [0.87724729 0.12275271]]\n",
            "두 개의 class 중에서 더 큰 확률을 클래스 값으로 예측 \n",
            " [[0.4621693  0.5378307  1.        ]\n",
            " [0.87879062 0.12120938 0.        ]\n",
            " [0.87724729 0.12275271 0.        ]]\n"
          ]
        }
      ]
    },
    {
      "cell_type": "code",
      "source": [
        "from sklearn.preprocessing import Binarizer\n",
        "\n",
        "X = [[1, -1, 2],\n",
        "     [2, 0, 0],\n",
        "     [0, 1.1, 1.2]]\n",
        "\n",
        "#X의 개별 원소들이 threshold 값보다 길거나 작으면 0을, 크면 1을 반환\n",
        "binarizer = Binarizer(threshold = 1.1)\n",
        "print(binarizer.fit_transform(X))"
      ],
      "metadata": {
        "colab": {
          "base_uri": "https://localhost:8080/"
        },
        "id": "wMrM0TLgX_ZS",
        "outputId": "846b737c-ca7c-4b12-99ca-017db6f7032e"
      },
      "execution_count": 18,
      "outputs": [
        {
          "output_type": "stream",
          "name": "stdout",
          "text": [
            "[[0. 0. 1.]\n",
            " [1. 0. 0.]\n",
            " [0. 0. 1.]]\n"
          ]
        }
      ]
    },
    {
      "cell_type": "code",
      "source": [
        "from sklearn.preprocessing import Binarizer\n",
        "\n",
        "#Binarizer의 threshold 설정값. 분류 결정 임계값임.\n",
        "custom_threshold = 0.5\n",
        "\n",
        "#predict_proba() 반환값의 두 번째 칼럼, 즉 Positive 클래스 칼럼 하나만 추출해 Binarizer 적용\n",
        "pred_proba_1 = pred_proba[:, 1].reshape(-1, 1)\n",
        "\n",
        "binarizer = Binarizer(threshold = custom_threshold).fit(pred_proba_1)\n",
        "custom_predict = binarizer.transform(pred_proba_1)\n",
        "\n",
        "get_clf_eval(y_test, custom_predict)"
      ],
      "metadata": {
        "colab": {
          "base_uri": "https://localhost:8080/"
        },
        "id": "IJdKxB4EX_Cx",
        "outputId": "46f1f77e-af5c-4093-cbf0-8f89fe78a6c6"
      },
      "execution_count": 19,
      "outputs": [
        {
          "output_type": "stream",
          "name": "stdout",
          "text": [
            "오차행렬\n",
            "[[104  14]\n",
            " [ 13  48]]\n",
            "정확도: 0.8492, 정밀도: 0.7742, 재현율: 0.7869\n"
          ]
        }
      ]
    },
    {
      "cell_type": "code",
      "source": [
        "#Binarizer의 threshold 설정값을 0.4로 설정. 즉, 분류 결정 임곗값을 0,5에서 0.4로 낮춤\n",
        "#즉 0.4 보다 크면 Positive로 판단하게 된다는 것!\n",
        "\n",
        "custom_threshold = 0.4\n",
        "pred_proba_1 = pred_proba[:, 1].reshape(-1, 1)\n",
        "binarizer = Binarizer(threshold = custom_threshold).fit(pred_proba_1)\n",
        "custom_predict = binarizer.transform(pred_proba_1)\n",
        "\n",
        "get_clf_eval(y_test, custom_predict)"
      ],
      "metadata": {
        "colab": {
          "base_uri": "https://localhost:8080/"
        },
        "id": "qpSS3orbYBLo",
        "outputId": "dad9e412-7a90-4d76-a3d7-f6092c925a34"
      },
      "execution_count": 21,
      "outputs": [
        {
          "output_type": "stream",
          "name": "stdout",
          "text": [
            "오차행렬\n",
            "[[98 20]\n",
            " [10 51]]\n",
            "정확도: 0.8324, 정밀도: 0.7183, 재현율: 0.8361\n"
          ]
        }
      ]
    },
    {
      "cell_type": "code",
      "source": [
        "#테스트를 수행할 모든 임계값을 리스트 객체로 저장\n",
        "thresholds = [0.4, 0.45, 0.5, 0.55, 0.6]\n",
        "\n",
        "def get_eval_by_threshold(y_test, pred_proba_c1, thresholds):\n",
        "  #thresholds list 객체 내의 값을 차례로 iteration하면서 Evaluation 수행\n",
        "  for custom_threshold in thresholds:\n",
        "    binarizer = Binarizer(threshold = custom_threshold).fit(pred_proba_c1)\n",
        "    custom_predict = binarizer.transform(pred_proba_c1)\n",
        "    print('임곗값: ', custom_threshold)\n",
        "    get_clf_eval(y_test, custom_predict)\n",
        "\n",
        "get_eval_by_threshold(y_test, pred_proba[:, 1].reshape(-1, 1), thresholds)"
      ],
      "metadata": {
        "colab": {
          "base_uri": "https://localhost:8080/"
        },
        "id": "-708JJTQYA4U",
        "outputId": "7b444d63-7207-489c-ffa6-a0a6e88f71a5"
      },
      "execution_count": 22,
      "outputs": [
        {
          "output_type": "stream",
          "name": "stdout",
          "text": [
            "임곗값:  0.4\n",
            "오차행렬\n",
            "[[98 20]\n",
            " [10 51]]\n",
            "정확도: 0.8324, 정밀도: 0.7183, 재현율: 0.8361\n",
            "임곗값:  0.45\n",
            "오차행렬\n",
            "[[103  15]\n",
            " [ 12  49]]\n",
            "정확도: 0.8492, 정밀도: 0.7656, 재현율: 0.8033\n",
            "임곗값:  0.5\n",
            "오차행렬\n",
            "[[104  14]\n",
            " [ 13  48]]\n",
            "정확도: 0.8492, 정밀도: 0.7742, 재현율: 0.7869\n",
            "임곗값:  0.55\n",
            "오차행렬\n",
            "[[109   9]\n",
            " [ 15  46]]\n",
            "정확도: 0.8659, 정밀도: 0.8364, 재현율: 0.7541\n",
            "임곗값:  0.6\n",
            "오차행렬\n",
            "[[112   6]\n",
            " [ 16  45]]\n",
            "정확도: 0.8771, 정밀도: 0.8824, 재현율: 0.7377\n"
          ]
        }
      ]
    },
    {
      "cell_type": "code",
      "source": [
        "from sklearn.metrics import precision_recall_curve\n",
        "\n",
        "#레이블 값이 1일 때의 예측 확률을 추출\n",
        "pred_proba_class1 = lr_clf.predict_proba(X_test)[:, 1]\n",
        "\n",
        "#실제값 데이터 세트와 레이블 값이 1일 때의 예측 확률을 precision_recall_curve 인자로 입력\n",
        "precisions, recalls, thresholds = precision_recall_curve(y_test, pred_proba_class1)\n",
        "print('반환된 분류 결정 임곗값 배열의 Shape:', thresholds.shape)\n",
        "\n",
        "#반환된 임곗값 배열 로우가 147건이므로 샘플로 10건만 추출하되, 임곗값을 15step으로 추출\n",
        "thr_index = np.arange(0, thresholds.shape[0], 15)\n",
        "print('샘플 추출을 위한 임계값 배열의 index 10개:', thr_index)\n",
        "print('샘플용 10개의 임곗값: ', np.round(thresholds[thr_index], 2))\n",
        "\n",
        "#15 step 단위로 추출된 임계값에 따른 정밀도와 재현율 값\n",
        "print('샘플 임계값별 정밀도: ', np.round(precisions[thr_index], 3))\n",
        "print('샘플 임계값별 재현율: ', np.round(recalls[thr_index], 3))"
      ],
      "metadata": {
        "colab": {
          "base_uri": "https://localhost:8080/"
        },
        "id": "sHOZ2opBYEa2",
        "outputId": "7fe7f483-106e-46fe-9638-8560d07736fb"
      },
      "execution_count": 23,
      "outputs": [
        {
          "output_type": "stream",
          "name": "stdout",
          "text": [
            "반환된 분류 결정 임곗값 배열의 Shape: (165,)\n",
            "샘플 추출을 위한 임계값 배열의 index 10개: [  0  15  30  45  60  75  90 105 120 135 150]\n",
            "샘플용 10개의 임곗값:  [0.01 0.09 0.11 0.13 0.15 0.23 0.35 0.5  0.63 0.75 0.89]\n",
            "샘플 임계값별 정밀도:  [0.341 0.372 0.415 0.448 0.505 0.585 0.688 0.774 0.913 0.935 0.938]\n",
            "샘플 임계값별 재현율:  [1.    1.    0.967 0.918 0.902 0.902 0.869 0.787 0.689 0.475 0.246]\n"
          ]
        }
      ]
    },
    {
      "cell_type": "code",
      "source": [
        "import matplotlib.pyplot as plt\n",
        "import matplotlib.ticker as ticker\n",
        "%matplotlib inline\n",
        "\n",
        "def precision_recall_curve_plot(y_test, pred_proba_c1):\n",
        "  #threshold ndarray와 이 threshold에 따른 정밀도, 재현율 ndarray 추출\n",
        "  precisions, recalls, thresholds = precision_recall_curve(y_test, pred_proba_c1)\n",
        "\n",
        "  #X축을 threshold값으로 Y축은 정밀도, 재현율 값으로 각각 Plot 수행, 정밀도는 점선으로 표시\n",
        "  plt.figure(figsize=(8, 6))\n",
        "  threshold_boundary = thresholds.shape[0]\n",
        "  plt.plot(thresholds, precisions[0:threshold_boundary], linestyle = '--', label = 'precision')\n",
        "  plt.plot(thresholds, recalls[0:threshold_boundary], label = 'recall')\n",
        "\n",
        "  #threshold 값 X축의 Scale을 0.1 단위로 변경\n",
        "  start, end = plt.xlim()\n",
        "  plt.xticks(np.round(np.arange(start, end, 0.1), 2))\n",
        "\n",
        "  #x축, y축, label과 legend 그리고 grid 설정\n",
        "  plt.xlabel('Threshold value');plt.ylabel('Precision and Recall value')\n",
        "  plt.legend();plt.grid\n",
        "  plt.show()\n",
        "\n",
        "precision_recall_curve_plot(y_test, lr_clf.predict_proba(X_test)[:, 1])"
      ],
      "metadata": {
        "colab": {
          "base_uri": "https://localhost:8080/",
          "height": 507
        },
        "id": "RKZGsWgGYEM-",
        "outputId": "2c2df465-a1c7-4dd1-cfb8-a499891b45ec"
      },
      "execution_count": 24,
      "outputs": [
        {
          "output_type": "display_data",
          "data": {
            "text/plain": [
              "<Figure size 800x600 with 1 Axes>"
            ],
            "image/png": "[encoded data removed]"
          },
          "metadata": {}
        }
      ]
    },
    {
      "cell_type": "markdown",
      "source": [
        "정밀도와 재현율은 상호보완적 평가지표, 따라서 하나가 오르면 하나는 내려가는 게 당연함.  \n",
        ": 정밀도/재현율 TradeOff  \n",
        "사이킷런의 분류 알고리즘은 예측 데이터가 특정 레이블에 속하는지를 계산하기 위해 개별 레이블별 결정 확률을 구하는데, 해당 확률이 큰 레이블값을 `predict()` 메소드의 결과로 내놓음.  \n",
        "=> 그렇다면! 그 확률을 어떻게 볼 수 있나?  \n",
        "==> `predict_proba()`메소드로 확률까지 확인 가능\n",
        "`Binarizer(threshold)` -> 입력값이 threshold값보다 크면 1을 반환, 작으면 0을 반환하는 함수  \n",
        "- 임계값(threshold)가 커지면 정밀도 ⬆️, 재현율 ⬇️\n",
        "- 반대로 작아지면 정밀도 ⬇️, 재현율 ⬆️\n",
        "  \n",
        "  \n",
        "정밀도와 재현율 모두 100%가 되는 방법이 있지만, 그 방법은 그저 극단적인 수치조작을 위한 결과일 뿐 결론적으로 좋은 성능을 기대할 수 없게 됨. 따라서 이를 절충한 평가 지표가 필요하고 이는 아래에서 다룸."
      ],
      "metadata": {
        "id": "J-iiax-OCdfM"
      }
    },
    {
      "cell_type": "markdown",
      "source": [
        "# 📌 3-4. F1 Score"
      ],
      "metadata": {
        "id": "XjnIBNieiZde"
      }
    },
    {
      "cell_type": "code",
      "source": [
        "from sklearn.metrics import f1_score\n",
        "f1 = f1_score(y_test, pred)\n",
        "print('F1 스코어: {0:.4f}'.format(f1))"
      ],
      "metadata": {
        "colab": {
          "base_uri": "https://localhost:8080/"
        },
        "id": "z94KaHKlZBHC",
        "outputId": "e1733f84-a965-4509-b5dc-9fd9583e89b5"
      },
      "execution_count": 25,
      "outputs": [
        {
          "output_type": "stream",
          "name": "stdout",
          "text": [
            "F1 스코어: 0.7805\n"
          ]
        }
      ]
    },
    {
      "cell_type": "code",
      "source": [
        "def get_clf_eval(y_test, pred):\n",
        "  confusion = confusion_matrix(y_test, pred)\n",
        "  accuracy = accuracy_score(y_test, pred)\n",
        "  precision = precision_score(y_test, pred)\n",
        "  recall = recall_score(y_test, pred)\n",
        "  #F1 스코어 추가\n",
        "  f1 = f1_score(y_test, pred)\n",
        "  print('오차행렬')\n",
        "  print(confusion)\n",
        "  #f1 score print 추가\n",
        "  print('정확도: {0:.4f}, 정밀도: {1:.4f}, 재현율: {2:.4f}, F1: {3:.4f}'.format(accuracy, precision, recall, f1))\n",
        "\n",
        "thresholds = [0.4, 0.45, 0.5, 0.55, 0.6]\n",
        "pred_proba = lr_clf.predict_proba(X_test)\n",
        "get_eval_by_threshold(y_test, pred_proba[:, 1].reshape(-1, 1), thresholds)"
      ],
      "metadata": {
        "colab": {
          "base_uri": "https://localhost:8080/"
        },
        "id": "QnNg6Zx2Y_uy",
        "outputId": "956e8a8e-42e7-453b-f174-c54972a0ee75"
      },
      "execution_count": 26,
      "outputs": [
        {
          "output_type": "stream",
          "name": "stdout",
          "text": [
            "임곗값:  0.4\n",
            "오차행렬\n",
            "[[98 20]\n",
            " [10 51]]\n",
            "정확도: 0.8324, 정밀도: 0.7183, 재현율: 0.8361, F1: 0.7727\n",
            "임곗값:  0.45\n",
            "오차행렬\n",
            "[[103  15]\n",
            " [ 12  49]]\n",
            "정확도: 0.8492, 정밀도: 0.7656, 재현율: 0.8033, F1: 0.7840\n",
            "임곗값:  0.5\n",
            "오차행렬\n",
            "[[104  14]\n",
            " [ 13  48]]\n",
            "정확도: 0.8492, 정밀도: 0.7742, 재현율: 0.7869, F1: 0.7805\n",
            "임곗값:  0.55\n",
            "오차행렬\n",
            "[[109   9]\n",
            " [ 15  46]]\n",
            "정확도: 0.8659, 정밀도: 0.8364, 재현율: 0.7541, F1: 0.7931\n",
            "임곗값:  0.6\n",
            "오차행렬\n",
            "[[112   6]\n",
            " [ 16  45]]\n",
            "정확도: 0.8771, 정밀도: 0.8824, 재현율: 0.7377, F1: 0.8036\n"
          ]
        }
      ]
    },
    {
      "cell_type": "markdown",
      "source": [
        "$F1 score = {2(precision*recall)\\over (precision+recall)}$\n",
        "\n",
        "앞선 정밀도와 재현율의 맹점을 극복한 평가지표로 그 둘을 결합한 지표. 정밀도와 재현율 중 어느 한쪽으로 치우치지 않는 수치를 나타낼 때 상대적으로 높은 값을 가짐"
      ],
      "metadata": {
        "id": "E2amVGtrE8Wr"
      }
    },
    {
      "cell_type": "markdown",
      "source": [
        "# 📌 3-5. ROC 곡선과 AUC"
      ],
      "metadata": {
        "id": "fMK11BseiZ3v"
      }
    },
    {
      "cell_type": "code",
      "source": [
        "from sklearn.metrics import roc_curve\n",
        "\n",
        "#레이블 값이 1일 때의 예측 확률을 추출\n",
        "pred_proba_class1 = lr_clf.predict_proba(X_test)[:, 1]\n",
        "\n",
        "fprs, tprs, thresholds = roc_curve(y_test, pred_proba_class1)\n",
        "#반환된 임곗값 배열 로우가 47건이므로 샘플로 10건만 추출하되, 임곗값을 5step으로 추출\n",
        "#thresholds[0]은 max(예측확률)+1로 임의 설정됨. 이를 제외하기 위해 np.arange는 1부터 시작\n",
        "thr_index = np.arange(1, thresholds.shape[0], 5)\n",
        "print('샘플 추출을 위한 임곗값 배열의 index 10개:', thr_index)\n",
        "print('샘플용 10개의 임곗값: ', np.round(thresholds[thr_index], 2))\n",
        "\n",
        "#5step 단위로 추출된 임계값에 따른 FPR, TPR 값\n",
        "print('샘플 임곗값별 FPR: ', np.round(fprs[thr_index], 3))\n",
        "print('샘플 임곗값별 TPR: ', np.round(tprs[thr_index], 3))"
      ],
      "metadata": {
        "colab": {
          "base_uri": "https://localhost:8080/"
        },
        "id": "KKNMsX1KZNYJ",
        "outputId": "59208423-fdad-4d6b-c837-fdeb49cedcb6"
      },
      "execution_count": 27,
      "outputs": [
        {
          "output_type": "stream",
          "name": "stdout",
          "text": [
            "샘플 추출을 위한 임곗값 배열의 index 10개: [ 1  6 11 16 21 26 31 36 41 46 51]\n",
            "샘플용 10개의 임곗값:  [0.97 0.65 0.63 0.56 0.45 0.4  0.35 0.15 0.13 0.11 0.11]\n",
            "샘플 임곗값별 FPR:  [0.    0.017 0.034 0.076 0.127 0.169 0.203 0.466 0.585 0.686 0.797]\n",
            "샘플 임곗값별 TPR:  [0.033 0.639 0.721 0.754 0.803 0.836 0.885 0.902 0.934 0.967 0.984]\n"
          ]
        }
      ]
    },
    {
      "cell_type": "code",
      "source": [
        "def roc_curve_plot(y_test, pred_proba_c1):\n",
        "  #임곗값에 따른 FPR, TPR 값을 반환받음\n",
        "  fprs, tprs, thresholds = roc_curve(y_test, pred_proba_c1)\n",
        "  #ROC 곡선을 그래프 곡선으로 그림\n",
        "  plt.plot(fprs, tprs, label = 'ROC')\n",
        "  #가운데 대각선 직선을 그림\n",
        "  plt.plot([0, 1], [0, 1], 'k--', label = 'Random')\n",
        "\n",
        "  #FPR X축의 Scale을 0.1 단위로 변경, X, Y축 명 설정 등\n",
        "  start, end = plt.xlim()\n",
        "  plt.xticks(np.round(np.arange(start, end, 0.1), 2))\n",
        "  plt.xlim(0, 1);plt.ylim(0, 1)\n",
        "  plt.xlabel('FPR( 1 - Sensitivity )');plt.ylabel('TPR( Recall )')\n",
        "  plt.legend()\n",
        "\n",
        "roc_curve_plot(y_test, pred_proba[:, 1])"
      ],
      "metadata": {
        "colab": {
          "base_uri": "https://localhost:8080/",
          "height": 455
        },
        "id": "tSSCcL4lZSzt",
        "outputId": "50684e3b-05db-4bf6-e77b-0bc508ba72d0"
      },
      "execution_count": 30,
      "outputs": [
        {
          "output_type": "display_data",
          "data": {
            "text/plain": [
              "<Figure size 640x480 with 1 Axes>"
            ],
            "image/png": "[encoded data removed]"
          },
          "metadata": {}
        }
      ]
    },
    {
      "cell_type": "code",
      "source": [
        "from sklearn.metrics import roc_auc_score\n",
        "\n",
        "pred = lr_clf.predict(X_test)\n",
        "roc_score = roc_auc_score(y_test, pred)\n",
        "print('ROC AUC 값: {0:.4f}'.format(roc_score))"
      ],
      "metadata": {
        "colab": {
          "base_uri": "https://localhost:8080/"
        },
        "id": "Fwck1hFbZSmw",
        "outputId": "ed2f23b3-eb71-49f6-ceee-c3766927fd4c"
      },
      "execution_count": 31,
      "outputs": [
        {
          "output_type": "stream",
          "name": "stdout",
          "text": [
            "ROC AUC 값: 0.8341\n"
          ]
        }
      ]
    },
    {
      "cell_type": "code",
      "source": [
        "def get_clf_eval(y_test, pred=None, pred_proba=None):\n",
        "  confusion = confusion_matrix(y_test, pred)\n",
        "  accuracy = accuracy_score(y_test, pred)\n",
        "  precision = precision_score(y_test, pred)\n",
        "  recall = recall_score(y_test, pred)\n",
        "  f1 = f1_score(y_test, pred)\n",
        "  #ROC-AUC 추가\n",
        "  roc_auc = roc_auc_score(y_test, pred_proba)\n",
        "  print('오차행렬')\n",
        "  print(confusion)\n",
        "  #ROC-AUC print 추가\n",
        "  print('정확도: {0:.4f}, 정밀도: {1:.4f}, 재현율: {2:.4f}, F1: {3:.4f}, AUC: {4:.4f}'.format(accuracy, precision, recall, f1, roc_auc))"
      ],
      "metadata": {
        "id": "_LIHZuv4i5Pn"
      },
      "execution_count": 32,
      "outputs": []
    },
    {
      "cell_type": "markdown",
      "source": [
        "ROC 곡선 : FPR이 변할 때 TPR이 어떻게 변하는 지를 나타낸 곡선\n",
        "- TPR : 재현율, 민감도, 실제값 1이 정확히 예측되어야 하는 수준\n",
        "- TNR : True Negative Rate, 특이성, 실제값 0이 정확히 예측되어야하는 수준 = TN/(FP+TN)\n",
        "- FPR을 0에서 1까지 변경해가면서 TPR의 변화 값을 구하는데 이 때 곡선을 그리면 그게 ROC Curve\n",
        "- AUC는 위에서 그린 ROC Curve의 밑의 면적으로 최댓값은 1\n"
      ],
      "metadata": {
        "id": "5BQHMVdEFuLj"
      }
    },
    {
      "cell_type": "code",
      "source": [],
      "metadata": {
        "id": "2XGx6HzWH1ZF"
      },
      "execution_count": null,
      "outputs": []
    }
  ]
}