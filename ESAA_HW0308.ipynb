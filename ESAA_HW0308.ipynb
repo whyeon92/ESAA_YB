{
  "nbformat": 4,
  "nbformat_minor": 0,
  "metadata": {
    "colab": {
      "provenance": []
    },
    "kernelspec": {
      "name": "python3",
      "display_name": "Python 3"
    },
    "language_info": {
      "name": "python"
    }
  },
  "cells": [
    {
      "cell_type": "markdown",
      "source": [
        "# 📌1.1 머신러닝의 개념"
      ],
      "metadata": {
        "id": "6FuNeDHF_Ff1"
      }
    },
    {
      "cell_type": "markdown",
      "source": [
        "### **머신러닝**: 데이터를 기반으로 패턴을 학습하고 결과를 예측하는 알고리즘 기법\n",
        "\n",
        "기존에 존재하던 복잡한 소스코드들의 문제를 해결\n",
        "- 지도학습(분류, 회귀, 추천 시스템, 시각/음성 감지/인지, 텍스트 분석 NLP)\n",
        "- 비지도학습(클러스터링, 차원 축소)\n",
        "- 강화학습  \n",
        "\n",
        "데이터에 매우 의존적 ->좋은 품질의 데이터를 갖추는 것이 중요"
      ],
      "metadata": {
        "id": "X2ky5Kpm_3I8"
      }
    },
    {
      "cell_type": "markdown",
      "source": [
        "### R VS Python?\n",
        "| R | Python |\n",
        "| ------------ | ------------- |\n",
        "| 통계 전용 | 개발용 -> 여기저기 다 쓰임 |\n",
        "| 다수의 통계 패키지 | 다수의 딥러닝 패키지 |  \n",
        "\n",
        "굳이 비교하자면 이렇고, 파이썬이 전반적으로 더 많이 사용되고 오픈된 패키지가 많음.  \n",
        " -> 여기선 파이썬을 쓰자~\n"
      ],
      "metadata": {
        "id": "A8DvPUJGvFKq"
      }
    },
    {
      "cell_type": "markdown",
      "source": [
        "# 📌1.2 파이썬 머신러닝 생태계를 구성하는 주요 패키지"
      ],
      "metadata": {
        "id": "AVcWhWzixzqp"
      }
    },
    {
      "cell_type": "markdown",
      "source": [
        "머신러닝 -> 사이킷런(sklearn), 텐서플로(tensorflow), 케라스(keras)  \n",
        "행렬/선형대수/통계 -> Numpy, Scipy  \n",
        "데이터 핸들링 -> Pandas  \n",
        "시각화(그래프) -> matplotlib, seaborn\n"
      ],
      "metadata": {
        "id": "hKoJDDRI25UH"
      }
    },
    {
      "cell_type": "markdown",
      "source": [
        "구글 코랩 사용으로 교재 p.7~12 내용은 생략했습니다."
      ],
      "metadata": {
        "id": "Drm6oo3-ZVUn"
      }
    },
    {
      "cell_type": "markdown",
      "source": [
        "# 📌1.3 넘파이"
      ],
      "metadata": {
        "id": "YcCFsEn__A9o"
      }
    },
    {
      "cell_type": "markdown",
      "source": [
        "Numerical Python  , 선형대수 기반의 프로그램 지원 패키지\n"
      ],
      "metadata": {
        "id": "-PbYMQhu5tXb"
      }
    },
    {
      "cell_type": "markdown",
      "source": [
        "### 넘파이 ndarray 개요"
      ],
      "metadata": {
        "id": "XqQzNkiZOpzb"
      }
    },
    {
      "cell_type": "code",
      "source": [
        "import numpy as np"
      ],
      "metadata": {
        "id": "V0a2N06N_EtA"
      },
      "execution_count": 1,
      "outputs": []
    },
    {
      "cell_type": "code",
      "source": [
        "array1 = np.array([1, 2, 3])\n",
        "print('array1 type: ', type(array1))\n",
        "print('array1 array 형태: ', array1.shape)\n",
        "\n",
        "array2 = np.array([[1, 2, 3],\n",
        "                   [2, 3, 4]])\n",
        "print('array2 type: ', type(array2))\n",
        "print('array2 array 형태: ', array2.shape)\n",
        "\n",
        "array3 = np.array([[1, 2, 3]])\n",
        "print('array3 type: ', type(array3))\n",
        "print('array3 array 형태: ', array3.shape)"
      ],
      "metadata": {
        "colab": {
          "base_uri": "https://localhost:8080/"
        },
        "id": "YF-AUTfU_eU2",
        "outputId": "43c01b19-4d73-48fa-db09-178e6e4a524e"
      },
      "execution_count": 2,
      "outputs": [
        {
          "output_type": "stream",
          "name": "stdout",
          "text": [
            "array1 type:  <class 'numpy.ndarray'>\n",
            "array1 array 형태:  (3,)\n",
            "array2 type:  <class 'numpy.ndarray'>\n",
            "array2 array 형태:  (2, 3)\n",
            "array3 type:  <class 'numpy.ndarray'>\n",
            "array3 array 형태:  (1, 3)\n"
          ]
        }
      ]
    },
    {
      "cell_type": "code",
      "source": [
        "#문자열 포맷팅 이용, 위에서 생성한 array 차원 확인\n",
        "print('array1: {:0}차원, array2: {:1}차원, array3: {:2}차원'.format(array1.ndim,\n",
        "                                                              array2.ndim, array3.ndim))"
      ],
      "metadata": {
        "colab": {
          "base_uri": "https://localhost:8080/"
        },
        "id": "HSU7LWWoAXut",
        "outputId": "31c5300c-4a4b-4a4d-e78b-72b0c2bf0bdf"
      },
      "execution_count": 3,
      "outputs": [
        {
          "output_type": "stream",
          "name": "stdout",
          "text": [
            "array1: 1차원, array2: 2차원, array3:  2차원\n"
          ]
        }
      ]
    },
    {
      "cell_type": "markdown",
      "source": [
        "- `array`\n",
        " - ndarray 생성\n",
        " - [] 대괄호의 수 -> ndarray의 차원\n",
        "- `shape`\n",
        " - ndarray의 크기를 튜플 형태로 반환\n",
        "- `ndim`\n",
        " - ndarray의 차원 수 반환\n"
      ],
      "metadata": {
        "id": "UeIRifH8_av6"
      }
    },
    {
      "cell_type": "markdown",
      "source": [
        "### ndarray의 데이터 타입"
      ],
      "metadata": {
        "id": "FVyj-uRSPvNd"
      }
    },
    {
      "cell_type": "code",
      "source": [
        "list1 = [1, 2, 3]\n",
        "print(type(list1))\n",
        "array1 = np.array(list1)\n",
        "print(type(array1))\n",
        "print(array1, array1.dtype)"
      ],
      "metadata": {
        "colab": {
          "base_uri": "https://localhost:8080/"
        },
        "id": "7Pvj4LM9BueE",
        "outputId": "fb573106-2f9b-486e-a033-3a37882c5dfb"
      },
      "execution_count": 4,
      "outputs": [
        {
          "output_type": "stream",
          "name": "stdout",
          "text": [
            "<class 'list'>\n",
            "<class 'numpy.ndarray'>\n",
            "[1 2 3] int64\n"
          ]
        }
      ]
    },
    {
      "cell_type": "markdown",
      "source": [
        " *교재에선 int32라고 되어있지만 여기선 64로 되어있어서 찾아보니,  \n",
        " 둘의 차이는 표현가능한 숫자의 범위.  \n",
        " (ex. int 32 -> 2^32개의 정수 표현 가능)"
      ],
      "metadata": {
        "id": "hhtORs5ODtBu"
      }
    },
    {
      "cell_type": "code",
      "source": [
        "list2 = [1, 2, 'test']\n",
        "array2 = np.array(list2)\n",
        "print(array2, array2.dtype)\n",
        "\n",
        "list3 = [1, 2, 3.0]\n",
        "array3 = np.array(list3)\n",
        "print(array3, array3.dtype)"
      ],
      "metadata": {
        "colab": {
          "base_uri": "https://localhost:8080/"
        },
        "id": "cGpoEpQqB-yx",
        "outputId": "2bdec56f-cac8-4984-aa9e-ea1c72fb6b9c"
      },
      "execution_count": 5,
      "outputs": [
        {
          "output_type": "stream",
          "name": "stdout",
          "text": [
            "['1' '2' 'test'] <U21\n",
            "[1. 2. 3.] float64\n"
          ]
        }
      ]
    },
    {
      "cell_type": "code",
      "source": [
        "array_int = np.array([1, 2, 3])\n",
        "array_float = array_int.astype('float64')\n",
        "print(array_float, array_float.astype)\n",
        "\n",
        "array_int1 = array_float.astype('int32')\n",
        "print(array_int1, array_int1.dtype)\n",
        "\n",
        "array_float1 = np.array([1.1, 2.1, 3.1])\n",
        "array_int2 = array_float1.astype('int32')\n",
        "print(array_int2, array_int2.dtype)"
      ],
      "metadata": {
        "colab": {
          "base_uri": "https://localhost:8080/"
        },
        "id": "wtsNHDIzE2zI",
        "outputId": "d3acea60-e85e-4c50-878b-521ab4cf6c3b"
      },
      "execution_count": 8,
      "outputs": [
        {
          "output_type": "stream",
          "name": "stdout",
          "text": [
            "[1. 2. 3.] <built-in method astype of numpy.ndarray object at 0x7f8d052424f0>\n",
            "[1 2 3] int32\n",
            "[1 2 3] int32\n"
          ]
        }
      ]
    },
    {
      "cell_type": "markdown",
      "source": [
        "- `type`\n",
        " - ndarray 그 자체의 타입 반환\n",
        " - 그래서 ndarray에 쓰면 당연히 ndarray라고 반환값 나옴  \n",
        "- `dtype`\n",
        " - ndarray 내부의 데이터 타입 반환  \n",
        "- `astype`\n",
        " - 특정 데이터 타입으로의 변경  \n",
        " - ex) float --astype('int32')--> int32 (소수점 아래 다 떨어짐)"
      ],
      "metadata": {
        "id": "ad5n2dQwBU4w"
      }
    },
    {
      "cell_type": "markdown",
      "source": [
        "*데이터 타입이 섞여있는 경우 데이터 타입이 더 큰 데이터 타입으로 변환되어 사용됨.  \n",
        "-> 그냥 다른 데이터 타입도 표현 가능한 타입이 더 크다고 생각하면 쉬움,  \n",
        "따라서 데이터 타입이 작을 수록 메모리 절약이 가능함  \n",
        "-> str > float > int"
      ],
      "metadata": {
        "id": "Ir7FDpt6BjfN"
      }
    },
    {
      "cell_type": "markdown",
      "source": [
        "### ndarray를 편리하게 생성하기 - arange, zeros, ones"
      ],
      "metadata": {
        "id": "NnodgmAtP88E"
      }
    },
    {
      "cell_type": "code",
      "source": [
        "sequence_array = np.arange(10)\n",
        "print(sequence_array)\n",
        "print(sequence_array.dtype, sequence_array.shape)"
      ],
      "metadata": {
        "colab": {
          "base_uri": "https://localhost:8080/"
        },
        "id": "pA3HEst0E6bU",
        "outputId": "b261d345-4e2f-4d91-ab05-197daec99759"
      },
      "execution_count": 10,
      "outputs": [
        {
          "output_type": "stream",
          "name": "stdout",
          "text": [
            "[0 1 2 3 4 5 6 7 8 9]\n",
            "int64 (10,)\n"
          ]
        }
      ]
    },
    {
      "cell_type": "code",
      "source": [
        "zero_array = np.zeros((3, 2), dtype = 'int32')\n",
        "print(zero_array)\n",
        "print(zero_array.dtype, zero_array.shape)\n",
        "\n",
        "one_array = np.ones((3, 2))\n",
        "print(one_array)\n",
        "print(one_array.dtype, one_array.shape)"
      ],
      "metadata": {
        "colab": {
          "base_uri": "https://localhost:8080/"
        },
        "id": "g-HGuOP5Lw2N",
        "outputId": "e74225e4-b6a6-4d76-d664-63e238f30d35"
      },
      "execution_count": 12,
      "outputs": [
        {
          "output_type": "stream",
          "name": "stdout",
          "text": [
            "[[0 0]\n",
            " [0 0]\n",
            " [0 0]]\n",
            "int32 (3, 2)\n",
            "[[1. 1.]\n",
            " [1. 1.]\n",
            " [1. 1.]]\n",
            "float64 (3, 2)\n"
          ]
        }
      ]
    },
    {
      "cell_type": "markdown",
      "source": [
        "- `arange(n)`\n",
        " - 0부터 (n-1)까지의 수를 1씩 늘려가며 ndarray의 데이터값으로 변환\n",
        " - 함수 인자로 start, stop 값을 지정 가능. (하나만 넣으면 stop 값이라고 인식)  \n",
        " => arange(a, b) : a부터 (b-1)값까지\n",
        " -파이썬 내장함수 `range()`와 유사\n",
        "\n",
        "- `zeros(a, b)`\n",
        " - a행 b열 크기의 모든 element가 0인 ndarray 생성\n",
        " - 기본적으로 dtype은 int32\n",
        "\n",
        "- `ones(a, b)`\n",
        " - a행 b열 크기의 모든 element가 1인 ndarray 생성\n",
        " - 기본적으로 dtype이 float64, 함수에 인자로 dtype = ''를 넣어서 dtype 지정 가능\n",
        "\n"
      ],
      "metadata": {
        "id": "SNub5qhmDdqK"
      }
    },
    {
      "cell_type": "markdown",
      "source": [
        "### ndarray의 차원과 크기를 변경하는 reshape()"
      ],
      "metadata": {
        "id": "_FeESZMrTL14"
      }
    },
    {
      "cell_type": "code",
      "source": [
        "array1 = np.arange(10)\n",
        "print('array1:\\n', array1)\n",
        "\n",
        "array2 = array1.reshape(2, 5)\n",
        "print('array2:\\n', array2)\n",
        "\n",
        "array3 = array1.reshape(5, 2)\n",
        "print('array3:\\n', array3)"
      ],
      "metadata": {
        "colab": {
          "base_uri": "https://localhost:8080/"
        },
        "id": "f_QQYYLuE6Tk",
        "outputId": "b7b4e44c-6875-4a0c-8b6a-790dd7858a77"
      },
      "execution_count": 13,
      "outputs": [
        {
          "output_type": "stream",
          "name": "stdout",
          "text": [
            "array1:\n",
            " [0 1 2 3 4 5 6 7 8 9]\n",
            "array2:\n",
            " [[0 1 2 3 4]\n",
            " [5 6 7 8 9]]\n",
            "array3:\n",
            " [[0 1]\n",
            " [2 3]\n",
            " [4 5]\n",
            " [6 7]\n",
            " [8 9]]\n"
          ]
        }
      ]
    },
    {
      "cell_type": "code",
      "source": [
        "array1.reshape(4, 3)"
      ],
      "metadata": {
        "colab": {
          "base_uri": "https://localhost:8080/",
          "height": 145
        },
        "id": "73Ma4-xGNtuo",
        "outputId": "6d2fab2f-2581-4471-9fb3-b00e1c087a74"
      },
      "execution_count": 14,
      "outputs": [
        {
          "output_type": "error",
          "ename": "ValueError",
          "evalue": "cannot reshape array of size 10 into shape (4,3)",
          "traceback": [
            "\u001b[0;31m---------------------------------------------------------------------------\u001b[0m",
            "\u001b[0;31mValueError\u001b[0m                                Traceback (most recent call last)",
            "\u001b[0;32m<ipython-input-14-28a7a100c135>\u001b[0m in \u001b[0;36m<cell line: 1>\u001b[0;34m()\u001b[0m\n\u001b[0;32m----> 1\u001b[0;31m \u001b[0marray1\u001b[0m\u001b[0;34m.\u001b[0m\u001b[0mreshape\u001b[0m\u001b[0;34m(\u001b[0m\u001b[0;36m4\u001b[0m\u001b[0;34m,\u001b[0m \u001b[0;36m3\u001b[0m\u001b[0;34m)\u001b[0m\u001b[0;34m\u001b[0m\u001b[0;34m\u001b[0m\u001b[0m\n\u001b[0m",
            "\u001b[0;31mValueError\u001b[0m: cannot reshape array of size 10 into shape (4,3)"
          ]
        }
      ]
    },
    {
      "cell_type": "code",
      "source": [
        "array1 = np.arange(10)\n",
        "print(array1)\n",
        "array2 = array1.reshape(-1, 5)\n",
        "print('array2 shape: ', array2.shape)\n",
        "array3 = array1.reshape(5, -1)\n",
        "print('array3 shape: ', array3.shape)"
      ],
      "metadata": {
        "colab": {
          "base_uri": "https://localhost:8080/"
        },
        "id": "BCxh6hdlNyX4",
        "outputId": "16362597-c250-4c3b-beb1-e759922eb00d"
      },
      "execution_count": 15,
      "outputs": [
        {
          "output_type": "stream",
          "name": "stdout",
          "text": [
            "[0 1 2 3 4 5 6 7 8 9]\n",
            "array2 shape:  (2, 5)\n",
            "array3 shape:  (5, 2)\n"
          ]
        }
      ]
    },
    {
      "cell_type": "code",
      "source": [
        "array1 = np.arange(10)\n",
        "array4 = array1.reshape(-1, 4)"
      ],
      "metadata": {
        "colab": {
          "base_uri": "https://localhost:8080/",
          "height": 164
        },
        "id": "MNH6MPikORt0",
        "outputId": "c4ad5119-8bdf-427d-eef6-b704a0f45857"
      },
      "execution_count": 16,
      "outputs": [
        {
          "output_type": "error",
          "ename": "ValueError",
          "evalue": "cannot reshape array of size 10 into shape (4)",
          "traceback": [
            "\u001b[0;31m---------------------------------------------------------------------------\u001b[0m",
            "\u001b[0;31mValueError\u001b[0m                                Traceback (most recent call last)",
            "\u001b[0;32m<ipython-input-16-474c3d9b15cb>\u001b[0m in \u001b[0;36m<cell line: 2>\u001b[0;34m()\u001b[0m\n\u001b[1;32m      1\u001b[0m \u001b[0marray1\u001b[0m \u001b[0;34m=\u001b[0m \u001b[0mnp\u001b[0m\u001b[0;34m.\u001b[0m\u001b[0marange\u001b[0m\u001b[0;34m(\u001b[0m\u001b[0;36m10\u001b[0m\u001b[0;34m)\u001b[0m\u001b[0;34m\u001b[0m\u001b[0;34m\u001b[0m\u001b[0m\n\u001b[0;32m----> 2\u001b[0;31m \u001b[0marray4\u001b[0m \u001b[0;34m=\u001b[0m \u001b[0marray1\u001b[0m\u001b[0;34m.\u001b[0m\u001b[0mreshape\u001b[0m\u001b[0;34m(\u001b[0m\u001b[0;34m-\u001b[0m\u001b[0;36m1\u001b[0m\u001b[0;34m,\u001b[0m \u001b[0;36m4\u001b[0m\u001b[0;34m)\u001b[0m\u001b[0;34m\u001b[0m\u001b[0;34m\u001b[0m\u001b[0m\n\u001b[0m",
            "\u001b[0;31mValueError\u001b[0m: cannot reshape array of size 10 into shape (4)"
          ]
        }
      ]
    },
    {
      "cell_type": "code",
      "source": [
        "array1 = np.arange(8)\n",
        "array3d = array1.reshape((2, 2, 2))\n",
        "print('array3d:\\n', array3d.tolist())\n",
        "\n",
        "#3차원 ndarray를 2차원 ndarray로 변환\n",
        "array5 = array3d.reshape(-1, 1)\n",
        "print('array5:\\n', array5.tolist())\n",
        "print('array5 shape: ', array5.shape)\n",
        "\n",
        "#1차원 ndarray를 2차원 ndarray로 변환\n",
        "array6 = array1.reshape(-1, 1)\n",
        "print('array6:\\n', array6.tolist())\n",
        "print('array6 shape: ', array6.shape)"
      ],
      "metadata": {
        "colab": {
          "base_uri": "https://localhost:8080/"
        },
        "id": "SAN9MwUGOXNm",
        "outputId": "592569c0-f4dd-4daa-f9a6-7e0178b8653c"
      },
      "execution_count": 17,
      "outputs": [
        {
          "output_type": "stream",
          "name": "stdout",
          "text": [
            "array3d:\n",
            " [[[0, 1], [2, 3]], [[4, 5], [6, 7]]]\n",
            "array5:\n",
            " [[0], [1], [2], [3], [4], [5], [6], [7]]\n",
            "array5 shape:  (8, 1)\n",
            "array6:\n",
            " [[0], [1], [2], [3], [4], [5], [6], [7]]\n",
            "array6 shape:  (8, 1)\n"
          ]
        }
      ]
    },
    {
      "cell_type": "markdown",
      "source": [
        "- `reshape(a, b)`\n",
        " - 기존의 ndarray를 a행, b열 shape의 ndarray로 변경\n",
        " - n개의 element가 있을 때 a 혹은 b가 n의 약수가 아니라면 에러가 남.  \n",
        "~당연함. 10개짜리를 어떻게 4*2.5크기로 바꿈? 2.5열? 당연히 안됨.~\n",
        " - `reshape(a, -1)`, `reshape(-1, b)`  \n",
        "   -> element가 n개일 때 각각 a행, (n/a)열 크기의 ndarray, (n/b)행, b열 크기의 ndarray가 됨.\n",
        " -reshape를 사용하면 무조건 2차원의 ndarray가 됨.\n"
      ],
      "metadata": {
        "id": "x9vWIM0EjGq-"
      }
    },
    {
      "cell_type": "markdown",
      "source": [
        "### 넘파이의 ndarray 데이터 세트 선택하기 - 인덱싱(indexing)"
      ],
      "metadata": {
        "id": "wSwQDpxnTXze"
      }
    },
    {
      "cell_type": "markdown",
      "source": [
        "**인덱싱**: ndarray 내의 일부 데이터 세트나 특정 데이터만을 선택  "
      ],
      "metadata": {
        "id": "5wILUMkdSHey"
      }
    },
    {
      "cell_type": "markdown",
      "source": [
        "#### 특정한 데이터만 추출: 원하는 위치의 인덱스 값 지정  "
      ],
      "metadata": {
        "id": "EalfngpUSL_j"
      }
    },
    {
      "cell_type": "code",
      "source": [
        "#1부터 9까지의 1차원 ndarray 생성\n",
        "array1 = np.arange(start = 1, stop = 10)\n",
        "print('array1: ', array1)\n",
        "#index는 0부터 시작하므로 array1[2]는 3번쩨 index 위치의 데이터값을 의미\n",
        "value = array1[2]\n",
        "print('value: ', value)\n",
        "print(type(value))"
      ],
      "metadata": {
        "colab": {
          "base_uri": "https://localhost:8080/"
        },
        "id": "rlWiq4HkQbty",
        "outputId": "9fd81859-73af-4b7d-c18b-c251934fe34c"
      },
      "execution_count": 18,
      "outputs": [
        {
          "output_type": "stream",
          "name": "stdout",
          "text": [
            "array1:  [1 2 3 4 5 6 7 8 9]\n",
            "value:  3\n",
            "<class 'numpy.int64'>\n"
          ]
        }
      ]
    },
    {
      "cell_type": "code",
      "source": [
        "print('맨 뒤의 값: ',array1[-1], '맨 뒤에서 두 번째 값: ', array1[-2])"
      ],
      "metadata": {
        "colab": {
          "base_uri": "https://localhost:8080/"
        },
        "id": "vhXcxCbtR0j5",
        "outputId": "e6a05658-3994-4588-c951-b58f22aadacc"
      },
      "execution_count": 19,
      "outputs": [
        {
          "output_type": "stream",
          "name": "stdout",
          "text": [
            "맨 뒤의 값:  9 맨 뒤에서 두 번째 값:  8\n"
          ]
        }
      ]
    },
    {
      "cell_type": "code",
      "source": [
        "array1[0] = 9\n",
        "array1[8] = 0\n",
        "print('array1: ', array1)"
      ],
      "metadata": {
        "colab": {
          "base_uri": "https://localhost:8080/"
        },
        "id": "DQZ6m-fHS73_",
        "outputId": "0f3c2ce1-f1ba-4dc4-e0ba-431b3e583831"
      },
      "execution_count": 20,
      "outputs": [
        {
          "output_type": "stream",
          "name": "stdout",
          "text": [
            "array1:  [9 2 3 4 5 6 7 8 0]\n"
          ]
        }
      ]
    },
    {
      "cell_type": "code",
      "source": [
        "array1d = np.arange(start = 1, stop = 10)\n",
        "array2d = array1d.reshape(3, 3)\n",
        "print(array2d)\n",
        "\n",
        "print('(row = 0, col = 0) index 가리키는 값: ', array2d[0, 0])\n",
        "print('(row = 0, col = 1) index 가리키는 값: ', array2d[0, 1])\n",
        "print('(row = 1, col = 0) index 가리키는 값: ', array2d[1, 0])\n",
        "print('(row = 2, col = 2) index 가리키는 값: ', array2d[2, 2])"
      ],
      "metadata": {
        "colab": {
          "base_uri": "https://localhost:8080/"
        },
        "id": "9zPBxbW1TChB",
        "outputId": "13b5bf42-b11b-45ef-d63e-2e91d2d3d512"
      },
      "execution_count": 21,
      "outputs": [
        {
          "output_type": "stream",
          "name": "stdout",
          "text": [
            "[[1 2 3]\n",
            " [4 5 6]\n",
            " [7 8 9]]\n",
            "(row = 0, col = 0) index 가리키는 값:  1\n",
            "(row = 0, col = 1) index 가리키는 값:  2\n",
            "(row = 1, col = 0) index 가리키는 값:  4\n",
            "(row = 2, col = 2) index 가리키는 값:  9\n"
          ]
        }
      ]
    },
    {
      "cell_type": "markdown",
      "source": [
        "**파이썬의 인덱스는 0부터 시작**  \n",
        "-> 첫번째 원소를 추출하려면 0을 사용해야함.  \n",
        "`ndarray[a]` -> 앞에서 (a+1)번째 원소  \n",
        "`ndarray[-a]` -> 뒤에서 a번째 원소  \n",
        "`ndarray[a, b]` -> (a+1)번쩨 행, (b+1)번째 열의 원소.    \n",
        "\n"
      ],
      "metadata": {
        "id": "yY_zNlri58JO"
      }
    },
    {
      "cell_type": "markdown",
      "source": [
        "#### 슬라이싱: ':'을 통해 연속된 인덱스 상의 ndarray 추출  \n"
      ],
      "metadata": {
        "id": "RHcmtMk9SZds"
      }
    },
    {
      "cell_type": "code",
      "source": [
        "array1 = np.arange(start = 1, stop = 10)\n",
        "array3 = array1[0:3]\n",
        "print(array3)\n",
        "print(type(array3))"
      ],
      "metadata": {
        "colab": {
          "base_uri": "https://localhost:8080/"
        },
        "id": "UETdLjbCT79u",
        "outputId": "fbee1b2e-cdf4-48d3-c869-123aced84e69"
      },
      "execution_count": 22,
      "outputs": [
        {
          "output_type": "stream",
          "name": "stdout",
          "text": [
            "[1 2 3]\n",
            "<class 'numpy.ndarray'>\n"
          ]
        }
      ]
    },
    {
      "cell_type": "code",
      "source": [
        "array1 = np.arange(start = 1, stop = 10)\n",
        "array4 = array1[:3]\n",
        "print(array4)\n",
        "\n",
        "array5 = array1[3:]\n",
        "print(array5)\n",
        "\n",
        "array6 = array1[:]\n",
        "print(array6)"
      ],
      "metadata": {
        "colab": {
          "base_uri": "https://localhost:8080/"
        },
        "id": "Hjc_PvYoTaAe",
        "outputId": "7f36b19d-575b-4304-ffcd-65b0723be620"
      },
      "execution_count": 23,
      "outputs": [
        {
          "output_type": "stream",
          "name": "stdout",
          "text": [
            "[1 2 3]\n",
            "[4 5 6 7 8 9]\n",
            "[1 2 3 4 5 6 7 8 9]\n"
          ]
        }
      ]
    },
    {
      "cell_type": "code",
      "source": [
        "array1d = np.arange(start = 1, stop = 10)\n",
        "array2d = array1d.reshape(3, 3)\n",
        "print('array2d:\\n', array2d)\n",
        "\n",
        "print('array2d[0:2, 0:2] \\n', array2d[0:2, 0:2])\n",
        "print('array2d[1:3, 0:3] \\n', array2d[1:3, 0:3])\n",
        "print('array2d[1:3, :] \\n', array2d[1:3, :])\n",
        "print('array2d[:, :] \\n', array2d[:, :])\n",
        "print('array2d[:2, 1:] \\n', array2d[:2, 1:])\n",
        "print('array2d[:2, 0] \\n', array2d[:2, 0])"
      ],
      "metadata": {
        "colab": {
          "base_uri": "https://localhost:8080/"
        },
        "id": "yLVxgHNVUixl",
        "outputId": "53d610a1-7672-41c0-c927-cbfda28ed641"
      },
      "execution_count": 24,
      "outputs": [
        {
          "output_type": "stream",
          "name": "stdout",
          "text": [
            "array2d:\n",
            " [[1 2 3]\n",
            " [4 5 6]\n",
            " [7 8 9]]\n",
            "array2d[0:2, 0:2] \n",
            " [[1 2]\n",
            " [4 5]]\n",
            "array2d[1:3, 0:3] \n",
            " [[4 5 6]\n",
            " [7 8 9]]\n",
            "array2d[1:3, :] \n",
            " [[4 5 6]\n",
            " [7 8 9]]\n",
            "array2d[:, :] \n",
            " [[1 2 3]\n",
            " [4 5 6]\n",
            " [7 8 9]]\n",
            "array2d[:2, 1:] \n",
            " [[2 3]\n",
            " [5 6]]\n",
            "array2d[:2, 0] \n",
            " [1 4]\n"
          ]
        }
      ]
    },
    {
      "cell_type": "code",
      "source": [
        "print(array2d[0])\n",
        "print(array2d[1])\n",
        "print('array2d[0] shape: ', array2d[0].shape, 'array2d[1] shape: ', array2d[1].shape)"
      ],
      "metadata": {
        "colab": {
          "base_uri": "https://localhost:8080/"
        },
        "id": "bTTipMDuWv54",
        "outputId": "ce6f6c27-e617-4102-8be4-2b62b211b50e"
      },
      "execution_count": 25,
      "outputs": [
        {
          "output_type": "stream",
          "name": "stdout",
          "text": [
            "[1 2 3]\n",
            "[4 5 6]\n",
            "array2d[0] shape:  (3,) array2d[1] shape:  (3,)\n"
          ]
        }
      ]
    },
    {
      "cell_type": "markdown",
      "source": [
        "`ndarray[a:b]` -> (a+1)번쩨 원소부터 b번째 원소까지.(a<b)  \n",
        "`ndarray[a:-1]` -> (a+1)번쩨 원소부터 마지막 원소까지.   \n",
        "`ndarray[a:]` -> (a+1)번쩨 원소부터 마지막 원소까지.  \n",
        "`ndarray[:b]` ->첫번째 원소부터 b번째 원소까지.  \n",
        "`ndarray[:]` -> 전체 원소"
      ],
      "metadata": {
        "id": "kDjpcgWO-bus"
      }
    },
    {
      "cell_type": "markdown",
      "source": [
        "#### 팬시 인덱싱: 일정한 인덱싱 집합으로 위치 지정  "
      ],
      "metadata": {
        "id": "haaaOF0ySjq5"
      }
    },
    {
      "cell_type": "code",
      "source": [
        "array1d = np.arange(start = 1, stop = 10)\n",
        "array2d = array1d.reshape(3, 3)\n",
        "\n",
        "array3 = array2d[[0, 1], 2]\n",
        "print('array2d[[0, 1], 2] => ', array3.tolist())\n",
        "\n",
        "array4 = array2d[[0, 1], 0:2]\n",
        "print('array2d[[0, 1], 0:2] => ', array4.tolist())\n",
        "\n",
        "array5 = array2d[[0, 1]]\n",
        "print('array2d[[0, 1]] => ', array5.tolist())"
      ],
      "metadata": {
        "colab": {
          "base_uri": "https://localhost:8080/"
        },
        "id": "qbEpLju-XSJc",
        "outputId": "03f1e107-71da-4215-bcab-525d23730abc"
      },
      "execution_count": 26,
      "outputs": [
        {
          "output_type": "stream",
          "name": "stdout",
          "text": [
            "array2d[[0, 1], 2] =>  [3, 6]\n",
            "array2d[[0, 1], 0:2] =>  [[1, 2], [4, 5]]\n",
            "array2d[[0, 1]] =>  [[1, 2, 3], [4, 5, 6]]\n"
          ]
        }
      ]
    },
    {
      "cell_type": "markdown",
      "source": [
        "위의 슬라이싱과 유사, 슬라이싱을 2차원 ndarray에 사용하는 거랑 비슷함."
      ],
      "metadata": {
        "id": "ZYYrTIGKAAV_"
      }
    },
    {
      "cell_type": "markdown",
      "source": [
        "#### 불린 인덱싱: 조건따라 추출"
      ],
      "metadata": {
        "id": "XYs8pMjDSorS"
      }
    },
    {
      "cell_type": "code",
      "source": [
        "array1d = np.arange(start = 1, stop = 10)\n",
        "#[]안에 array1d>5 Boolean indexing을 적용\n",
        "array3 = array1d[array1d>5]\n",
        "print('array1d>5 불린 인덱싱 결과 값: ', array3)"
      ],
      "metadata": {
        "colab": {
          "base_uri": "https://localhost:8080/"
        },
        "id": "_s79QIYZYT9E",
        "outputId": "83bd06f5-0a50-4eb0-e23a-56f281273fb6"
      },
      "execution_count": 27,
      "outputs": [
        {
          "output_type": "stream",
          "name": "stdout",
          "text": [
            "array1d>5 불린 인덱싱 결과 값:  [6 7 8 9]\n"
          ]
        }
      ]
    },
    {
      "cell_type": "code",
      "source": [
        "array1d>5"
      ],
      "metadata": {
        "colab": {
          "base_uri": "https://localhost:8080/"
        },
        "id": "pL8sL2vjYuKM",
        "outputId": "673aa6db-0de2-4e27-c1a9-d9d2919a4cde"
      },
      "execution_count": 28,
      "outputs": [
        {
          "output_type": "execute_result",
          "data": {
            "text/plain": [
              "array([False, False, False, False, False,  True,  True,  True,  True])"
            ]
          },
          "metadata": {},
          "execution_count": 28
        }
      ]
    },
    {
      "cell_type": "code",
      "source": [
        "boolean_indexes = np.array([False, False, False, False, False,  True,  True,  True,  True])\n",
        "array3 = array1d[boolean_indexes]\n",
        "print('불린 인덱스로 필터링 결과: ', array3)"
      ],
      "metadata": {
        "colab": {
          "base_uri": "https://localhost:8080/"
        },
        "id": "7tVVZzPdYxjW",
        "outputId": "8f96ae00-e725-46f6-941a-72cd83e8e5b9"
      },
      "execution_count": 29,
      "outputs": [
        {
          "output_type": "stream",
          "name": "stdout",
          "text": [
            "불린 인덱스로 필터링 결과:  [6 7 8 9]\n"
          ]
        }
      ]
    },
    {
      "cell_type": "code",
      "source": [
        "indexes = np.array([5, 6, 7, 8])\n",
        "array4 = array1d[indexes]\n",
        "print('일반 인덱스로 필터링 결과: ', array4)"
      ],
      "metadata": {
        "colab": {
          "base_uri": "https://localhost:8080/"
        },
        "id": "_X8nfn9GZE24",
        "outputId": "cfdddd56-f7e5-497f-cfc2-1a36870902c2"
      },
      "execution_count": 30,
      "outputs": [
        {
          "output_type": "stream",
          "name": "stdout",
          "text": [
            "일반 인덱스로 필터링 결과:  [6 7 8 9]\n"
          ]
        }
      ]
    },
    {
      "cell_type": "markdown",
      "source": [
        "- `ndarray[조건]`  \n",
        " - 조건문에서 True를 반환하는 인덱스에 해당하는 element들을 반환  \n",
        " - for loop 와 같이 반복문을 사용하지 않고도 조건 필터링 가능."
      ],
      "metadata": {
        "id": "UAAEdgB7AF6P"
      }
    },
    {
      "cell_type": "markdown",
      "source": [
        "### 행렬의 정렬 - sort(), argsort()"
      ],
      "metadata": {
        "id": "sqiOgdpOUisQ"
      }
    },
    {
      "cell_type": "code",
      "source": [
        "org_array = np.array([3, 1, 9, 5])\n",
        "print('원본 행렬: ', org_array)\n",
        "#np.sort()로 정렬\n",
        "sort_array1 = np.sort(org_array)\n",
        "print('np.sort() 호출 후 반환된 정렬 행렬: ', sort_array1)\n",
        "print('np.sort() 호출 후 원본 행렬: ', org_array)\n",
        "#ndarray.sort()로 정렬\n",
        "sort_array2 = org_array.sort()\n",
        "print('org_array.sort() 호출 후 반환된 정렬 행렬: ', sort_array2)\n",
        "print('org_array.sort() 호출 후 원본 행렬: ', org_array)"
      ],
      "metadata": {
        "colab": {
          "base_uri": "https://localhost:8080/"
        },
        "id": "kqcid2l8ZPlE",
        "outputId": "3715f7de-f562-4f0a-964b-747f0679928f"
      },
      "execution_count": 32,
      "outputs": [
        {
          "output_type": "stream",
          "name": "stdout",
          "text": [
            "원본 행렬:  [3 1 9 5]\n",
            "np.sort() 호출 후 반환된 정렬 행렬:  [1 3 5 9]\n",
            "np.sort() 호출 후 원본 행렬:  [3 1 9 5]\n",
            "org_array.sort() 호출 후 반환된 정렬 행렬:  None\n",
            "org_array.sort() 호출 후 원본 행렬:  [1 3 5 9]\n"
          ]
        }
      ]
    },
    {
      "cell_type": "code",
      "source": [
        "sort_array1_desc = np.sort(org_array)[::-1]\n",
        "print('내림차순으로 정렬: ', sort_array1_desc)"
      ],
      "metadata": {
        "colab": {
          "base_uri": "https://localhost:8080/"
        },
        "id": "dbXXB4UcZk4X",
        "outputId": "873d7614-aa9c-4ba2-fd69-958d2f305b75"
      },
      "execution_count": 33,
      "outputs": [
        {
          "output_type": "stream",
          "name": "stdout",
          "text": [
            "내림차순으로 정렬:  [9 5 3 1]\n"
          ]
        }
      ]
    },
    {
      "cell_type": "code",
      "source": [
        "array2d = np.array([[8, 12],\n",
        "                    [7, 1]])\n",
        "sort_array2d_axis0 = np.sort(array2d, axis = 0)\n",
        "print('로우 방향으로 정렬: \\n', sort_array2d_axis0)\n",
        "\n",
        "sort_array2d_axis1 = np.sort(array2d, axis = 1)\n",
        "print('칼럼 방향으로 정렬: \\n', sort_array2d_axis1)"
      ],
      "metadata": {
        "colab": {
          "base_uri": "https://localhost:8080/"
        },
        "id": "hnPGlf2BaHyB",
        "outputId": "1ccfa0d6-04bc-4eba-c0cf-54d57b77c586"
      },
      "execution_count": 34,
      "outputs": [
        {
          "output_type": "stream",
          "name": "stdout",
          "text": [
            "로우 방향으로 정렬: \n",
            " [[ 7  1]\n",
            " [ 8 12]]\n",
            "칼럼 방향으로 정렬: \n",
            " [[ 8 12]\n",
            " [ 1  7]]\n"
          ]
        }
      ]
    },
    {
      "cell_type": "code",
      "source": [
        "org_array = np.array([3, 1, 9, 5])\n",
        "sort_indices = np.argsort(org_array)\n",
        "print(type(sort_indices))\n",
        "print('행렬 정렬 시 원본 행렬의 인덱스: ', sort_indices)"
      ],
      "metadata": {
        "colab": {
          "base_uri": "https://localhost:8080/"
        },
        "id": "IgTCyUMoandU",
        "outputId": "91785da2-34e7-4afc-ba67-a1602421da77"
      },
      "execution_count": 35,
      "outputs": [
        {
          "output_type": "stream",
          "name": "stdout",
          "text": [
            "<class 'numpy.ndarray'>\n",
            "행렬 정렬 시 원본 행렬의 인덱스:  [1 0 3 2]\n"
          ]
        }
      ]
    },
    {
      "cell_type": "code",
      "source": [
        "org_array = np.array([3, 1, 9, 5])\n",
        "sort_indices_desc = np.argsort(org_array)[::-1]\n",
        "print('행렬 내림차순 정렬 시 원본 행렬의 인덱스: ', sort_indices_desc)"
      ],
      "metadata": {
        "colab": {
          "base_uri": "https://localhost:8080/"
        },
        "id": "IpJQF7XOa6U4",
        "outputId": "d7b19e49-a291-4f74-eb1c-14e020903927"
      },
      "execution_count": 36,
      "outputs": [
        {
          "output_type": "stream",
          "name": "stdout",
          "text": [
            "행렬 내림차순 정렬 시 원본 행렬의 인덱스:  [2 3 0 1]\n"
          ]
        }
      ]
    },
    {
      "cell_type": "code",
      "source": [
        "import numpy as np\n",
        "\n",
        "name_array = np.array(['John', 'Mike', 'Sarah', 'Kate', 'Samuel'])\n",
        "score_array = np.array([78, 95, 84, 98, 88])\n",
        "\n",
        "sort_indices_asc = np.argsort(score_array)\n",
        "print('성적 오름차순 정렬 시 score_array의 인덱스: ', sort_indices_asc)\n",
        "print('성적 오름차순으로  name_array의 이름 출력: ', name_array[sort_indices_asc])"
      ],
      "metadata": {
        "colab": {
          "base_uri": "https://localhost:8080/"
        },
        "id": "EgYGi3UybNQt",
        "outputId": "a8716da0-915f-4ad9-a9b4-4b8df65e47b4"
      },
      "execution_count": 37,
      "outputs": [
        {
          "output_type": "stream",
          "name": "stdout",
          "text": [
            "성적 오름차순 정렬 시 score_array의 인덱스:  [0 2 4 1 3]\n",
            "성적 오름차순으로  name_array의 이름 출력:  ['John' 'Sarah' 'Samuel' 'Mike' 'Kate']\n"
          ]
        }
      ]
    },
    {
      "cell_type": "markdown",
      "source": [
        "|기존 행렬|기존 인덱스| => |정렬 후 행렬|정렬 후 인덱스|\n",
        "|----|----|----|----|----|\n",
        "|78|0| => |78|0|\n",
        "|95|1| => |84|2|\n",
        "|84|2| => |88|4|\n",
        "|98|3| => |95|1|\n",
        "|88|4| => |98|3|"
      ],
      "metadata": {
        "id": "rBzAO4lpabqh"
      }
    },
    {
      "cell_type": "markdown",
      "source": [
        "- `np.sort(ndarray, axis = 0)`\n",
        " - 원본 행렬 변경 없이 정렬된 형태 반환,  \n",
        " - axis = 0 -> 로우 방향으로 정렬  \n",
        " - axis = 1 -> 칼럼 방향으로 정렬   \n",
        "  \n",
        "- `ndarray.sort()`\n",
        " - 반환값 없이 원본 행렬 자체를 정렬한 상태로 변경  \n",
        " - 정렬은 모두 오름차순 정렬. 내림차순으로 정렬하기 위해선 [::-1]로 인덱싱  \n",
        "  \n",
        "- `argsort()`\n",
        " - 정렬 행렬의 원본 행렬 인덱스를 ndarray형으로 반환. (이해가 어려우면 위의 예시 참고)  \n",
        " - 내림차순 적용할 시엔 argsort(ndarray)[::-1]"
      ],
      "metadata": {
        "id": "LcNrmCvrUS2y"
      }
    },
    {
      "cell_type": "markdown",
      "source": [
        "### 선형대수 연산 - 행렬 내적과 전치 행렬 구하기"
      ],
      "metadata": {
        "id": "OwntJ0RZXKLq"
      }
    },
    {
      "cell_type": "code",
      "source": [
        "A = np.array([[1, 2, 3],\n",
        "             [4, 5, 6]])\n",
        "B = np.array([[7, 8],\n",
        "              [9, 10],\n",
        "              [11, 12]])\n",
        "\n",
        "dot_product = np.dot(A, B)\n",
        "print('행렬 내적 결과:\\n', dot_product)"
      ],
      "metadata": {
        "colab": {
          "base_uri": "https://localhost:8080/"
        },
        "id": "nQjPilNkcCcC",
        "outputId": "9c54589e-d8fd-4091-b866-0481fee6e437"
      },
      "execution_count": 39,
      "outputs": [
        {
          "output_type": "stream",
          "name": "stdout",
          "text": [
            "행렬 내적 결과:\n",
            " [[ 58  64]\n",
            " [139 154]]\n"
          ]
        }
      ]
    },
    {
      "cell_type": "code",
      "source": [
        "A = np.array([[1, 2],\n",
        "              [3, 4]])\n",
        "transpose_mat = np.transpose(A)\n",
        "print('A의 전치 행렬: \\n', transpose_mat)"
      ],
      "metadata": {
        "colab": {
          "base_uri": "https://localhost:8080/"
        },
        "id": "B4fdoxTYcape",
        "outputId": "3afa9c1d-5cee-42fe-89a6-b7d93e9e56e8"
      },
      "execution_count": 40,
      "outputs": [
        {
          "output_type": "stream",
          "name": "stdout",
          "text": [
            "A의 전치 행렬: \n",
            " [[1 3]\n",
            " [2 4]]\n"
          ]
        }
      ]
    },
    {
      "cell_type": "markdown",
      "source": [
        "행렬내적 -> np.dot(A, B)\n",
        ": A, B의 행렬 내적을 반환  \n",
        "전치행렬 -> np.transpose(A)\n",
        ": A의 전치 행렬 반환"
      ],
      "metadata": {
        "id": "WF9BRU70cCrX"
      }
    }
  ]
}