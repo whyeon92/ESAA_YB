{
  "nbformat": 4,
  "nbformat_minor": 0,
  "metadata": {
    "colab": {
      "provenance": [],
      "authorship_tag": "ABX9TyNlTaE4JT73WASqxMbuS2U4",
      "include_colab_link": true
    },
    "kernelspec": {
      "name": "python3",
      "display_name": "Python 3"
    },
    "language_info": {
      "name": "python"
    }
  },
  "cells": [
    {
      "cell_type": "markdown",
      "metadata": {
        "id": "view-in-github",
        "colab_type": "text"
      },
      "source": [
        "<a href=\"https://colab.research.google.com/github/whyeon92/ESAA_YB/blob/mini_project/ESAA_miniproject2_RF_ver1.ipynb\" target=\"_parent\"><img src=\"https://colab.research.google.com/assets/colab-badge.svg\" alt=\"Open In Colab\"/></a>"
      ]
    },
    {
      "cell_type": "markdown",
      "source": [
        "# 1. 데이터 로딩"
      ],
      "metadata": {
        "id": "idC3eGGS66He"
      }
    },
    {
      "cell_type": "code",
      "execution_count": 1,
      "metadata": {
        "colab": {
          "base_uri": "https://localhost:8080/"
        },
        "id": "VPjYRUTqx7uI",
        "outputId": "21196ed4-364b-40dc-a68e-28e78c162f8d"
      },
      "outputs": [
        {
          "output_type": "stream",
          "name": "stdout",
          "text": [
            "Mounted at /content/gdrive/\n"
          ]
        }
      ],
      "source": [
        "#구글 코랩 환경 사용으로 드라이브 마운트 및 디렉터리 설정\n",
        "from google.colab import drive\n",
        "drive.mount('/content/gdrive/')\n",
        "\n",
        "path = \"/content/gdrive/My Drive/ESAAData/miniproject2 data/\""
      ]
    },
    {
      "cell_type": "code",
      "source": [
        "import pandas as pd\n",
        "import numpy as np"
      ],
      "metadata": {
        "id": "SMn9KbLOYPYH"
      },
      "execution_count": 2,
      "outputs": []
    },
    {
      "cell_type": "code",
      "source": [
        "train = pd.read_csv(path + \"train.csv\")\n",
        "test = pd.read_csv(path + \"test.csv\")\n",
        "smpl_sub = pd.read_csv(path + \"sample_submission.csv\")"
      ],
      "metadata": {
        "id": "0dBhMCRG4EJP"
      },
      "execution_count": 3,
      "outputs": []
    },
    {
      "cell_type": "markdown",
      "source": [
        "# 2. 데이터 전처리"
      ],
      "metadata": {
        "id": "fhHbTXsQ68-C"
      }
    },
    {
      "cell_type": "code",
      "source": [
        "#범주형 변수 type 원핫 인코딩 처리\n",
        "train = pd.get_dummies(train, columns = ['type'], prefix = ['type'], dtype = int)\n",
        "test = pd.get_dummies(test, columns = ['type'], prefix = ['type'], dtype = int)"
      ],
      "metadata": {
        "id": "nruy1MPB7E68"
      },
      "execution_count": 4,
      "outputs": []
    },
    {
      "cell_type": "code",
      "source": [
        "#train 데이터에서 x, y 분할\n",
        "train_x = train.drop(['quality'], axis = 1)\n",
        "train_y = train['quality']"
      ],
      "metadata": {
        "id": "j4MxcXMO4EbB"
      },
      "execution_count": 5,
      "outputs": []
    },
    {
      "cell_type": "markdown",
      "source": [
        "# 3. 랜덤포레스트 모델 생성"
      ],
      "metadata": {
        "id": "L4hBZQtK8G3q"
      }
    },
    {
      "cell_type": "code",
      "source": [
        "from sklearn.ensemble import RandomForestClassifier\n",
        "rf_clf = RandomForestClassifier(random_state = 0)\n",
        "rf_clf.fit(train_x, train_y)\n",
        "pred = rf_clf.predict(test)"
      ],
      "metadata": {
        "id": "iAAogMmk4EgZ"
      },
      "execution_count": 6,
      "outputs": []
    },
    {
      "cell_type": "code",
      "source": [
        "pred"
      ],
      "metadata": {
        "colab": {
          "base_uri": "https://localhost:8080/"
        },
        "id": "yhaP9XQPPMb3",
        "outputId": "f0d0d251-0301-421e-856d-5c5fa22880bd"
      },
      "execution_count": 7,
      "outputs": [
        {
          "output_type": "execute_result",
          "data": {
            "text/plain": [
              "array([6, 6, 6, 5, 6, 6, 6, 6, 6, 6, 6, 5, 7, 6, 6, 5, 6, 6, 6, 5, 6, 7,\n",
              "       5, 7, 6, 5, 5, 5, 5, 5, 7, 6, 5, 6, 6, 6, 5, 5, 6, 6, 6, 5, 6, 5,\n",
              "       6, 6, 5, 6, 4, 6, 5, 5, 6, 4, 5, 6, 6, 5, 5, 6, 5, 6, 6, 6, 6, 6,\n",
              "       5, 5, 6, 5, 5, 5, 5, 6, 6, 5, 6, 6, 6, 7, 6, 6, 5, 5, 6, 5, 5, 5,\n",
              "       6, 6, 6, 6, 6, 6, 6, 7, 6, 6, 6, 6, 5, 6, 6, 5, 6, 6, 6, 6, 7, 5,\n",
              "       7, 6, 6, 5, 5, 6, 6, 7, 6, 6, 6, 5, 6, 6, 5, 5, 6, 6, 6, 7, 5, 5,\n",
              "       5, 5, 5, 6, 6, 7, 5, 5, 5, 6, 6, 5, 5, 5, 7, 6, 6, 6, 6, 8, 6, 5,\n",
              "       6, 5, 6, 5, 6, 5, 5, 6, 6, 6, 6, 5, 5, 6, 5, 6, 5, 5, 6, 5, 6, 6,\n",
              "       6, 5, 6, 5, 6, 6, 7, 7, 5, 6, 6, 6, 5, 6, 6, 6, 6, 6, 6, 6, 6, 5,\n",
              "       5, 5, 6, 6, 6, 6, 5, 5, 6, 6, 6, 6, 7, 5, 5, 5, 6, 6, 6, 6, 6, 6,\n",
              "       6, 6, 6, 6, 7, 6, 6, 5, 6, 5, 6, 7, 7, 6, 6, 6, 5, 6, 6, 7, 6, 6,\n",
              "       6, 6, 7, 6, 6, 7, 6, 7, 5, 6, 6, 7, 6, 6, 6, 7, 6, 6, 7, 5, 5, 7,\n",
              "       5, 5, 6, 5, 6, 6, 6, 5, 5, 5, 6, 5, 7, 7, 5, 6, 6, 6, 6, 5, 7, 7,\n",
              "       6, 6, 6, 6, 5, 5, 5, 6, 5, 7, 8, 6, 5, 7, 7, 6, 5, 5, 6, 7, 5, 7,\n",
              "       5, 5, 6, 5, 6, 5, 6, 6, 5, 5, 6, 6, 5, 5, 6, 5, 5, 6, 5, 6, 6, 5,\n",
              "       6, 6, 7, 5, 5, 6, 5, 6, 6, 6, 5, 6, 6, 6, 5, 6, 5, 6, 5, 6, 5, 6,\n",
              "       5, 6, 6, 5, 6, 6, 6, 6, 5, 6, 6, 7, 7, 6, 5, 5, 7, 6, 6, 6, 5, 5,\n",
              "       6, 5, 5, 6, 6, 6, 7, 6, 7, 7, 5, 6, 6, 5, 6, 5, 7, 5, 7, 6, 5, 6,\n",
              "       6, 7, 7, 5, 7, 6, 6, 6, 7, 6, 6, 6, 6, 6, 6, 5, 6, 5, 6, 6, 6, 6,\n",
              "       5, 5, 7, 6, 5, 6, 5, 6, 6, 6, 5, 5, 7, 6, 5, 6, 7, 5, 6, 5, 5, 5,\n",
              "       5, 7, 6, 6, 6, 6, 5, 5, 5, 6, 6, 7, 5, 6, 6, 5, 7, 5, 6, 5, 5, 6,\n",
              "       5, 5, 5, 5, 6, 6, 6, 5, 5, 5, 5, 6, 5, 6, 6, 8, 7, 6, 6, 7, 6, 5,\n",
              "       6, 5, 5, 6, 5, 6, 7, 6, 5, 7, 5, 6, 6, 5, 6, 6, 6, 6, 6, 7, 6, 5,\n",
              "       6, 7, 6, 6, 5, 5, 6, 6, 6, 5, 6, 7, 6, 5, 5, 5, 5, 7, 6, 5, 6, 6,\n",
              "       6, 6, 5, 5, 6, 5, 7, 6, 6, 6, 5, 5, 6, 5, 6, 6, 6, 6, 6, 5, 5, 6,\n",
              "       6, 6, 6, 6, 5, 6, 5, 5, 5, 6, 5, 6, 5, 6, 7, 7, 6, 7, 6, 5, 6, 5,\n",
              "       5, 7, 6, 5, 6, 5, 5, 5, 6, 6, 5, 5, 6, 7, 6, 7, 5, 7, 7, 5, 7, 6,\n",
              "       5, 5, 6, 6, 5, 6, 6, 7, 6, 7, 5, 6, 5, 5, 7, 6, 8, 5, 6, 6, 6, 6,\n",
              "       5, 6, 6, 6, 6, 6, 6, 6, 5, 6, 5, 6, 5, 6, 5, 5, 6, 5, 5, 7, 5, 6,\n",
              "       8, 5, 5, 6, 6, 5, 6, 6, 5, 5, 6, 5, 6, 5, 6, 7, 6, 5, 6, 6, 6, 5,\n",
              "       7, 5, 6, 5, 6, 5, 6, 5, 6, 5, 6, 5, 5, 7, 6, 5, 5, 6, 7, 7, 7, 6,\n",
              "       7, 5, 7, 8, 6, 6, 5, 6, 7, 5, 5, 6, 6, 6, 6, 6, 5, 6, 7, 5, 6, 6,\n",
              "       5, 6, 5, 6, 5, 5, 6, 5, 6, 5, 7, 6, 5, 6, 6, 6, 5, 6, 8, 6, 5, 6,\n",
              "       6, 4, 7, 6, 5, 7, 5, 5, 7, 6, 5, 7, 6, 5, 6, 6, 6, 5, 6, 6, 7, 6,\n",
              "       5, 5, 6, 5, 5, 5, 6, 7, 5, 7, 6, 6, 5, 5, 6, 7, 6, 6, 5, 5, 5, 6,\n",
              "       5, 6, 6, 5, 6, 6, 6, 5, 6, 5, 6, 5, 5, 5, 5, 5, 5, 5, 5, 6, 6, 6,\n",
              "       6, 6, 7, 6, 6, 5, 6, 5, 5, 5, 7, 6, 5, 6, 5, 7, 7, 6, 6, 6, 5, 6,\n",
              "       7, 5, 6, 6, 6, 5, 6, 5, 6, 5, 8, 6, 6, 5, 6, 6, 6, 6, 6, 6, 7, 6,\n",
              "       6, 7, 5, 5, 5, 6, 6, 5, 6, 5, 7, 7, 6, 6, 5, 7, 5, 6, 5, 6, 6, 6,\n",
              "       5, 6, 5, 6, 6, 5, 6, 6, 6, 7, 5, 6, 7, 7, 7, 7, 5, 5, 6, 6, 6, 6,\n",
              "       5, 7, 5, 5, 5, 6, 5, 6, 7, 5, 5, 6, 6, 5, 5, 5, 5, 7, 6, 6, 6, 6,\n",
              "       5, 7, 6, 6, 5, 7, 5, 6, 6, 6, 5, 6, 6, 7, 7, 6, 5, 5, 6, 5, 6, 6,\n",
              "       6, 5, 6, 5, 6, 6, 5, 5, 5, 6, 5, 5, 5, 6, 4, 7, 5, 6, 6, 5, 8, 6,\n",
              "       6, 5, 6, 6, 6, 8, 5, 6, 5, 7, 6, 7, 6, 6, 5, 5, 5, 5, 6, 5, 5, 6,\n",
              "       5, 7, 6, 6, 7, 6, 6, 5, 7, 6, 6, 6, 5, 6, 6, 5, 5, 6, 6, 5, 5, 5,\n",
              "       6, 6, 6, 6, 6, 6, 6, 5, 6, 6])"
            ]
          },
          "metadata": {},
          "execution_count": 7
        }
      ]
    },
    {
      "cell_type": "markdown",
      "source": [
        "# 4. GridSearch 하이퍼 파라미터 튜닝"
      ],
      "metadata": {
        "id": "z9ZQKa_88JQ4"
      }
    },
    {
      "cell_type": "markdown",
      "source": [
        "랜덤 포레스트의 경우 그리드서치를 수행해서 하이퍼 파라미터 튜닝을 진행시켜도 크게 성능 향상이 되지 않기 때문에 후보군을 크게 잡진 않음"
      ],
      "metadata": {
        "id": "x6JiJod0OPcE"
      }
    },
    {
      "cell_type": "code",
      "source": [
        "from sklearn.model_selection import GridSearchCV\n",
        "\n",
        "params = {\n",
        "    'n_estimators':[200, 300, 400, 500, 600],\n",
        "    'max_depth': [8, 12, 16, 24, 30],\n",
        "    'min_samples_split': [2, 4, 8, 16]\n",
        "}\n",
        "\n",
        "rf_grid = RandomForestClassifier(random_state = 0, n_jobs = -1)\n",
        "grid_cv = GridSearchCV(rf_grid, param_grid = params, cv = 5, n_jobs = -1, refit=True)\n",
        "grid_cv.fit(train_x, train_y)\n",
        "\n",
        "print('최적 하이퍼 파라미터:\\n', grid_cv.best_params_)\n",
        "print('최고 예측 정확도: {0:.4f}'.format(grid_cv.best_score_))"
      ],
      "metadata": {
        "colab": {
          "base_uri": "https://localhost:8080/"
        },
        "id": "ESDf3Ev64E2h",
        "outputId": "ade5e82e-5e73-4220-8deb-7fa0ed91a26f"
      },
      "execution_count": 14,
      "outputs": [
        {
          "output_type": "stream",
          "name": "stdout",
          "text": [
            "최적 하이퍼 파라미터:\n",
            " {'max_depth': 30, 'min_samples_split': 2, 'n_estimators': 500}\n",
            "최고 예측 정확도: 0.6687\n"
          ]
        }
      ]
    },
    {
      "cell_type": "markdown",
      "source": [
        "27분 소요"
      ],
      "metadata": {
        "id": "h7wiTY3Qg11P"
      }
    },
    {
      "cell_type": "code",
      "source": [
        "pred_grid_rf = grid_cv.predict(test)\n",
        "pred_grid_rf"
      ],
      "metadata": {
        "colab": {
          "base_uri": "https://localhost:8080/"
        },
        "id": "V6vq3KGzc-5S",
        "outputId": "b7e524ce-254e-41d1-91b2-51953979b81d"
      },
      "execution_count": 15,
      "outputs": [
        {
          "output_type": "execute_result",
          "data": {
            "text/plain": [
              "array([6, 5, 6, 5, 6, 6, 6, 6, 6, 6, 6, 5, 7, 6, 6, 5, 6, 6, 6, 5, 6, 6,\n",
              "       5, 7, 6, 5, 5, 5, 6, 5, 7, 6, 5, 6, 6, 6, 5, 5, 6, 6, 6, 5, 6, 5,\n",
              "       6, 6, 5, 6, 4, 6, 5, 5, 6, 4, 5, 6, 6, 5, 5, 6, 5, 6, 6, 6, 6, 6,\n",
              "       5, 5, 6, 5, 5, 5, 5, 6, 6, 5, 6, 6, 6, 7, 6, 6, 5, 5, 6, 6, 5, 5,\n",
              "       6, 6, 6, 6, 6, 6, 6, 7, 6, 6, 6, 6, 5, 6, 6, 5, 6, 6, 6, 6, 7, 5,\n",
              "       6, 6, 6, 5, 5, 6, 6, 7, 7, 6, 6, 5, 6, 7, 5, 5, 6, 6, 6, 7, 5, 5,\n",
              "       6, 5, 5, 6, 6, 7, 5, 5, 5, 6, 6, 5, 5, 5, 7, 6, 7, 6, 6, 8, 6, 5,\n",
              "       6, 5, 6, 6, 6, 5, 5, 6, 6, 6, 6, 5, 5, 6, 5, 6, 5, 5, 6, 5, 6, 6,\n",
              "       6, 5, 6, 6, 6, 6, 7, 7, 5, 6, 6, 6, 5, 6, 6, 6, 6, 6, 6, 6, 7, 5,\n",
              "       5, 5, 6, 6, 6, 6, 5, 5, 6, 6, 6, 6, 7, 5, 5, 5, 6, 6, 6, 6, 6, 7,\n",
              "       6, 6, 6, 6, 7, 6, 6, 5, 6, 5, 6, 7, 7, 6, 6, 6, 5, 6, 6, 7, 6, 6,\n",
              "       6, 6, 7, 6, 6, 6, 6, 7, 5, 6, 6, 7, 6, 6, 6, 7, 6, 6, 7, 6, 5, 7,\n",
              "       5, 5, 6, 5, 6, 6, 6, 5, 5, 5, 6, 5, 7, 7, 5, 6, 6, 6, 6, 5, 7, 7,\n",
              "       5, 6, 6, 6, 5, 5, 5, 6, 5, 7, 8, 6, 5, 7, 6, 6, 5, 5, 6, 7, 6, 7,\n",
              "       5, 5, 6, 5, 6, 5, 6, 6, 5, 5, 6, 6, 5, 5, 6, 5, 5, 6, 5, 6, 6, 5,\n",
              "       6, 7, 7, 5, 5, 6, 5, 6, 6, 6, 5, 6, 6, 6, 5, 6, 6, 6, 5, 6, 5, 6,\n",
              "       5, 6, 6, 5, 6, 6, 6, 6, 5, 6, 6, 7, 7, 6, 5, 5, 7, 6, 6, 6, 5, 5,\n",
              "       6, 5, 5, 6, 6, 6, 7, 6, 7, 7, 5, 6, 6, 5, 6, 5, 7, 5, 7, 6, 5, 6,\n",
              "       5, 7, 7, 5, 7, 6, 6, 6, 7, 6, 6, 6, 6, 6, 6, 5, 6, 5, 6, 6, 6, 6,\n",
              "       5, 5, 7, 6, 5, 6, 5, 6, 6, 6, 5, 5, 7, 5, 5, 6, 7, 5, 6, 5, 5, 5,\n",
              "       5, 7, 6, 6, 6, 6, 5, 5, 5, 6, 6, 7, 5, 6, 6, 5, 7, 5, 6, 5, 5, 6,\n",
              "       5, 6, 5, 5, 6, 6, 6, 5, 5, 5, 5, 6, 5, 6, 6, 8, 7, 6, 6, 7, 6, 5,\n",
              "       6, 5, 5, 6, 5, 6, 7, 6, 5, 7, 5, 6, 6, 5, 6, 6, 6, 6, 6, 7, 6, 5,\n",
              "       6, 7, 6, 6, 5, 5, 6, 6, 6, 5, 6, 6, 6, 5, 5, 5, 5, 7, 6, 5, 6, 6,\n",
              "       6, 6, 5, 5, 6, 5, 6, 6, 6, 6, 5, 5, 6, 5, 7, 6, 6, 6, 6, 5, 6, 6,\n",
              "       6, 6, 6, 6, 5, 6, 5, 5, 5, 6, 5, 5, 6, 6, 7, 6, 6, 7, 6, 5, 6, 5,\n",
              "       5, 7, 6, 5, 6, 5, 5, 5, 6, 6, 5, 5, 6, 7, 6, 7, 5, 7, 7, 5, 7, 6,\n",
              "       5, 5, 6, 6, 6, 6, 6, 7, 6, 7, 5, 6, 5, 5, 7, 6, 8, 5, 6, 6, 6, 6,\n",
              "       5, 6, 6, 6, 6, 6, 6, 6, 5, 6, 5, 6, 5, 6, 5, 5, 6, 5, 5, 7, 5, 6,\n",
              "       6, 5, 5, 6, 6, 5, 6, 6, 6, 5, 6, 5, 6, 5, 6, 7, 6, 5, 6, 6, 6, 5,\n",
              "       7, 5, 6, 5, 6, 6, 6, 5, 6, 5, 6, 5, 6, 7, 5, 5, 5, 6, 7, 7, 7, 6,\n",
              "       7, 5, 6, 8, 6, 6, 5, 6, 7, 5, 5, 6, 6, 6, 6, 6, 5, 6, 6, 5, 6, 6,\n",
              "       5, 6, 5, 6, 5, 5, 6, 5, 6, 5, 7, 6, 5, 6, 6, 6, 5, 6, 8, 6, 5, 6,\n",
              "       6, 4, 7, 6, 5, 7, 5, 5, 7, 6, 5, 7, 6, 5, 6, 6, 6, 5, 6, 6, 7, 6,\n",
              "       5, 5, 6, 5, 5, 6, 6, 7, 5, 7, 6, 6, 5, 5, 6, 7, 6, 6, 5, 6, 5, 6,\n",
              "       5, 6, 6, 5, 6, 6, 6, 5, 6, 5, 6, 5, 5, 5, 5, 5, 5, 5, 5, 6, 6, 6,\n",
              "       6, 6, 7, 6, 6, 5, 6, 5, 5, 5, 6, 6, 5, 6, 5, 7, 7, 6, 6, 6, 5, 6,\n",
              "       7, 5, 6, 6, 6, 5, 6, 5, 6, 5, 8, 6, 6, 5, 6, 6, 6, 6, 6, 6, 7, 6,\n",
              "       6, 7, 5, 5, 5, 6, 6, 5, 6, 5, 7, 7, 6, 6, 5, 7, 5, 6, 5, 6, 6, 6,\n",
              "       5, 6, 5, 6, 5, 5, 6, 6, 6, 7, 5, 6, 7, 7, 7, 7, 5, 5, 6, 6, 6, 6,\n",
              "       5, 7, 5, 5, 5, 6, 5, 6, 7, 5, 5, 6, 6, 5, 5, 5, 5, 7, 6, 6, 6, 6,\n",
              "       5, 7, 6, 6, 6, 7, 5, 6, 6, 6, 5, 6, 6, 7, 7, 6, 5, 5, 6, 5, 6, 6,\n",
              "       6, 5, 6, 5, 6, 6, 5, 5, 6, 6, 5, 6, 5, 6, 4, 6, 5, 6, 6, 5, 8, 6,\n",
              "       6, 5, 6, 6, 6, 8, 6, 6, 5, 6, 6, 7, 6, 6, 5, 5, 5, 5, 6, 5, 5, 6,\n",
              "       5, 7, 6, 6, 7, 6, 6, 5, 7, 6, 6, 6, 6, 6, 6, 5, 5, 6, 6, 5, 5, 5,\n",
              "       6, 6, 6, 6, 7, 6, 6, 5, 6, 6])"
            ]
          },
          "metadata": {},
          "execution_count": 15
        }
      ]
    },
    {
      "cell_type": "code",
      "source": [
        "from sklearn.model_selection import GridSearchCV\n",
        "\n",
        "params = {\n",
        "    'n_estimators':[200, 300, 400, 500, 600],\n",
        "    'max_depth': [8, 12, 16, 24, 30],\n",
        "    'min_samples_split': [2, 4, 8, 16]\n",
        "}\n",
        "\n",
        "rf_grid2 = RandomForestClassifier(n_jobs = -1)\n",
        "grid_cv2 = GridSearchCV(rf_grid2, param_grid = params, cv = 5, n_jobs = -1, refit=True)\n",
        "grid_cv2.fit(train_x, train_y)\n",
        "\n",
        "print('최적 하이퍼 파라미터:\\n', grid_cv2.best_params_)\n",
        "print('최고 예측 정확도: {0:.4f}'.format(grid_cv2.best_score_))"
      ],
      "metadata": {
        "colab": {
          "base_uri": "https://localhost:8080/"
        },
        "id": "ixbqG-RFzUQW",
        "outputId": "c9b0e403-1a2a-4b5e-d06c-1919b484da68"
      },
      "execution_count": 27,
      "outputs": [
        {
          "output_type": "stream",
          "name": "stdout",
          "text": [
            "최적 하이퍼 파라미터:\n",
            " {'max_depth': 30, 'min_samples_split': 2, 'n_estimators': 500}\n",
            "최고 예측 정확도: 0.6691\n"
          ]
        }
      ]
    },
    {
      "cell_type": "markdown",
      "source": [
        "혹시 몰라서 랜덤스테이트 지정 안하고 한 번 더 해봄"
      ],
      "metadata": {
        "id": "YCvlnXSNDhss"
      }
    },
    {
      "cell_type": "markdown",
      "source": [
        "# 5. SMOTE 데이터 모델 생성"
      ],
      "metadata": {
        "id": "H7WBEtzA8O6t"
      }
    },
    {
      "cell_type": "code",
      "source": [
        "train_y.value_counts()"
      ],
      "metadata": {
        "colab": {
          "base_uri": "https://localhost:8080/"
        },
        "id": "17i9IEg_4E9H",
        "outputId": "8d1193f8-148d-412f-e3b0-c20053b838d4"
      },
      "execution_count": 9,
      "outputs": [
        {
          "output_type": "execute_result",
          "data": {
            "text/plain": [
              "quality\n",
              "6    2416\n",
              "5    1788\n",
              "7     924\n",
              "4     186\n",
              "8     152\n",
              "3      26\n",
              "9       5\n",
              "Name: count, dtype: int64"
            ]
          },
          "metadata": {},
          "execution_count": 9
        }
      ]
    },
    {
      "cell_type": "markdown",
      "source": [
        "레이블 불균형 -> SMOTE 적용"
      ],
      "metadata": {
        "id": "lpyuCsiVDpu1"
      }
    },
    {
      "cell_type": "code",
      "source": [
        "from imblearn.over_sampling import SMOTE\n",
        "\n",
        "smote = SMOTE(k_neighbors = 4, random_state = 0)\n",
        "X_train_over, y_train_over = smote.fit_resample(train_x, train_y)\n",
        "print('SMOTE 적용 전 학습용 피처/레이블 데이터 세트: ', train_x.shape, train_y.shape)\n",
        "print('SMOTE 적용 후 학습용 피처/레이블 데이터 세트: ', X_train_over.shape, y_train_over.shape)\n",
        "print('SMOTE 적용 후 레이블 값 분포: \\n', pd.Series(y_train_over).value_counts())"
      ],
      "metadata": {
        "colab": {
          "base_uri": "https://localhost:8080/"
        },
        "id": "f61AzJR14FAR",
        "outputId": "87ecaf22-7fcd-49c3-e56e-2d5ef3595311"
      },
      "execution_count": 24,
      "outputs": [
        {
          "output_type": "stream",
          "name": "stdout",
          "text": [
            "SMOTE 적용 전 학습용 피처/레이블 데이터 세트:  (5497, 14) (5497,)\n",
            "SMOTE 적용 후 학습용 피처/레이블 데이터 세트:  (16912, 14) (16912,)\n",
            "SMOTE 적용 후 레이블 값 분포: \n",
            " quality\n",
            "5    2416\n",
            "6    2416\n",
            "7    2416\n",
            "8    2416\n",
            "4    2416\n",
            "3    2416\n",
            "9    2416\n",
            "Name: count, dtype: int64\n"
          ]
        }
      ]
    },
    {
      "cell_type": "code",
      "source": [
        "params = {\n",
        "    'n_estimators':[200, 300, 400, 500, 600],\n",
        "    'max_depth': [8, 12, 16, 24, 30],\n",
        "    'min_samples_split': [2, 4, 8, 16]\n",
        "}\n",
        "\n",
        "rf_smote = RandomForestClassifier(random_state = 0, n_jobs = -1)\n",
        "grid_smote = GridSearchCV(rf_smote, param_grid = params, cv = 5, n_jobs = -1, refit=True)\n",
        "grid_smote.fit(X_train_over, y_train_over)\n",
        "\n",
        "print('최적 하이퍼 파라미터:\\n', grid_smote.best_params_)\n",
        "print('최고 예측 정확도: {0:.4f}'.format(grid_smote.best_score_))"
      ],
      "metadata": {
        "colab": {
          "base_uri": "https://localhost:8080/"
        },
        "id": "9Q0DNRWB4FRb",
        "outputId": "92662509-c8fb-4318-f061-1a3299616dd4"
      },
      "execution_count": 26,
      "outputs": [
        {
          "output_type": "stream",
          "name": "stderr",
          "text": [
            "/usr/local/lib/python3.10/dist-packages/joblib/externals/loky/process_executor.py:752: UserWarning: A worker stopped while some jobs were given to the executor. This can be caused by a too short worker timeout or by a memory leak.\n",
            "  warnings.warn(\n"
          ]
        },
        {
          "output_type": "stream",
          "name": "stdout",
          "text": [
            "최적 하이퍼 파라미터:\n",
            " {'max_depth': 30, 'min_samples_split': 2, 'n_estimators': 300}\n",
            "최고 예측 정확도: 0.8266\n"
          ]
        }
      ]
    },
    {
      "cell_type": "markdown",
      "source": [
        "1시간 42분 8초 걸림\n",
        "확실히 스모트가 효과있다고 볼 수 있는듯!"
      ],
      "metadata": {
        "id": "RCwicnBF8MhE"
      }
    },
    {
      "cell_type": "code",
      "source": [],
      "metadata": {
        "id": "TP0qi0Vm8mY-"
      },
      "execution_count": null,
      "outputs": []
    }
  ]
}